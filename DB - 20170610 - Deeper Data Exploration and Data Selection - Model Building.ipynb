{
 "cells": [
  {
   "cell_type": "markdown",
   "metadata": {},
   "source": [
    "# Some deeper Data Exploration and Data Selection\n",
    "This notebook takes a deeper look at the Mercedes-Benz Kaggle data. Competion @: https://www.kaggle.com/c/mercedes-benz-greener-manufacturing \n",
    "Use of data subject to conditions mentioned in above link.\n",
    "After initial Exploration and crude experimenting with models, this notebook looks at the data from a different point of view: The y variable is treated as the average per feature, so the actual time would be y * qty_features. In this notebook, we'll predict this y_actual and then process it to get the y per feature. Further, we'll have a look at the correlation of features, trying to reduce the quantity of features to consider. For this we'll start with a sub-set of the categorical data, and add the out of the 40 lowest correlation factor features the 4 that create the highest rating. remove those 4 out of the pool and repeat until no more improvement can be observed. I'd expect the maximum number to be either around 80 or 120, based on first crude model explorations."
   ]
  },
  {
   "cell_type": "code",
   "execution_count": 1,
   "metadata": {
    "collapsed": false
   },
   "outputs": [],
   "source": [
    "%matplotlib inline\n",
    "import numpy as np\n",
    "import pandas as pd\n",
    "import re\n",
    "import seaborn as sns\n",
    "import operator\n",
    "import string\n",
    "from itertools import combinations\n",
    "from matplotlib import pyplot as plt\n",
    "from sklearn.model_selection import train_test_split, cross_val_score\n",
    "from sklearn.linear_model import LinearRegression, RidgeCV, LassoCV, ElasticNetCV\n",
    "from sklearn.metrics import r2_score\n",
    "from sklearn import svm\n",
    "from sklearn.ensemble import RandomForestRegressor\n",
    "#from sklearn.decomposition import PCA\n",
    "#from sklearn.neural_network import MLPRegressor\n",
    "#from IPython.display import clear_output\n"
   ]
  },
  {
   "cell_type": "markdown",
   "metadata": {},
   "source": [
    "## 1. Load Data Sets"
   ]
  },
  {
   "cell_type": "code",
   "execution_count": 2,
   "metadata": {
    "collapsed": true
   },
   "outputs": [],
   "source": [
    "df_train = pd.read_csv('../data/train.csv').drop(['ID'],1).fillna(0)\n",
    "#df_train = df_train[df_train['y'] < 200] # drop one outlier data (we'll se about this first)\n",
    "df_test = pd.read_csv('../data/test.csv', index_col = 'ID').fillna(0)"
   ]
  },
  {
   "cell_type": "markdown",
   "metadata": {},
   "source": [
    "## 2. Construct additional features and change letter categorical to continous"
   ]
  },
  {
   "cell_type": "code",
   "execution_count": 3,
   "metadata": {
    "collapsed": false
   },
   "outputs": [
    {
     "data": {
      "text/html": [
       "<div>\n",
       "<table border=\"1\" class=\"dataframe\">\n",
       "  <thead>\n",
       "    <tr style=\"text-align: right;\">\n",
       "      <th></th>\n",
       "      <th>y</th>\n",
       "      <th>qty_options</th>\n",
       "      <th>y_actual</th>\n",
       "    </tr>\n",
       "  </thead>\n",
       "  <tbody>\n",
       "    <tr>\n",
       "      <th>0</th>\n",
       "      <td>130.81</td>\n",
       "      <td>52</td>\n",
       "      <td>6802.12</td>\n",
       "    </tr>\n",
       "    <tr>\n",
       "      <th>1</th>\n",
       "      <td>88.53</td>\n",
       "      <td>52</td>\n",
       "      <td>4603.56</td>\n",
       "    </tr>\n",
       "    <tr>\n",
       "      <th>2</th>\n",
       "      <td>76.26</td>\n",
       "      <td>73</td>\n",
       "      <td>5566.98</td>\n",
       "    </tr>\n",
       "    <tr>\n",
       "      <th>3</th>\n",
       "      <td>80.62</td>\n",
       "      <td>62</td>\n",
       "      <td>4998.44</td>\n",
       "    </tr>\n",
       "    <tr>\n",
       "      <th>4</th>\n",
       "      <td>78.02</td>\n",
       "      <td>58</td>\n",
       "      <td>4525.16</td>\n",
       "    </tr>\n",
       "  </tbody>\n",
       "</table>\n",
       "</div>"
      ],
      "text/plain": [
       "        y  qty_options  y_actual\n",
       "0  130.81           52   6802.12\n",
       "1   88.53           52   4603.56\n",
       "2   76.26           73   5566.98\n",
       "3   80.62           62   4998.44\n",
       "4   78.02           58   4525.16"
      ]
     },
     "execution_count": 3,
     "metadata": {},
     "output_type": "execute_result"
    }
   ],
   "source": [
    "li_columnNames = [e for e in list(df_train.columns.values) if e not in {'y', 'X0', 'X1', 'X2', 'X3', 'X4', 'X5', 'X6', 'X8'}]\n",
    "list_value = list(string.lowercase) + list('a' + x for x in list(string.lowercase)) + ['ba', 'bb', 'bc']\n",
    "i = 0\n",
    "value_to_int = {}\n",
    "for j in list_value:\n",
    "    value_to_int[j] = i\n",
    "    i += 1\n",
    "df_train_eng = df_train.replace(value_to_int).copy()\n",
    "df_test_eng = df_test.replace(value_to_int).copy()\n",
    "df_train_eng['qty_options'] = df_train_eng[li_columnNames].sum(axis=1)\n",
    "df_test_eng['qty_options'] = df_test_eng[li_columnNames].sum(axis=1)\n",
    "df_train_eng['y_actual'] = df_train_eng['y'] * df_train_eng['qty_options']\n",
    "df_train_eng[['y', 'qty_options', 'y_actual']].head(5)"
   ]
  },
  {
   "cell_type": "markdown",
   "metadata": {},
   "source": [
    "## 3. First let's see how linear regression does with the y_actual:"
   ]
  },
  {
   "cell_type": "code",
   "execution_count": 4,
   "metadata": {
    "collapsed": false
   },
   "outputs": [],
   "source": [
    "list_index = li_columnNames\n",
    "list_test = ['X0', 'X1', 'X2', 'X3', 'X4', 'X5', 'X6', 'X8', 'qty_options']\n",
    "list_test = list_test + list_index\n",
    "list_train = ['y_actual'] + list_test\n",
    "df_X = df_train_eng[list_train]\n",
    "df_Kaggle = df_test_eng[list_test]\n",
    "df_y = df_X['y_actual']\n",
    "df_X = df_X.drop('y_actual', axis=1)"
   ]
  },
  {
   "cell_type": "code",
   "execution_count": 5,
   "metadata": {
    "collapsed": true
   },
   "outputs": [],
   "source": [
    "X_train, X_test, y_train, y_test = train_test_split(df_X, df_y, test_size=0.3, random_state=0)"
   ]
  },
  {
   "cell_type": "code",
   "execution_count": 6,
   "metadata": {
    "collapsed": true
   },
   "outputs": [],
   "source": [
    "model = LinearRegression(fit_intercept=False, normalize = True)"
   ]
  },
  {
   "cell_type": "code",
   "execution_count": 7,
   "metadata": {
    "collapsed": false
   },
   "outputs": [
    {
     "data": {
      "text/plain": [
       "LinearRegression(copy_X=True, fit_intercept=False, n_jobs=1, normalize=True)"
      ]
     },
     "execution_count": 7,
     "metadata": {},
     "output_type": "execute_result"
    }
   ],
   "source": [
    "model.fit(X_train, y_train)"
   ]
  },
  {
   "cell_type": "code",
   "execution_count": 8,
   "metadata": {
    "collapsed": false
   },
   "outputs": [
    {
     "data": {
      "text/plain": [
       "-23096634773826740.0"
      ]
     },
     "execution_count": 8,
     "metadata": {},
     "output_type": "execute_result"
    }
   ],
   "source": [
    "y_pred = pd.Series(model.predict(X_test), index=X_test.index)\n",
    "#y_Kaggle = pd.Series(linearRegress.predict(df_Kaggle), name='y', index=df_Kaggle.index)\n",
    "r2_score(y_test, y_pred)"
   ]
  },
  {
   "cell_type": "markdown",
   "metadata": {},
   "source": [
    "## How about Ridge CV?"
   ]
  },
  {
   "cell_type": "code",
   "execution_count": 9,
   "metadata": {
    "collapsed": true
   },
   "outputs": [],
   "source": [
    "model = RidgeCV()"
   ]
  },
  {
   "cell_type": "code",
   "execution_count": 10,
   "metadata": {
    "collapsed": false
   },
   "outputs": [
    {
     "name": "stdout",
     "output_type": "stream",
     "text": [
      "0.79076936979\n"
     ]
    }
   ],
   "source": [
    "model.fit(X_train, y_train)\n",
    "y_pred = pd.Series(model.predict(X_test), index=X_test.index)\n",
    "print r2_score(y_test, y_pred)\n",
    "y_Kaggle = pd.Series(model.predict(df_Kaggle), name='y_actual', index=df_Kaggle.index) / df_Kaggle['qty_options']\n",
    "y_Kaggle.to_csv(path='../data/201706101100.csv', index_label='ID', header = True)"
   ]
  },
  {
   "cell_type": "markdown",
   "metadata": {},
   "source": [
    "Ok, let's see that again with a 90-10 data split:"
   ]
  },
  {
   "cell_type": "code",
   "execution_count": 11,
   "metadata": {
    "collapsed": false
   },
   "outputs": [
    {
     "name": "stdout",
     "output_type": "stream",
     "text": [
      "0.695278704374\n"
     ]
    }
   ],
   "source": [
    "X_train, X_test, y_train, y_test = train_test_split(df_X, df_y, test_size=0.1, random_state=0)\n",
    "model.fit(X_train, y_train)\n",
    "y_pred = pd.Series(model.predict(X_test), index=X_test.index)\n",
    "print r2_score(y_test, y_pred)\n",
    "y_Kaggle = pd.Series(model.predict(df_Kaggle), name='y_actual', index=df_Kaggle.index) / df_Kaggle['qty_options']\n",
    "#y_Kaggle.to_csv(path='../data/201706101100.csv', index_label='ID', header = True)"
   ]
  },
  {
   "cell_type": "markdown",
   "metadata": {},
   "source": [
    "Looks like we're overfitting. Not surprisingwith #festures versus #datasets. So let's start getting creative:\n",
    "1. let's limit to the categorical data and find the maximum possible solution\n",
    "2. find the 40 lowest correlated binary features and add the 4-tuplet that creates the maximum increase in r^2. repeat until no more iincrease"
   ]
  },
  {
   "cell_type": "code",
   "execution_count": 12,
   "metadata": {
    "collapsed": false
   },
   "outputs": [
    {
     "name": "stdout",
     "output_type": "stream",
     "text": [
      "New best R^2 score:  9.00982716923e-05  with features:  ['X0']\n",
      "New best R^2 score:  0.0119037568823  with features:  ['X1']\n",
      "New best R^2 score:  0.0439569050808  with features:  ['X2']\n",
      "New best R^2 score:  0.0974327145926  with features:  ['X3']\n",
      "New best R^2 score:  0.520952396186  with features:  ['qty_options']\n",
      "New best R^2 score:  0.523609475774  with features:  ['X0', 'qty_options']\n",
      "New best R^2 score:  0.533029212575  with features:  ['X2', 'qty_options']\n",
      "New best R^2 score:  0.535601219992  with features:  ['X0', 'X2', 'qty_options']\n",
      "New best R^2 score:  0.541084981835  with features:  ['X2', 'X3', 'qty_options']\n",
      "New best R^2 score:  0.544095738776  with features:  ['X0', 'X2', 'X3', 'qty_options']\n",
      "New best R^2 score:  0.544096935081  with features:  ['X0', 'X2', 'X3', 'X8', 'qty_options']\n",
      "Best R^2 score:  0.544096935081  with features:  ['X0', 'X2', 'X3', 'X8', 'qty_options']\n"
     ]
    }
   ],
   "source": [
    "list_test = ['X0', 'X1', 'X2', 'X3', 'X4', 'X5', 'X6', 'X8', 'qty_options']\n",
    "output_test = sum([map(list, combinations(list_test, i)) for i in range(len(list_test) + 1)], [])\n",
    "best_r2 = -1E+80\n",
    "best_values = {}\n",
    "for i in range(1, len(output_test)):\n",
    "    output_train = ['y_actual'] + output_test[i]\n",
    "    df_X = df_train_eng[output_train]\n",
    "    df_y = df_X['y_actual']\n",
    "    df_X = df_X.drop('y_actual', axis=1)\n",
    "    X_train, X_test, y_train, y_test = train_test_split(df_X, df_y, test_size=0.1, random_state=0)\n",
    "    model.fit(X_train, y_train)\n",
    "    y_pred = pd.Series(model.predict(X_test), index=X_test.index)\n",
    "    current_r2 = r2_score(y_test, y_pred)\n",
    "    if current_r2 > best_r2:\n",
    "        best_r2 = current_r2; best_values['r2'] = current_r2; best_values['features'] = output_test[i]\n",
    "        print 'New best R^2 score: ', best_r2, ' with features: ', best_values['features']    \n",
    "print 'Best R^2 score: ', best_r2, ' with features: ', best_values['features']  \n",
    "    \n",
    "#    y_Kaggle = pd.Series(model.predict(df_Kaggle), name='y_actual', index=df_Kaggle.index) / df_Kaggle['qty_options']"
   ]
  },
  {
   "cell_type": "markdown",
   "metadata": {},
   "source": [
    "This is the result with only the lower 10. How des this differ when including all binary?"
   ]
  },
  {
   "cell_type": "code",
   "execution_count": 13,
   "metadata": {
    "collapsed": false
   },
   "outputs": [
    {
     "name": "stdout",
     "output_type": "stream",
     "text": [
      "New best R^2 score:  0.695373986091  with features:  ['X0']\n",
      "New best R^2 score:  0.695489035505  with features:  ['X2']\n",
      "New best R^2 score:  0.695510691756  with features:  ['X5']\n",
      "New best R^2 score:  0.695529901643  with features:  ['X6']\n",
      "New best R^2 score:  0.695850758259  with features:  ['qty_options']\n",
      "New best R^2 score:  0.69588548315  with features:  ['X0', 'qty_options']\n",
      "New best R^2 score:  0.695984567947  with features:  ['X2', 'qty_options']\n",
      "New best R^2 score:  0.696018348226  with features:  ['X6', 'qty_options']\n",
      "New best R^2 score:  0.696041047614  with features:  ['X0', 'X6', 'qty_options']\n",
      "New best R^2 score:  0.696120158063  with features:  ['X2', 'X5', 'qty_options']\n",
      "New best R^2 score:  0.696149695324  with features:  ['X2', 'X6', 'qty_options']\n",
      "New best R^2 score:  0.696155462427  with features:  ['X5', 'X6', 'qty_options']\n",
      "New best R^2 score:  0.696169534156  with features:  ['X0', 'X2', 'X6', 'qty_options']\n",
      "New best R^2 score:  0.696192358655  with features:  ['X2', 'X3', 'X5', 'qty_options']\n",
      "New best R^2 score:  0.696195446886  with features:  ['X2', 'X3', 'X6', 'qty_options']\n",
      "New best R^2 score:  0.696289180545  with features:  ['X2', 'X5', 'X6', 'qty_options']\n",
      "New best R^2 score:  0.696357046222  with features:  ['X2', 'X3', 'X5', 'X6', 'qty_options']\n",
      "New best R^2 score:  0.696362198115  with features:  ['X0', 'X2', 'X3', 'X5', 'X6', 'qty_options']\n",
      "Best R^2 score:  0.696362198115  with features:  ['X0', 'X2', 'X3', 'X5', 'X6', 'qty_options']\n"
     ]
    }
   ],
   "source": [
    "list_index = [e for e in list(df_train.columns.values) if e not in {'y_actual', 'y', 'X0', 'X1', 'X2', 'X3', 'X4', 'X5', 'X6', 'X8'}]\n",
    "list_test = ['X0', 'X1', 'X2', 'X3', 'X4', 'X5', 'X6', 'X8', 'qty_options']\n",
    "output = sum([map(list, combinations(list_test, i)) for i in range(len(list_test) + 1)], [])\n",
    "best_r2 = -1E+80\n",
    "best_values = {}\n",
    "for i in range(1, len(output)):\n",
    "    output_test = output[i] + list_index\n",
    "    output_train = ['y_actual'] + output_test\n",
    "    df_X = df_train_eng[output_train]\n",
    "    df_y = df_X['y_actual']\n",
    "    df_X = df_X.drop('y_actual', axis=1)\n",
    "    X_train, X_test, y_train, y_test = train_test_split(df_X, df_y, test_size=0.1, random_state=0)\n",
    "    model = RidgeCV()\n",
    "    model.fit(X_train, y_train)\n",
    "    y_pred = pd.Series(model.predict(X_test), index=X_test.index)\n",
    "    current_r2 = r2_score(y_test, y_pred)\n",
    "    if current_r2 > best_r2:\n",
    "        best_r2 = current_r2; best_values['r2'] = current_r2; best_values['features'] = output[i]\n",
    "        print 'New best R^2 score: ', best_r2, ' with features: ', best_values['features']    \n",
    "print 'Best R^2 score: ', best_r2, ' with features: ', best_values['features']  \n",
    "output_test = best_values['features'] + list_index\n",
    "output_train = ['y_actual'] + output_test\n",
    "df_X = df_train_eng[output_train]\n",
    "df_y = df_X['y_actual']\n",
    "df_X = df_X.drop('y_actual', axis=1)\n",
    "X_train, X_test, y_train, y_test = train_test_split(df_X, df_y, test_size=0.1, random_state=0)\n",
    "model = RidgeCV()\n",
    "model.fit(X_train, y_train)\n",
    "X_Kaggle = df_test_eng[output_test]\n",
    "y_Kaggle = pd.Series(model.predict(X_Kaggle) / df_test_eng['qty_options'], name='y', index=df_Kaggle.index)\n",
    "y_Kaggle.to_csv(path='../data/201706111125.csv', index_label='ID', header = True)"
   ]
  },
  {
   "cell_type": "markdown",
   "metadata": {
    "collapsed": true
   },
   "source": [
    "Ok, looks like X0, X2, X3 and qty_options are common. Let's take those and add the rest to the \"big pool\""
   ]
  },
  {
   "cell_type": "markdown",
   "metadata": {},
   "source": [
    "## First some data clensing / Identifying data for possible clensing"
   ]
  },
  {
   "cell_type": "markdown",
   "metadata": {},
   "source": [
    "### Identify duplicate columns"
   ]
  },
  {
   "cell_type": "code",
   "execution_count": 5,
   "metadata": {
    "collapsed": false,
    "scrolled": false
   },
   "outputs": [
    {
     "name": "stdout",
     "output_type": "stream",
     "text": [
      "\n",
      " Number of columns before cleaning: 377\n",
      " Column X102 is identical to X214. Removing X214\n",
      " Column X102 is identical to X239. Removing X239\n",
      " Column X102 is identical to X53. Removing X53\n",
      " Column X112 is identical to X199. Removing X199\n",
      " Column X113 is identical to X134. Removing X134\n",
      " Column X113 is identical to X147. Removing X147\n",
      " Column X113 is identical to X222. Removing X222\n",
      " Column X113 is identical to X48. Removing X48\n",
      " Column X118 is identical to X119. Removing X119\n",
      " Column X125 is identical to X227. Removing X227\n",
      " Column X134 is identical to X147. Removing X147\n",
      " Column X134 is identical to X222. Removing X222\n",
      " Column X134 is identical to X48. Removing X48\n",
      " Column X138 is identical to X146. Removing X146\n",
      " Column X147 is identical to X222. Removing X222\n",
      " Column X147 is identical to X48. Removing X48\n",
      " Column X152 is identical to X226. Removing X226\n",
      " Column X152 is identical to X326. Removing X326\n",
      " Column X155 is identical to X360. Removing X360\n",
      " Column X17 is identical to X382. Removing X382\n",
      " Column X172 is identical to X216. Removing X216\n",
      " Column X172 is identical to X62. Removing X62\n",
      " Column X184 is identical to X262. Removing X262\n",
      " Column X213 is identical to X67. Removing X67\n",
      " Column X214 is identical to X239. Removing X239\n",
      " Column X214 is identical to X53. Removing X53\n",
      " Column X216 is identical to X62. Removing X62\n",
      " Column X222 is identical to X48. Removing X48\n",
      " Column X226 is identical to X326. Removing X326\n",
      " Column X230 is identical to X254. Removing X254\n",
      " Column X232 is identical to X279. Removing X279\n",
      " Column X239 is identical to X53. Removing X53\n",
      " Column X240 is identical to X364. Removing X364\n",
      " Column X244 is identical to X71. Removing X71\n",
      " Column X244 is identical to X84. Removing X84\n",
      " Column X253 is identical to X385. Removing X385\n",
      " Column X253 is identical to X60. Removing X60\n",
      " Column X290 is identical to X293. Removing X293\n",
      " Column X290 is identical to X330. Removing X330\n",
      " Column X293 is identical to X330. Removing X330\n",
      " Column X295 is identical to X296. Removing X296\n",
      " Column X298 is identical to X299. Removing X299\n",
      " Column X302 is identical to X44. Removing X44\n",
      " Column X31 is identical to X35. Removing X35\n",
      " Column X31 is identical to X37. Removing X37\n",
      " Column X324 is identical to X58. Removing X58\n",
      " Column X33 is identical to X39. Removing X39\n",
      " Column X35 is identical to X37. Removing X37\n",
      " Column X385 is identical to X60. Removing X60\n",
      " Column X54 is identical to X76. Removing X76\n",
      " Column X71 is identical to X84. Removing X84\n",
      "\n",
      " Number of identified duplicates marked: 36\n"
     ]
    }
   ],
   "source": [
    "all_data = pd.concat((df_train, df_test))\n",
    "\n",
    "# remove duplicated columns\n",
    "c = all_data.columns\n",
    "print('\\n Number of columns before cleaning: %d' % len(c))\n",
    "li_duplicates = []\n",
    "for i in range(len(c)-1):\n",
    "    v = all_data[c[i]].values\n",
    "    for j in range(i+1,len(c)):\n",
    "        if np.array_equal(v,all_data[c[j]].values):\n",
    "            li_duplicates.append(c[j])\n",
    "            print(' Column %s is identical to %s. Removing %s' % (str(c[i]), str(c[j]), str(c[j])))\n",
    "li_duplicates = list(set(li_duplicates))\n",
    "print '\\n Number of identified duplicates marked: %s' % len(li_duplicates)"
   ]
  },
  {
   "cell_type": "markdown",
   "metadata": {},
   "source": [
    "### Identify complementary columns"
   ]
  },
  {
   "cell_type": "code",
   "execution_count": 6,
   "metadata": {
    "collapsed": false
   },
   "outputs": [
    {
     "name": "stdout",
     "output_type": "stream",
     "text": [
      "\n",
      " Number of columns before cleaning: 368\n",
      " Column X128 is complimentary to X130. Removing X130\n",
      " Column X156 is complimentary to X157. Removing X157\n",
      " Column X204 is complimentary to X205. Removing X205\n",
      " Column X232 is complimentary to X263. Removing X263\n",
      " Column X263 is complimentary to X279. Removing X279\n",
      "\n",
      " Number of identified complements marked: 5\n"
     ]
    }
   ],
   "source": [
    "list_index = [e for e in list(df_train.columns.values) if e not in {'y_actual', 'y', 'X0', 'X1', 'X2', 'X3', 'X4', 'X5', 'X6', 'X8'}]\n",
    "all_data = pd.concat((df_train[list_index], df_test[list_index]))\n",
    "value_compliment = {0: 1, 1: 0}\n",
    "\n",
    "# remove complimentary columns\n",
    "c = all_data.columns\n",
    "print('\\n Number of columns before cleaning: %d' % len(c))\n",
    "li_compliments = []\n",
    "for i in range(len(c)-1):\n",
    "    v = all_data[c[i]].replace(value_compliment).values\n",
    "    for j in range(i+1,len(c)):\n",
    "        if np.array_equal(v,all_data[c[j]].values):\n",
    "            li_compliments.append(c[j])\n",
    "            print(' Column %s is complimentary to %s. Removing %s' % (str(c[i]), str(c[j]), str(c[j])))\n",
    "li_compliments = list(set(li_compliments))\n",
    "print '\\n Number of identified complements marked: %s' % len(li_compliments)"
   ]
  },
  {
   "cell_type": "code",
   "execution_count": 7,
   "metadata": {
    "collapsed": false,
    "scrolled": true
   },
   "outputs": [
    {
     "name": "stdout",
     "output_type": "stream",
     "text": [
      "Calculating new correlation matrix\n",
      "\n",
      " New best R^2 score:  0.707256900291  with features:  ['X289']\n",
      "\n",
      " New best R^2 score:  0.707259141093  with features:  ['X238']\n",
      "\n",
      " New best R^2 score:  0.707297756032  with features:  ['X223']\n",
      "\n",
      " New best R^2 score:  0.707302702821  with features:  ['X275']\n",
      "\n",
      " New best R^2 score:  0.707306653786  with features:  ['X170']\n",
      "\n",
      " New best R^2 score:  0.707338775692  with features:  ['X376']\n",
      "\n",
      " New best R^2 score:  0.707364631117  with features:  ['X327']\n",
      ". \n",
      " New best R^2 score:  0.707364631118  with features:  ['X290', 'X327']\n",
      ". . . . . \n",
      " New best R^2 score:  0.707368486491  with features:  ['X238', 'X327']\n",
      ". . . . \n",
      " New best R^2 score:  0.707383209674  with features:  ['X223', 'X376']\n",
      "\n",
      " New best R^2 score:  0.707407171566  with features:  ['X223', 'X327']\n",
      ". . \n",
      " New best R^2 score:  0.707423434179  with features:  ['X170', 'X327']\n",
      ". . . . . . \n",
      " New best R^2 score:  0.707502121665  with features:  ['X376', 'X327']\n",
      ". . . . . . . . . . . . . . . . . . . \n",
      " New best R^2 score:  0.707502122446  with features:  ['X290', 'X376', 'X327']\n",
      ". . . . . . . . . . . . . . . . . . . . . . . . . . . . . . . . . . . . . . . . . . . . . . . . . . . . . . . . . . . . . . . . . . . . . . . . . . . . . . . . . . . . . . . . . . . . . . . . . . . . . . . . . . . . . . . . . . . . . . . . . . . . . . . . . . . . . . . . . . . . . . . . . . . . . . . \n",
      " New best R^2 score:  0.707522852343  with features:  ['X238', 'X376', 'X327']\n",
      ". . . . . . . . . . . . . . . . . . . . . . . . . . . . . . . . . . . . . . . . . . . . . . . . . . . . . . . . . . . . . . . . . . . . . . . . . . . . . . . . . . . . . . . . . . . . . . \n",
      " New best R^2 score:  0.707549896533  with features:  ['X223', 'X376', 'X327']\n",
      ". . . . . . . . . . . . . . . . . . . . . . . . . . . . . . . . . . . . . . . . . . . . . . . . . . . . . . . . . . . . . . . . . . . . . . . . . . . . . . . . . . . . . . . . . . . . . . . . . . . . . . . . . . . . . . . . . . . . . . . . . . . . . . . . . . . . . . . . . . . . . . . . . . . . . . . . . . . . . . . . . . . . . . . . . . . . . . . . . . . . . . . . . . . . . . . . . . . . . . . . . . . . . . . . . . . . . . . . . . . . . . . . . . . . . . . . . . . . . . . . . . . . . . . . . . . . . . . . . . . . . . . . . . . . . . . . . . . . . . . . . . . . . . . . . . . . . . . . . . . . . . . . . . . . . . . . . . . . . . . . . . . . . . . . . . . . . . . . . . . . . . . . . . . . . . . . . . . . . . . . . . . . . . . . . . . . . . . . . . . . . . . . . . . . . . . . . . . . . . . . . . . . . . . . . . . . . . . . . . . . . . . . . . . . . . . . . . . . . . . . . . . . . . . . . . . . . . . . . . . . . . . . . . . . . . . . . . . . . . . . . . . . . . . . . . . . . . . . . . . . . . . . . . . . . . . . . . . . . . . . . . . . . . . . . . . . . . . . . . . . . . . . . . . . . . . . . . . . . . . . . . . . . . . . . . . . . . . . . . . . . . . . . . . . . . . . . . . . . . . . . . . . . . . . . . . . . . . . . . . . . . . . . . . . . . . . . . . . . . . . . . . . . . . . . . . . . . . . . . . . . . . . . . . . . . . . . . . . . . . . . . . . . . . . . . . . . . . . . . . . . . . . . . . . . . . . . . . . . . . . . . . . . . . . . . . . . . . . . . . . . . . . . . . . . . . . . . . . . . . . . . . . . . . . . . . . . . . . . . . . . . . . . . . . . . . . . . . . . . . . . . . . . . . . . . . . . . . . . . . . . . . . . . . . . . . . . . . . . . . . . . . . . . . . . . . . . . . . . . . . . . . . . . . . . . . . . . . . . . . . . . . . . . . . . . . . . . . . . . . . . . . . . . . . . . . . . . . . . . . . . . . . . . . . . . . . . . . . . . . . . . . . . . . . . . . . . . . . . . . . . . . . . . . . . . . . . . . . . . . . . . . . . . . . . . . . . . . . . . . . . . . . . . . . . . . . . . . . . . . . . . . . . . . . . . . . . . . . . . . . . . . . . . . . . . . . . . . . . . . . . . . . . . . . . . . . . . . . . . . . . . . . . . . . . . . . . . . . . . . . . . . . . . . . . . . . . . . . . . . . . . . . . . . . . . . . . . . . . . . . . . . . . . . . . . . . . . . . . . . . . . . . . . . . . . . . . . . . . . . . . . . . . . . . . . . . . . . . . . . . . . . . . . . . . . . . . . . . . . . . . . . . . . . . . . . . . . . . . . . . . . . . . . . . . . . . . . . . . . . . . . . . . . . . . . . . . . . . . . . . . . . . . . . . . . . . . . . . . . . . . . . . . . . . . . . . . . . . . . . . . . . . . . . . . . . . . . . . . . . . . . . . . . . . . . . . . . . . . . . . . . . . . . . . . . . . . . . . . . . . . . . . . . . . . . . . . . . . . . . . . . . . . . . . . . . . . . . . . . . . . . . . . . . . . . . . . . . . . . . . . . . . . . . . . . . . . . . . . . . . . . . . . . . . . . . . . . . . . . . . . . . . . . . . . . . . . . . . . . . . . . . . . . . . . . . . . . . . . . . . . . . . . . . . . . . . . . . . . . . . . . . . . . . . . . . . . . . . . . . . . . . . . . . . . . . . . . . . . . . . . . . . . . . . . . . . . . . . . . . . . . . . . . . . . . . . . . . . . . . . . . . . . . . . . . . . . . . . . . . . . . . . . . . . . . . . . . . . . . . . . . . . . . . . . . . . . . . . . . . . . . . . . . . . . . . . . . . . . . . . . . . . . . . . . . . . . . . . . . . . . . . . . . . . . . . . . . . . . . . . . . . . . . . . . . . . . . . . . . . . . . . . . . . . . . . . . . . . . . . . . . . . . . . . . . . . . . . . . . . . . . . . . . . . . . . . . . . . . . . . . . . . . . . . . . . . . . . . . . . . . . . . . . . . . . . . . . . . . . . . . . . . . . . . . . . . . . . . . . . . . . . . . . . . . . . . . . . . . . . . . . . . . . . . . . . . . . . . . . . . . . . . . . . . . . . . . . . . . . . . . . . . . . . . . . . . . . . . . . . . . . . . . . . . . . . . . . . . . . . . . . . . . . . . . . . . . . . . . . . . . . . . . . . . . . . . . . . . . . . . . . . . . . . . . . . . . . . . . . . . . . . . . . . . . . . . . . . . . . . . . . . . . . . . . . . . . . . . . . . . . . . . . . . . . . . . . . . . . . . . . . . . . . . . . . . . . . . . . . . . . . . . . . . . . . . . . . . . . . . . . . . . . . . . . . . . . . . . . . . . . . . . . . . . . . . . . . . . . . . . . . . . . . . . . . . . . . . . . . . . . . . . . . . . . . . . . . . . . . . . . . . . . . . . . . . . . . . . . . . . . . . . . . . . . . . . . . . . . . . . . . . . . . . . . . . . . . . . . . . . . . . . . . . . . . . . . . . . . . . . . . . . . . . . . . . . . . . . . . . . . . . . . . . . . . . . . . . . . . . . . . . . . . . . . . . . . . . . . . . . . . . . . . . . . . . . . . . . . . . . . . . . . . . . . . . . . . . . . . . . . . . . . . . . . . . . . . . . . . . . . . . . . . . . . . . . . . . . . . . . . . . . . . . . . . . . . . . . . . . . . . . . . . . . . . . . . . . . . . . . . . . . . . . . . . . . . . . . . . . . . . . . . . . . . . . . . . . . . . . . . . . . . . . . . . . . . . . . . . . . . . . . . . . . . . . . . . . . . . . . . . . . . . . . . . . . . . . . . . . . . . . . . . . . . . . . . . . . . . . . . . . . . . . . . . . . . . . . . . . . . . . . . . . . . . . . . . . . . . . . . . . . . . . . . . . . . . . . . . . . . . . . . . . . . . . . . . . . . . . . . . . . . . . . . . . . . . . . . . . . . . . . . . . . . . . . . . . . . . . . . . . . . . . . . . . . . . . . . . . . . . . . . . . . . . . . . . . . . . . . . . . . . . . . . . . . . . . . . . . . . . . . . . . . . . . . . . . . . . . . . . . . . . . . . . . . . . . . . . . . . . . . . . . . . . . . . . . . . . . . . . . . . . . . . . . . . . . . . . . . . . . . . . . . . . . . . . . . . . . . . . . . . . . . . . . . . . . . . . . . . . . . . . . . . . . . . . . . . . . . . . . . . . . . . . . . . . . . . . . . . . . . . . . . . . . . . . . . . . . . . . . . . . . . . . . . . . . . . . . . . . . . . . . . . . . . . . . . . . . . . . . . . . . . . . . . . . . . . . . . . . . . . . . . . . . . . . . . . . . . . . . . . . . . . . . . . . . . . . . . . . . . . . . . . . . . . . . . . . . \n",
      " New best R^2 score:  0.707558883185  with features:  ['X238', 'X223', 'X376', 'X327']\n",
      ". . . . . . . . . . . . . . . . . . . . . . . . . . . . . . . . . . . . . . . . . . . . . . . . . . . . . . . . . . . . . . . . . . . . . . . . . . . . . . . . . . . . . . . . . . . . . . . . . . . . . . . . . . . . . . . . . . . . . . . . . . . . . . . . . . . . . . . . . . . . . . . . . . . . . . . . . . . . . . . . . . . . . . . . . . . . . . . . . . . . . . . . . . . . . . . . . . . . . . . . . . . . . . . . . . . . . . . . . . . . . . . . . . . . . . . . . . . . . . . . . . . . . . . . . . . . . . . . . . . . . . . . . . . . . . . . . . . . . . . . . . . . . . . . . . . . . . . . . . . . . . . . . . . . . . . . . . . . . . . . . . . . . . . . . . . . . . . . . . . . . . . . . . . . . . . . . . . . . . . . . . . . . . . . . . . . . . . . . . . . . . . . . . . . . . . . . . . . . . . . . . . . . . . . . . . . . . . . . . . . . . . . . . . . . . . . . . . . . . . . . . . . . . . . . . . . . . . . . . . . . . . . . . . . . . . . . . . . . . . . . . . . . . . . . . . . . . . . . . . . . . . . . . . . . . . . . . . . . . . . . . . . . . . . . . . . . . . . . . . . . . . . . . . . . . . . . . . . . . . . . . . . . . . . . . . . . . . . . . . . . . . . . . . . . . . . . . . . . . . . . . . . . . . . . . . . . . . . . . . . . . . . . . . . . . . . . . . . . . . . . . . . . . . . . . . . . . . . . . . . . . . . . . . . . . . . . . . . . . . . . . . . . . . . . . . . . . . . . . . . . . . . . . . . . . . . . . . . . . . . . . . . . . . . . . . . . . . . . . . . . . . . . . . . . . . . . . . . . . . . . . . . . . . . . . . . . . . . . . . . . . . . . . . . . . . . . . . . . . . . . . . . . . . . . . . . . . . . . . . . . . . . . . . . . . . . . . . . . . . . . . . . . . . . . . . . . . . . . . . . . . . . . . . . . . . . . . . . . . . . . . . . . . . . . . . \n",
      " New best R^2 score:  0.70756590498  with features:  ['X348', 'X170', 'X376', 'X327']\n",
      ". . . . . . . . . . . . . . . . . . . . . . . . . . . . . . . . . . . . . . . . . . . . . . . . . . . . . . . . . . . . . . . . . . . . . . . . . . . . . . . . . . . . . . . . . . . . . . . . . . . . . . . . . . . . . . . . . . . . . . . . . . . . . . . . . . . . . . . . . . . . . . . . . . . . . . . . . . . . . . . . . . . . . . . . . . . . . . . . . . . . . . . . . . . . . . . . . . . . . . . . . . . . . . . . . . . . . . . . . . . . . . . . . . . . . . . . . . . . . . . . . . . . . . . . . . . . . . . . . . . . . . . . . . . . . . . . . . . . . . . . . . . . . . . . . . . . . . . . . . . . . . . . . . . . . . . . . . . . . . . . . . . . . . . . . . . . . . . . . . . . . . . . . . . . . . . . . . . . . . . . . . . . . . . . . . . . . . . . . . . . . . . . . . . . . . . . . . . . . . . . . . . . . . . . . . . . . . . . . . . . . . . . . . . . . . . . . . . . . . . . . . . . . . . . . . . . . . . . . . . . . . . . . . . . . . . . . . . . . . . . . . . . . . . . . . . . . . . . . \n",
      " New best R^2 score:  0.7075836292  with features:  ['X223', 'X275', 'X376', 'X327']\n",
      ". . . . . . . . . . . . . . . . . . . . . . . . . . . . . . . . . . . . . . . . . . . . . . . . . . . . . . . . . . . . . . . . . . . . . . . . . . . . . . . . . . . . . . . . . . . . . . . . . . . . . . . . . . \n",
      " New best R^2 score:  0.707586868003  with features:  ['X223', 'X376', 'X327', 'X285']\n",
      ". . . . . . . . . . . . . . . . . . . . . . . . . . . . . . . . . . . . . . . . . . . . . . . . . . . . . . . . . . . . . . . . . . . . . . . . . . . . . . . . . . . . . . . . . . . . . . . . . . . . . . . . . . . . . . . . . . . . . . . . . . . . . . . . . . . . . . . . . . . . . . . . . . . . . . . . . . . . . . . . . . . . . . . . . . . . . . . . . . . . . . . . . . . . . . . . . . . . . . . . . . . . . . . . . . . . . . . . . . . . . . . . . . . . . . . . . . . . . . . . . . . . . . . . . . . . . . . . . . . . . . . . . . . . . . . . . . . . . . . . . . . . . . . . . . . . . . . . . . . . . . . . . . . . . . . . . . . . . . . . . . . . . . . . . . . . . . . . . . . . . . . . . . . . . . . . . . . . . . . . . . . . . . . . . . . . . . . . . . . . . . . . . . . . . . . . . . . . . . . . . . . . . . . . . . . . . . . . . . . . . . . . . . . . . . . . . . . . . . . . . . . . . . . . . . . . . . . . . . . . . . . . . . . . . . . . . . . . . . . . . . . . . . . . . . . . . . . . . . . . . . . . . . . . . . . . . . . . . . . . . . . . . . . . . . . . . . . . . . . . . . . . . . . . . . . . . . . . . . . . . . . . . . . . . . . . . . . . . . . . . . . . . . . . . . . . . . . . . . . . . . . . . . . . . . . . . . . . . . . . . . . . . . . . . . . . . . . . . . . . . . . . . . . . . . . . . . . . . . . . . . . . . . . . . . . . . . . . . . . . . . . . . . . . . . . . . . . . . . . . . . . . . . . . . . . . . . . . . . . . . . . . . . . . . . . . . . . . . . . . . . . . . . . . . . . . . . . . . . . . . . . . . . . . . . . . . . . . . . . . . . . . . . . . . . . . . . . . . . . . . . . . . . . . . . . . . . . . . . . . . . . . . . . . . . . . . . . . . . . . . . . . . . . . . . . . . . . . . . . . . . . . . . . . . . . . . . . . . . . . . . . . . . . . . . . . . . . . . . . . . . . . . . . . . . . . . . . . . . . . . . . . . . . . . . . . . . . . . . . . . . . . . . . . . . . . . . . . . . . . . . . . . . . . . . . . . . . . . . . . . . . . . . . . . . . . . . . . . . . . . . . . . . . . . . . . . . . . . . . . . . . . . . . . . . . . . . . . . . . . . . . . . . . . . . . . . . . . . . . . . . . . . . . . . . . . . . . . . . . . . . . . . . . . . . . . . . . . . . . . . . . . . . . . . . . . . . . . . . . . . \n",
      " Best R^2 score:  0.707586868003  with features:  ['X46', 'X189', 'X64', 'X29', 'X28', 'X20', 'X22', 'X171', 'X256', 'X158', 'X154', 'X150', 'X118', 'X337', 'X136', 'X111', 'X116', 'X115', 'X376', 'X334', 'X75', 'X264', 'X327', 'X166', 'X163', 'X148', 'X223', 'X224', 'X100', 'X103', 'X209', 'X202', 'X108', 'X201', 'X314', 'X285', 'X283', 'X129', 'X313', 'X127', 'X265', 'X120', 'X355', 'X261']\n",
      "Calculating new correlation matrix\n",
      "\n",
      " New best R^2 score:  0.707586868158  with features:  ['X235']\n",
      "\n",
      " New best R^2 score:  0.707615633398  with features:  ['X378']\n",
      "\n",
      " New best R^2 score:  0.707680024808  with features:  ['X336']\n",
      "\n",
      " New best R^2 score:  0.708010679657  with features:  ['X79']\n",
      ". \n",
      " New best R^2 score:  0.708010679802  with features:  ['X11', 'X79']\n",
      ". . . . . . . . . . . . . . . \n",
      " New best R^2 score:  0.708040233893  with features:  ['X378', 'X79']\n",
      ". . \n",
      " New best R^2 score:  0.708204014749  with features:  ['X336', 'X79']\n",
      ". . . . . . . . . . . . . . . . . . \n",
      " New best R^2 score:  0.708204015116  with features:  ['X11', 'X336', 'X79']\n",
      ". . . . . . . . . . . . . . . . . . . . . . . . . . . . . . . . . . . . . . . . . . . . . . . . . . . . . . . . . . . . . . . . . . . . . . . . . . . . . . . . . . . . . . . . . . . . . . . . . . . . . . . . . . . . . . . . . . . . . . . . . . . . . . . . . . . . . . . . . . . . . . . . . . . . . . . . . . . . . . . . . . . . . . . . . . . . . . . . . . . . . . . . . . . . . . . . . . . . . . . . . . . . . . . . . . . . . . . . . . . . . . . . . . . . . . . . . . . . . . . . . . . . . . . . . . . . . . . . . . . . . . . . . . . . . . . . . . . . . . . . . . . . . . . . . . . . . . . . . . . . . . . . . . . . . . . . . . . . . . . . . . . . . . . . . . . . . . . . . \n",
      " New best R^2 score:  0.708243464047  with features:  ['X378', 'X336', 'X79']\n",
      ". . . . . . . . . . . . . . . . . . \n",
      " New best R^2 score:  0.708262534388  with features:  ['X336', 'X50', 'X79']\n",
      ". . . . . . . . . . . . . . . . . . . . . . . . . . . . . . . . . . . . . . . . . . . . . . . . . . . . . . . . . . . . . . . . . . . . . . . . . . . . . . . . . . . . . . . . . . . . . . . . . . . . . . . . . . . . . . . . . . . . . . . . . . . . . . . . . . . . . . . . . . . . . . . . . . . . . . . . . . . . . . . . . . . . . . . . . . . . . . . . . . . . . . . . . . . . . . . . . . . . . . . . . . . . . . . . . . . . . . . . . . . . . . . . . . . . . . . . . . . . . . . . . . . . . . . . . . . . . . . . . . . . . . . . . . . . . . . . . . . . . . . . . . . . . . . . . . . . . . . . . . . . . . . . . . . . . . . . . . . . . . . . . . . . . . . . . . . . . . . . . . . . . . . . . . . . . . . . . . . . . . . . . . . . . . . . . . . . . . . . . . . . . . . . . . . . . . . . . . . . . . . . . . . . . . . . . . . . . . . . . . . . . . . . . . . . . . . . . . . . . . . . . . . . . . . . . . . . . . . . . . . . . . . . . . . . . . . . . . . . . . . . . . . . . . . . . . . . . . . . . . . . . . . . . . . . . . . . . . . . . . . . . . . . . . . . . . . . . . . . . . . . . . . . . . . . . . . . . . . . . . . . . . . . . . . . . . . . . . . . . . . . . . . . . . . . . . . . . . . . . . . . . . . . . . . . . . . . . . . . . . . . . . . . . . . . . . . . . . . . . . . . . . . . . . . . . . . . . . . . . . . . . . . . . . . . . . . . . . . . . . . . . . . . . . . . . . . . . . . . . . . . . . . . . . . . . . . . . . . . . . . . . . . . . . . . . . . . . . . . . . . . . . . . . . . . . . . . . . . . . . . . . . . . . . . . . . . . . . . . . . . . . . . . . . . . . . . . . . . . . . . . . . . . . . . . . . . . . . . . . . . . . . . . . . . . . . . . . . . . . . . . . . . . . . . . . . . . . . . . . . . . . . . . . . . . . . . . . . . . . . . . . . . . . . . . . . . . . . . . . . . . . . . . . . . . . . . . . . . . . . . . . . . . . . . . . . . . . . . . . . . . . . . . . . . . . . . . . . . . . . . . . . . . . . . . . . . . . . . . . . . . . . . . . . . . . . . . . . . . . . . . . . . . . . . . . . . . . . . . . . . . . . . . . . . . . . . . . . . . . . . . . . . . . . . . . . . . . . . . . . . . . . . . . . . . . . . . . . . . . . . . . . . . . . . . . . . . . . . . . . . . . . . . . . . . . . . . . . . . . . . . . . . . . . . . . . . . . . . . . . . . . . . . . . . . . . . . . . . . . . . . . . . . . . . . . . . . . . . . . . . . . . . . . . . . . . . . . . . . . . . . . . . . . . . . . . . . . . . . . . . . . . . . . . . . . . . . . . . . . . . . . . . . . . . . . . . . . . . . . . . . . . . . . . . . . . . . . . . . . . . . . . . . . . . . . . . . . . . . . . . . . . . . . . . . . . . . . . . . . . . . . . . . . . . . . . . . . . . . . . . . . . . . . . . . . . . . . . . . . . . . . . . . . . . . . . . . . . . . . . . . . . . . . . . . . . . . . . . . . . . . . . . . . . . . . . . . . . . . . . . . . . . . . . . . . . . . . . . . . . . . . . . . . . . . . . . . . . . . . . . . . . . . . . . . . . . . . . . . . . . . . . . . . . . . . . . . . . . . . . . . . . . . . . . . . . . . . . . . . . . . . . . . . . . . . . . . . . . . . . . . . . . . . . . . . . . . . . . . . . . . . . . . . . . . . . . . . . . . . . . . . . . . . . . . . . . . . . . . . . . . . . . . . . . . . . . . . . . . . . . . . . . . . . . . . . . . . . . . . . . . . . . . . . . . . . . . . . . . . . . . . . . . . . . . . . . . . . . . . . . . . . . . . . . . . . . . . . . . . . . . . . . . . . . . . . . . . . . . . . . . . . . . . . . . . . . . . . . . . . . . . . . . . . . . . . . . . . . . . . . . . . . . . . . . . . . . . . . . . . . . . . . . . . . . . . . . . . . . . . . . . . . . . . . . . . . . . . . . . . . . . . . . . . . . . . . . . . . . . . . . . . . . . . . . . . . . . . . . . . . . . . . . . . . . . . . . . . . . . . . . . . . . . . . . . . . . . . . . . . . . . . . . . . . . . . . . . . . . . . . . . . . . . . . . . . . . . . . . . . . . . . . . . . . . . . . . . . . . . . . . . . . . . . . . . . . . . . . . . . . . . . . . . . . . . . . . . . . . . . . . . . . . . . . . . . . . . . . . . . . . . . . . . . . . . . . . . . . . . . . . . . . . . . . . . . . . . . . . . . . . . . . . . . . . . . . . . . . . . . . . . . . . . . . . . . . . . . . . . . . . . . . . . . . . . . . . . . . . . . . . . . . . . . . . . . . . . . . . . . . . . . . . . . . . . . . . . . . . . . . . . . . . . . . . . . . . . . . . . . . . . . . . . . . . . . . . . . . . . . . . . . . . . . . . . . . . . . . . . . . . . . . . . . . . . . . . . . . . . . . . . . . . . . . . . . . . . . . . . . . . . . . . . . . . . . . . . . . . . . . . . . . . . . . . . . . . . . . . . . . . . . . . . . . . . . . . . . . . . . . . . . . . . . . . . . . . . . . . . . . . . . . . . . . . . . . . . . . . . . . . . . . . . . . . . . . . . . . . . . . . . . . . . . . . . . . . . . . . . . . . . . . . . . . . . . . . . . . . . . . . . . . . . . . . . . . . . . . . . . . . . . . . . . . . . . . . . . . . . . . . . . . . . . . . . . . . . . . . . . . . . . . . . . . . . . . . . . . . . . . . . . . . . . . . . . . . . . . . . . . . . . . . . . . . . . . . . . . . . . . . . . . . . . . . . . . . . . . . . . . . . . . . . . . . . . . . . . . . . . . . . . . . . . . . . . . . . . . . . . . . . . . . . . . . . . . . . . . . . . . . . . . . . . . . . . . . . . . . . . . . . . . . . . . . . . . . . . . . . . . . . . . . . . . . . . . . . . . . . . . . . . . . . . . . . . . . . . . . . . . . . . . . . . . . . . . . . . . . . . . . . . . . . . . . . . . . . . . . . . . . . . . . . . . . . . . . . . . . . . . . . . . . . . . . . . . . . . . . . . . . . . . . . . . . . . . . . . . . . . . . . . . . . . . . . . . . . . . . . . . . . . . . . . . . . . . . . . . . . . . . . . . . . . . . . . . . . . . . . . . . . . . . . . . . . . . . . . . . . . . . . . . . . . . . . . . . . . . . . . . . . . . . . . . . . . . . . . . . . . . . . . . . . . . . . . . . . . . . . . . . . . . . . . . . . . . . . . . . . . . . . . . . . . . . . . . . . . . . . . . . . . . . . . . . . . . . . . . . . . . . . . . . . . . . . . . . . . . . . . . . . . . . . . . . . . . . . . . . . . . . . . . . . . . . . . . . . . . . . . . . . . . . . . . . . . . . . . . . . . . . . . . . . . . . . . . . . . . . . . . . . . . . . . . . . . . . . . . . . . . . . . . . . . . . . . . . . . . . . . . . . . . . . . . . . . . . . . . . . . . . . . . . . . . . . . . . . . . . . . . . . . . . . . . . . . . . . . . . . . . . . . . . . . . . . . . . . . . . . . . . . . . . . . . . . . . . . . . . . . . . . . . . . . . . . . . . . . . . . . . . . . . . . . . . . . . . . . . . . . . . . . . . . . . . . . . . . . . . . . . . . . . . . . . . . . . . . . . . . . . . . . . . . . . . . . . . . . . . . . . . . . . . . . . . . . . . . . . . . . . . . . . . . . . . . . . . . . . . . . . . . . . . . . . . . . . . . . . . . . . . . . . . . . . . . . . . . . . . . . . . . . . . . . . . . . . . . . . . . . . . . . . . . . . . . . . . . . . . . . . . . . . . . . . . . . . . . . . . . . . . . . . . . . . . . . . . . . . . . . . . . . . . . . . . . . . . . . . . . . . . . . . . . . . . . . . \n",
      " New best R^2 score:  0.708281462919  with features:  ['X251', 'X113', 'X336', 'X79']\n",
      ". . . . . . . . . . . . . . . . . . . . . . . . . . . . . . . . . . . . . . . . . . . . . . . . . . . . . . . . . . . . . . . . . . . . . . . . . . . . . . . . . . . . . . . . . . . . . . . . . . . . . . . . . . . . . . . . . . . . . . . . . . . . . . . . . . . . . . . . . . . . . . . . . . . . . . . . . . . . . . . . . . . . . . . . . . . . . . . . . . . . . . . . . . . . . . . . . . . . . . . . . . . . . . . . . . . . . . . . . . . . . . . . . . . . . . . . . . . . . . . . . . . . . . . . . . . . . . . . . . . . . . . . . . . . . . . . . . . . . . . . . . . . . . . . . . . . . . . . . . . . . . . . . . . . . . . . . . . . . . . . . . . . . . . . . . . . . . . . . . . . . . . . . . . . . . . . . . . . . . . . . . . . . . . . . . . . . . . . . . . . . . . . . . . . . . . . . . . . . . . . . . . . . . . . . . . . . . . . . . . . . . . . . . . . . . . . . . . . . . . . . . . . . . . . . . . . . . . . . . . . . . . . . . . . . . . . . . . . . . . . . . . . . . . . . . . . . . . . . . . . . . . . . . . . . . . . . . . . . . . . . . . . . . . . . . . . . . . . . . . . . . . . . . . . . . . . . . . . . . . . . . . . . . . . . . . . . . . . . . . . . . . . . . . . . . . . . . . . . . . . . . . . . . . . . . . . . . . . . . . . . . . . . . . . . . . . . . . . . . . . . . . . . . . . . . . . . . . . . . . . . . . . . . . . . . . . . . . . . . . . . . . . . . . . . . . . . . . . . . . . . . . . . . . . . . . . . . . . . . . . . . . . . . . . . . . . . . . . . . . . . . . . . . . . . . . . . . . . . . . . . . . . . . . . . . . . . . . . . . . . . . . . . . . . . . . . . . . . . . . . . . . . . . . . . . . . . . . . . . . . . . . . . . . . . . . . . . . . . . . . . . . . . . . . . . . . . . . . . . . . . . . . . . . . . . . . . . . . . . . . . . . . . . . . . . . . . . . . . . . . . . . . . . . . . . . . . . . . . . . . . . . . . . . . . . . . . . . . . . . . . . . . . . . . . . . . . . . . . . . . . . . . . . . . . . . . . . . . . . . . . . . . . . . . . . . . . . . . . . . . . . . . . . . . . . . . . . . . . . . . . . . . . . . . . . . . . . . . . . . . . . . . . . . . . . . . . . . . . . . . . . . . . . . . . . . . . . . . . . . . . . . . . . . . . . . . . . . . . . . . . . . . . . . . . . . . . . . . . . . . . . . . . . . . . . . . . . . . . . . . . . . . . . . . . . . . . . . . . . . . . . . . . . . . . . . . . . . . . . . . . . . . . . . . . . . . . . . . . . . . . . . . . . . . . . . . . . . . . . . . . . . . . . . . . . . . . . . . . . . . . . . . . . . . . . . . . . . . . . . . . . . . . . . . . . . . . . . . . . . . . . . . . . . . . . . . . . . . . . . . . . . . . . . . . . . . . . . . . . . . . . . . . . . . . . . . . . . . . . . . . . . . . . . . . . . . . . . . . . . . . . . . . . . . . . . . . . . . . . . . . . . . . . . . . . . . . . . . . . . . . . . . . . . . . . . . . . . . . . . . . . . . . . . . . . . . . . . . . . . . . . . . . . . . . . . . . . . . . . . . . . . . . . . . . . . . . . . . . . . . . . . . . . . . . . . . . . . . . . . . . . . . . . . . . . . . . . . . . . . . . . . . . . . . . . . . . . . . . . . . . . . . . . . . . . . . . . . . . . . . . . . . . . . . . . . . . . . . . . . . . . . . . . . . . . . . . . . . . . . . . . . . . . . . . . . . . . . . . . . . . . . . . . . . . . . . . . . . . . . . . . . . . . . . . . . . . . . . . . . . . . . . . . . . . . . . . . . . . . . . . . . . . . . . . . . . . . . . . . . . . . . . . . . . . . . . . . . . . . . . . . . . . . . . . . . . . . . . . . . . . . . . . . . . . . . . . . . . . . . . . . . . . . . . . . . . . . . . . . . . . . . . . . . . . . . . . . . . . . . . . . . . . . . . . . . . . . . . . . . . . . . . . . . . . . . . . . . . . . . . . . . . . . . . . . . . . . . . . . . . . . . . . . . . . . . . . . . . . . . . . . . . . . . . . . . . . . . . . . . . . . . . . . . . . . . . . . . . . . . . . \n",
      " New best R^2 score:  0.708303685067  with features:  ['X378', 'X336', 'X50', 'X79']\n",
      ". . . . . . . . . . . . . . . . . . . . . . . . . . . . . . . . . . . . . . . . . . . . . . . . . . . . . . . . . . . . . . . . . . . . . . . . . . . . . . . . . . . . . . . . . . . . . . . . . . . . . . . . . . . . . . . . . . . . . . . . . . . . . . . . . . . . . \n",
      " Best R^2 score:  0.708303685067  with features:  ['X46', 'X189', 'X64', 'X29', 'X28', 'X20', 'X22', 'X171', 'X256', 'X158', 'X154', 'X150', 'X118', 'X337', 'X136', 'X111', 'X116', 'X115', 'X376', 'X50', 'X334', 'X79', 'X75', 'X264', 'X327', 'X166', 'X163', 'X148', 'X223', 'X224', 'X100', 'X103', 'X209', 'X202', 'X108', 'X378', 'X201', 'X314', 'X285', 'X336', 'X283', 'X129', 'X313', 'X127', 'X265', 'X120', 'X355', 'X261']\n",
      "Calculating new correlation matrix\n",
      "\n",
      " New best R^2 score:  0.708326495239  with features:  ['X54']\n",
      "\n",
      " New best R^2 score:  0.708346855998  with features:  ['X170']\n",
      "\n",
      " New best R^2 score:  0.708625715703  with features:  ['X374']\n",
      ". \n",
      " New best R^2 score:  0.708625715856  with features:  ['X268', 'X374']\n",
      ". . . . . . \n",
      " New best R^2 score:  0.708653289614  with features:  ['X54', 'X374']\n",
      ". . . . . . . . \n",
      " New best R^2 score:  0.70866910572  with features:  ['X170', 'X374']\n",
      ". . . . . . . . . . . . . . . . . . . . . \n",
      " New best R^2 score:  0.708669105846  with features:  ['X268', 'X170', 'X374']\n",
      ". . . . . . . . . . . . . . . . . . . . . . . . . . . . . . . . . . . . . . . . . . . . . . . . . . . . . . . . . . . . . . . . . . . . . . . . . . . . . . . . . . . . . . . . . . . . . . . . . . . . . . . . . . . . . . . . . . . . . . . . . . . . . . . . . . . . . . . . . . . . . . . . . . . . . . . . . . . . . . . . . . . . . . . . . . . . . . . . . . . . . . . . . . . . . \n",
      " New best R^2 score:  0.708696474247  with features:  ['X54', 'X170', 'X374']\n",
      ". . . . . . . . . . . . . . . . . . . . . . . . . . . . . . . . . . . . . . . . . . . . . . . . . . . . . . . . . . . . . . . . . . . . . . . . . . . . . . . . . . . . . . . . . . . . . . . . . . . . . . . . . . . . . . . . . . . . . . . . . . . . . . . . . . . . . . . . . . . . . . . . . . . . . . . . . \n",
      " New best R^2 score:  0.708785820573  with features:  ['X168', 'X374', 'X255']\n",
      ". . . . . . . . . . . . . . . . . . . . . . . . . . . . . . . . . . . . . . . . . . . . . . . . . . . . . . . . . . . . . . . . . . . . . . . . . . . . . . . . . . . . . . . . . . . . . . . . . . . . . . . . . . . . . . . . . . . . . . . . . . . . . . . . . . . . . . . . . . . . . . . . . . . . . . . . . . . . . . . . . . . . . . . . . . . . . . . . . . . . . . . . . . . . . . . . . . . . . . . . . . . . . . . . . . . . . . . . . . . . . . . . . . . . . . . . . . . . . . . . . . . . . . . . . . . . . . . . . . . . . . . . . . . . . . . . . . . . . . . . . . . . . . . . . . . . . . . . . . . . . . . . . . . . . . . . . . . . . . . . . . . . . . . . . . . . . . . . . . . . . . . . . . . . . . . . . . . . . . . . . . . . . . . . . . . . . . . . . . . . . . . . . . . . . . . . . . . . . . . . . . . . . . . . . . . . . . . . . . . . . . . . . . . . . . . . . . . . \n",
      " New best R^2 score:  0.708785821469  with features:  ['X268', 'X168', 'X374', 'X255']\n",
      ". . . . . . . . . . . . . . . . . . . . . . . . . . . . . . . . . . . . . . . . . . . . . . . . . . . . . . . . . . . . . . . . . . . . . . . . . . . . . . . . . . . . . . . . . . . . . . . . . . . . . . . . . . . . . . . . . . . . . . . . . . . . . . . . . . . . . . . . . . . . . . . . . . . . . . . . . . . . . . . . . . . . . . . . . . . . . . . . . . . . . . . . . . . . . . . . . . . . . . . . . . . . . . . . . . . . . . . . . . . . . . . . . . . . . . . . . . . . . . . . . . . . . . . . . . . . . . . . . . . . . . . . . . . . . . . . . . . . . . . . . . . . . . . . . . . . . . . . . . . . . . . . . . . . . . . . . . . . . . . . . . . . . . . . . . . . . . . . . . . . . . . . . . . . . . . . . . . . . . . . . . . . . . . . . . . . . . . . . . . . . . . . . . . . . . . . . . . . . . . . . . . . . . . . . . . . . . . . . . . . . . . . . . . . . . . . . . . . . . . . . . . . . . . . . . . . . . . . . . . . . . . . . . . . . . . . . . . . . . . . . . . . . . . . . . . . . . . . . . . . . . . . . . . . . . . . . . . . . . . . . . . . . . . . . . . . . . . . . . . . . . . . . . . . . . . . . . . . . . . . . . . . . . . . . . . . . . . . . . . . . . . . . . . . . . . . . . . . . . . . . . . . . . . . . . . . . . . . . . . . . . . . . . . . . . . . . . . . . . . . . . . . . . . . . . . . . . . . . . . . . . . . . . . . . . . . . . . . . . . . . . . . . . . . . . . . . . . . . . . . . . . . . . . . . . . . . . . . . . . . . . . . . . . . . . . . . . . . . . . . . . . . . . . . . . . . . . . . . . . . . . . . . . . . . . . . . . . . . . . . . . . . . . . . . . . . . . . . . . . . . . . . . . . . . . . . . . . . . . . . . . . . . . . . . . . . . . . . . . . . . . . . . . . . . . . . . . . . . . . . . . . . . . . . . . . . . . . . . . . . . . . . . . . . . . . . . . . . . . . . . . . . . . . . . . . . . . . . . . . . . . . . . . . . . . . . . . . . . . . . . . . . . . . . . . . . . . . . . . . . . . . . . . . . . . . . . . . . . . . . . . . . . . . . . . . . . . . . . . . . . . . . . . . . . . . . . . . . . . . . . . . . . . . . . . . . . . . . . . . . . . . . . . . . . . . . . . . . . . . . . . . . . . . . . . . . . . . . . . . . . . . . . . . . . . . . . . . . . . . . . . . . . . . . . . . . . . . . . . . . . . . . . . . . . . . . . . . . . . . . . . . . . . . . . . . . . . . . . . . . . . . . . . . . . . . . . . . . . . . . . . . . . . . . . . . . . . . . . . . . . . . . . . . . . . . . . . . . . . . . . . . . . . . . . . . . . . . . . . . . . . . . . . . . . . . . . . . . . . . . . . . . . . . . . . . . . . . . . . . . . . . . . . . . . . . . . . . . . . . . . . . . . . . . . . . . . . . . . . . . . . . . . . . . . . . . . . . . . . . . . . . . . . . . . . . . . . . . . . . . . . . . . . . . . . . . . . . . . . . . . . . . . . . . . . . . . . . . . . . . . . . . . . . . . . . . . . . . . . . . . . . . . . . . . . . . . . . . . . . . . . . . . . . . . . . . . . . . . . . . . . . . . . . . . . . . . . . . . . . . . . . . . . . . . . . . . . . . . . . . . . . . . . . . . . . . . . . . . . . . . . . . . . . . . . . . . . . . . . . . . . . . . . . . . . . . . . . . . . . . . . . . . . . . . . . . . . . . . . . . . . . . . . . . . . . . . . . . . . . . . . . . . . . . . . . . . . . . . . . . . . . . . . . . . . . . . . . . . . . . . . . . . . . . . . . . . . . . . . . . . . . . . . . . . . . . . . . . . . . . . . . . . . . . . . . . . . . . . . . . . . . . . . . . . . . . . . . . . . . . . . . . . . . . . . . . . . . . . . . . . . . . . . . . . . . . . . . . . . . . . . . . . . . . . . . . . . . . . . . . . . . . . . . . . . . . . . . . . . . . . . . . . . . . . . . . . . . . . . . . . . . . . . . . . . . . . . . . . . . . . . . . . . . . . . . . . . . . . . . . . . . . . . . . . . . . . . . . . . . . . . . . . . . . . . . . . . . . . . . . . . . . . . . . . . . . . . . . . . . . . . . . . . . . . . . . . . . . . . . . . . . . . . . . . . . . . . . . . . . . . . . . . . . . . . . . . . . . . . . . . . . . . . . . . . . . . . . . . . . . . . . . . . . . . . . . . . . . . . . . . . . . . . . . . . . . . . . . . . . . . . . . . . . . . . . . . . . . . . . . . . . . . . . . . . . . . . . . . . . . . . . . . . . . . . . . . . . . . . . . . . . . . . . . . . . . . . . . . . . . . . . . . . . . . . . . . . . . . . . . . . . . . . . . . . . . . . . . . . . . . . . . . . . . . . . . . . . . . . . . . . . . . . . . . . . . . . . . . . . . . . . . . . . . . . . . . . . . . . . . . . . . . . . . . . . . . . . . . . . . . . . . . . . . . . . . . . . . . . . . . . . . . . . . . . . . . . . . . . . . . . . . . . . . . . . . . . . . . . . . . . . . . . . . . . . . . . . . . . . . . . . . . . . . . . . . . . . . . . . . . . . . . . . . . . . . . . . . . . . . . . . . . . . . . . . . . . . . . . . . . . . . . . . . . . . . . . . . . . . . . . . . . . . . . . . . . . . . . . . . . . . . . . . . . . . . . . . . . . . . . . . . . . . . . . . . . . . . . . . . . . . . . . . . . . . . . . . . . . . . . . . . . . . . . . . . . . . . . . . . . . . . . . . . . . . . . . . . . . . . . . . . . . . . . . . . . . . . . . . . . . . . . . . . . . . . . . . . . . . . . . . . . . . . . . . . . . . . . . . . . . . . . . . . . . . . . . . . . . . . . . . . . . . . . . . . . . . . . . . . . . . . . . . . . . . . . . . . . . . . . . . . . . . . . . . . . . . . . . . . . . . . . . . . . . . . . . . . . . . . . . . . . . . . . . . . . . . . . . . . . . . . . . . . . . . . . . . . . . . . . . . . . . . . . . . . . . . . . . . . . . . . . . . . . . . . . . . . . . . . . . . . . . . . . . . . . . . . . . . . . . . . . . . . . . . . . . . . . . . . . . . . . . . . . . . . . . . . . . . . . . . . . . . . . . . . . . . . . . . . . . . . . . . . . . . . . . . . . . . . . . . . . . . . . . . . . . . . . . . . . . . . . . . . . . . . . . . . . . . . . . . . . . . . . . . . . . . . . . . . . . . . . . . . . . . . . . . . . . . . . . . . . . . . . . . . . . . . . . . . . . . . . . . . . . . . . . . . . . . . . . . . . . . . . . . . . . . . . . . . . . . . . . . . . . . . . . . . . . . . . . . . . . . . . . . . . . . . . . . . . . . . . . . . . . . . . . . . . . . . . . . . . . . . . . . . . . . . . . . . . . . . . . . . . . . . . . . . . . . . . . . . . . . . . . . . . . . . . . . . . . . . . . . . . . . . . . . . . . . . . . . . . . . . . . . . . . . . . . . . . . . . . . . . . . . . . . . . . . . . . . . . . . . . . . . . . . . . . . . . . . . . . . . . . . . . . . . . . . . . . . . . . . . . . . . . . . . . . . . . . . . . . . . . . . . . . . . . . . . . . . . . . . . . . . . . . . . . . . . . . . . . . . . . . . . . . . . . . . . . . . . . . . . . . . . . . . . . . . . . . . . . . . . . . . . . . . . . . . . . . . . . . . . . . . . . . . . . . . . . . . . . . . . . . . . . . . . . . . . . . . . . . . . . . . . . . . . . . . . . . . . . . . . . . . . . . . . . . . . . . . . . . . . . . . . . . . . . . . . . . . . . . . . . . . . . . . . . . . . . . . . . . . . . . . . . . . . . . . . . . . . . . . . . . . . . . . . . . . . . . . . . . . . . . . . . . . . . . . . . . . . . . . . . . . . . . . . . . . . . . . . . . . . . . . . . . . . . . . . . . . . . . . . . . . . . . . . . . . . . . . . . . . . . . . . . . . . . . . . . . . . . . . . . \n",
      " New best R^2 score:  0.708823366458  with features:  ['X54', 'X168', 'X374', 'X255']\n",
      ". . . . . . . . . . . . . . . . . . . . . . . . . . . . . . . . . . . . . . . . . . . . . . . . . . . . . . . . . . . . . . . . . . . . . . . . . . . . . . . . . . . . . . . . . . . . . . . . . . . . . . . . . . . . . . . . . . . . . . . . . . . . . . . . . . . . . . . . . . . . . . . . . . . . . . . . . . . . . . . . . . . . . . . . . . . . . . . . . . . . . . . . . . . . . . . . . . . . . . . . . . . . . . . . . . . . . . . . . . . . . . . . . . . . . . . . . . . . . . . . . . . . . . . . . . . . . . . . . . . . . . . . . . . . . . . . . . . . . . . . . . . . . . . . . . . . . . . . . . . . . . . . . . . . . . . . . . . . . . . . . . . . . . . . . . . . . . . . . . . . . . . . . . . . . . . . . . . . . . . . . . . . . . . . . . . . . . . . . . . . . . . . . . . . . . . . . . . . . . . . . . . . . . . . . . . . . . . . . . . . . . . . . . . . . . . . . . . . . . . . . . . . . . . . . . . . . . . . . . . . . . . . . . . . . . . . . . . . . . . . . . . . . . . . . . . . . . . . . . . . . . . . . . . . . . . . . . . . . . . . . . . . . . . . . . . . . . . . . . . . . . . . . . . . . . . . . . . . . . . . . . . . . . . . . . . . . . . . . . . . . . . . . . . . . . . . . . . . . . . . . . . . . . . . . . . . . . . . . . . . . . . . . . . . . . . . . . . . . . . . . . . . . . . . . . . . . . . . . . . . . . . . . . . . . . . . . . . . . . . . . . . . . . . . . . . . . . . . . . . . . . . . . . . . . . . . . . . . . . . . . . . . . . . . . . . . . . . . . . . . . . . . . . . . . . . . . . . . . . . . . . . . . . . . . . . . . . . . . . . . . . . . . . . . . . . . . . . . . . . . . . . . . . . . . . . . . . . . . . . . . . . . . . . . . . . . . . . . . . . . . . . . . . . . . . . . . . . . . . . . . . . . . . . . . . . . . . . . . . . . . . . . . . . . . . . . . . . . . . . . . . . . . . . . . . . . . . . . . . . . . . . . . . . . . . . . . . . . . . . . . . . . . . . . . . . . . . . . . . . . . . . . . . . . . . . . . . . . . . . . . . . . . . . . . . . . . . . . . . . . . . . . . . . . . . . . . . . . . . . . . . . . . . . . . . . . . . . . . . . . . . . . \n",
      " New best R^2 score:  0.708949323865  with features:  ['X178', 'X168', 'X374', 'X255']\n",
      ". . . . . . . . . . . . . . . . . . . . . . . . . . . . . . . . . . . . . . . . . . . . . . . . . . . . . . . . . . . . . . . . . . . . . . . . . . . . . . . . . . . . . . . . . . . . . . . . . . . . . . . . . . . . . . . . . . . . . . . . . . . . . . . . . . . . . . . . . . . . . . . . . . . . . . . . . . . . . . . . . . . . . . . . . . . . . . . . . . . . . . . . . . . . . . . . . . . . . . . . . . . . . . . . . . . . . . . . . . . . . . . . . . . . . . . . . . . . . . . . . . . . . . . . . . . . . . . . . . . . . . . . . . . . . . . . . . . . . . . . . . . . . . . . . . . . . . . . . . . . . . . . . . . . . . . . . . . . . . . . . . . . . . . . . . . . . . . . . . . . . . . . . . . . . . . . . . . . . . . . . . . . . . . . . . . . . . . . . . . . . . . . . . . . . . . . . . . . . . . . . . . . . . . . . . . . . . . . . . . . . . . . . . . . . . . . . . . . . . . . . . . . . . . . . . . . . . . . . . . . . . . . . . . . . . . . . . . . . . . . . . . . . . . . . . . . . . . . . . . . . . . . . . . . . . . . . . . . . . . . . . . . . . . . . . . . . . . . . . . . . . . . . . . . . . . . . . . . . . . . . . . . . . . . . . . . . . . . . . . . . . . . . . . . . . . . . . . . . . . . . . . . . . . . . . . . . . . . . . . . . . . . . . . . . . . . . . . . . . . . . . . . . . . . . . . . . . . . . . . . . . . . . . . . . . . . . . . . . . . . . . . . . . . . . . . . . . . . . . . . . . . . . . . . . . . . . . . . . . . . . . . . . . . . . . . . . . . . . . . . . . . . . . . . . . . . . . . . . . . . . . . . . . . . . . . . . . . . . . . . . . . . . . . . . . . . . . . . . . . . . . . . . . . . . . . . . . . . . . . . . . . . . . . . . . . . . . . . . . . . . . . . . . . . . . . . . . . . . . . . . . . . . . . . . . . . . . . . . . . . . . . . . . . . . . . . . . . . . . . . . . . . . . . . . . . . . . . . . . . . . . . . . . . . . . . . . . . . . . . . . . . . . . . . . . . . . . . . . . . . . . . . . . . . . . . . . . . . . . . . . . . . . . . . . . . . . . . . . . . . . . . . . . . . . . . . . . . . . . . . . . . . . . . . . . . . . . . . . . . . . . . . . . . . . . . . . . . . . . . . . . . . . . . . . . . . . . . . . . . . . . . . . . . . . . . . . . . . . . . . . . . . . . . . . . . . . . . . . . . . . . . . . . . . . . . . . . . . . . . . . . . . . . . . . . . . . . . . . . . . . . . . . . . . . . . . . . . . . . . . . . . . . . . . . . . . . . . . . . . . . . . . . . . . . . . . . . . . . . . . . . . . . . . . . . . . . . . . . . . . . . . . . . . . . . . . . . . . . . . . . . . . . . . . . . . . . . . . . . . . . . . . . . . . . . . . . . . . . . . . . . . . . . . . . . . . . . . . . . . . . . . . . . . . . . . . . . . . . . . . . . . . . . . . . . . . . . . . . . . . . . . . . . . . . . . . . . . . . . . . . . . . . . . . . . . . . . . . . . . . . . . . . . . . . . . . . . . . . . . . . . . . . . . . . . . . . . . . . . . . . . . . . . . . . . . . . . . . . . . . . . . . . . . . . . . . . . . . . . . . . . . . . . . . . . . . . . . . . . . . . . . . . . . . . . . . . . . . . . . . . . . . . . . . . . . . . . . . . . . . . . . . . . . . . . . . . . . . . . . . . . . . . . . . . . . . . . . . . . . . . . . . . . . . . . . . . . . . . . . . . . . . . . . . . . . . . . . . . . . . . . . . . . . . . . . . . . . . . . . . . . . . . . . . . . . . . . . . . . . . . . . . . . . . . . . . . . . . . . . . . . . . . . . . . . . . . . . . . . . . . . . . . . . . . . . . . . . . . . . . . . . . . . . . . . . . . . . . . . . . . . . . . . . . . . . . . . . . . . . . . . . . . . . . . . . . . . . . . . . . . . . . . . . . . . . . . . . . . . . . . . . . . . . . . . . . . . . . . . . . . . . . . . . . . . . . . . . . . . . . . . . . . . . . . . . . . . . . . . . . . . . . . . . . . . . . . . . . . . . . . . . . . . . . . . . . . . . . . . . . . . . . . . . . . . . . . . . . . . . . . . . . . . . . . . . . . . . . . . . . . . . . . . . . . . . . . . . . . . . . . . . . . . . . . . . . . . . . . . . . . . . . . . . . . . . . . . . . . . . . . . . . . . . . . . . . . . . . . . . . . . . . . . . . . . . . . . . . . . . . . . . . . . . . . . . . . . . . . . . . . . . . . . . . . . . . . . . . . . . . . . . . . . . . . . . . . . . . . . . . . . . . . . . . . . . . . . . . . . . . . . . . . . . . . . . . . . . . . . . . . . . . . . . . . . . . . . . . . . . . . . . . . . . . . . . . . . . . . . . . . . . . . . . . . . . . . . . . . . . . . . . . . . . . . . . . . . . . . . . . \n",
      " Best R^2 score:  0.708949323865  with features:  ['X46', 'X189', 'X64', 'X29', 'X28', 'X20', 'X22', 'X255', 'X171', 'X256', 'X158', 'X178', 'X154', 'X150', 'X118', 'X337', 'X136', 'X111', 'X116', 'X115', 'X376', 'X50', 'X334', 'X79', 'X75', 'X264', 'X327', 'X166', 'X163', 'X148', 'X374', 'X223', 'X224', 'X100', 'X103', 'X209', 'X168', 'X202', 'X108', 'X378', 'X201', 'X314', 'X285', 'X336', 'X283', 'X129', 'X313', 'X127', 'X265', 'X120', 'X355', 'X261']\n",
      "Calculating new correlation matrix\n",
      "\n",
      " New best R^2 score:  0.708949324261  with features:  ['X107']\n",
      "\n",
      " New best R^2 score:  0.708950546256  with features:  ['X251']\n",
      "\n",
      " New best R^2 score:  0.709085428875  with features:  ['X275']\n",
      "\n",
      " New best R^2 score:  0.709085430019  with features:  ['X297', 'X275']\n",
      ". . . . . . . . \n",
      " New best R^2 score:  0.709086221247  with features:  ['X251', 'X275']\n",
      ". . . \n",
      " New best R^2 score:  0.709096997601  with features:  ['X275', 'X113']\n",
      "\n",
      " New best R^2 score:  0.709127277916  with features:  ['X275', 'X66']\n",
      "\n",
      " New best R^2 score:  0.709206099015  with features:  ['X275', 'X294']\n",
      ". . . . . . . . . . . . . . . . . . . . . . . . . . . . . . . . . . . . . . . . . . . . . . . . . . . . . . . . . . . . . . . . . . . . . . . . . . . . . . . . . . . . . . . . . . . . . . . . . . . . . . . . . . . . . . . . . . . . . . . . . . . . . . . . . . . . . . . . . . . . . . . . . . . . . . . . . . . . . . . . . . . . . . . . . . . . . . . . . . . . . . . . . . . . . . . . . . . . . . . . . . . . . . . . . . . . . . . . . . . . . . . . . . . . . . . . \n",
      " New best R^2 score:  0.709206378668  with features:  ['X251', 'X275', 'X294']\n",
      ". . . . . . . . . . . . . . . . . . . . . . . . . . . . . . . . . . . . . . . . . . . . . . . . . . . . . . . . . . . . . . \n",
      " New best R^2 score:  0.709210319184  with features:  ['X275', 'X113', 'X294']\n",
      "\n",
      " New best R^2 score:  0.709247534601  with features:  ['X275', 'X66', 'X294']\n",
      ". . . . . . . . . . . . . . . . . . . . . . . . . . . . . . . . . . . . . . . . . . . . . . . . . . . . . . . . . . . . . . . . . . . . . . . . . . . . . . . . . . . . . . . . . . . . . . . . . . . . . . . . . . . . . . . . . . . . . . . . . . . . . . . . . . . . . . . . . . . . . . . . . . . . . . . . . . . . . . . . . . . . . . . . . . . . . . . . . . . . . . . . . . . . . . . . . . . . . . . . . . . . . . . . . . . . . . . . . . . . . . . . . . . . . . . . . . . . . . . . . . . . . . . . . . . . . . . . . . . . . . . . . . . . . . . . . . . . . . . . . . . . . . . . . . . . . . . . . . . . . . . . . . . . . . . . . . . . . . . . . . . . . . . . . . . . . . . . . . . . . . . . . . . . . . . . . . . . . . . . . . . . . . . . . . . . . . . . . . . . . . . . . . . . . . . . . . . . . . \n",
      " New best R^2 score:  0.709247534648  with features:  ['X297', 'X275', 'X66', 'X294']\n",
      ". . . . . . . . . . . . . . . . . . . . . . . . . . . . . . . . . . . . . . . . . . . . . . . . . . . . . . . . . . . . . . . . . . . . . . . . . . . . . . . . . . . . . . . . . . . . . . . . . . . . . . . . . . . . . . . . . . . . . . . . . . . . . . . . . . . . . . . . . . . . . . . . . . . . . . . . . . . . . . . . . . . . . . . . . . . . . . . . . . . . . . . . . . . . . . . . . . . . . . . . . . . . . . . . . . . . . . . . . . . . . . . . . . . . . . . . . . . . . . . . . . . . . . . . . . . . . . . . . . . . . . . . . . . . . . . . . . . . . . . . . . . . . . . . . . . . . . . . . . . . . . . . . . . . . . . . . . . . . . . . . . . . . . . . . . . . . . . . . . . . . . . . . . . . . . . . . . . . . . . . . . . . . . . . . . . . . . . . . . . . . . . . . . . . . . . . . . . . . . . . . . . . . . . . . . . . . . . . . . . . . . . . . . . . . . . . . . . . . . . . . . . . . . . . . . . . . . . . . . . . . . . . . . . . . . . . . . . . . . . . . . . . . . . . . . . . . . . . . . . . . . . . . . . . . . . . . . . . . . . . . . . . . . . . . . . . . . . . . . . . . . . . . . . . . . . . . . . . . . . . . . . . . . . . . . . . . . . . . . . . . . . . . . . . . . . . . . . . . . . . . . . . . . . . . . . . . . . . . . . . . . . . . . . . . . . . . . . . . . . . . . . . . . . . . . . . . . . . . . . . . . . . . . . . . . . . . . . . . . . . . . . . . . . . . . . . . . . . . . . . . . . . . . . . . . . . . . . . . . . . . . . . . . . . . . . . . . . . . . . . . . . . . . . . . . . . . . . . . . . . . . . . . . . . . . . . . . . . . . . . . . . . . . . . . . . . . . . . . . . . . . . . . . . . . . . . . . . . . . . . . . . . . . . . . . . . . . . . . . . . . . . . . . . . . . . . . . . . . . . . . . . . . . . . . . . . . . . . . . . . . . . . . . . . . . . . . . . . . . . . . . . . . . . . . . . . . . . . . . . . . . . . . . . . . . . . . . . . . . . . . . . . . . . . . . . . . . . . . . . . . . . . . . . . . . . . . . . . . . . . . . . . . . . . . . . . . . . . . . . . . . . . . . . . . . . . . . . . . . . . . . . . . . . . . . . . . . . . . . . . . . . . . . . . . . . . . . . . . . . . . . . . . . . . . . . . . . . . . . . . . . . . . . . . . . . . . . . . . . . . . . . . . . . . . . . . . . . . . . . . . . . . . . . . . . . . . . . . . . . . . . . . . . . . . . . . . . . . . . . . . . . . . . . . . . . . . . . . . . . . . . . . . . . . . . . . . . . . . . . . . . . . . . . . . . . . . . . . . . . . . . . . . . . . . . . . . . . . . . . . . . . . . . . . . . . . . . . . . . . . . . . . . . . . . . . . . . . . . . . . . . . . . . . . . . . . . . . . . . . . . . . . . . . . . . . . . . . . . . . . . . . . . . . . . . . . . . . . . . . . . . . . . . . . . . . . . . . . . . . . . . . . . . . . . . . . . . . . . . . . . . . . . . . . . . . . . . . . . . . . . . . . . . . . . . . . . . . . . . . . . . . . . . . . . . . . . . . . . . . . . . . . . . . . . . . . . . . . . . . . . . . . . . . . . . . . . . . . . . . . . . . . . . . . . . . . . . . . . . . . . . . . . . . . . . . . . . . . . . . . . . . . . . . . . . . . . . . . . . . . . . . . . . . . . . . . . . . . . . . . . . . . . . . . . . . . . . . . . . . . . . . . . . . . . . . . . . . . . . . . . . . . . . . . . . . . . . . . . . . . . . . . . . . . . . . . . . . . . . . . . . . . . . . . . . . . . . . . . . . . . . . . . . . . . . . . . . . . . . . . . . . . . . . . . . . . . . . . . . . . . . . . . . . . . . . . . . . . . . . . . . . . . . . . . . . . . . . . . . . . . . . . . . . . . . . . . . . . . . . . . . . . . . . . . . . . . . . . . . . . . . . . . . . . . . . . . . . . . . . . . . . . . . . . . . . . . . . . . . . . . . . . . . . . . . . . . . . . . . . . . . . . . . . . . . . . . . . . . . . . . . . . . . . . . . . . . . . . . . . . . . . . . . . . . . . . . . . . . . . . . . . . . . . . . . . . . . . . . . . . . . . . . . . . . . . . . . . . . . . . . . . . . . . . . . . . . . . . . . . . . . . . . . . . . . . . . . . . . . . . . . . . . . . . . . . . . . . . . . . . . . . . . . . . . . . . . . . . . . . . . . . . . . . . . . . . . . . . . . . . . . . . . . . . . . . . . . . . . . . . . . . . . . . . . . . . . . . . . . . . . . . . . . . . . . . . . . . . . . . . . . . . . . . . . . . . . . . . . . . . . . . . . . . . . . . . . . . . . . . . . . . . . . . . . . . . . . . . . . . . . . . . . . . . . . . . . . . . . . . . . . . . . . . . . . . . . . . . . . . . . . . . . . . . . . . . . . . . . . . . . . . . . . . . . . . . . . . . . . . . . . . . . . . . . . . . . . . . . . . . . . . . . . . . . . . . . . . . . . . . . . . . . . . . . . . . . . . . . . . . . . . . . . . . . . . . . . . . . . . . . . . . . . . . . . . . . . . . . . . . . . . . . . . . . . . . . . . . . . . . . . . . . . . . . . . . . . . . . . . . . . . . . . . . . . . . . . . . . . . . . . . . . . . . . . . . . . . . . . . . . . . . . . . . . . . . . . . . . . . . . . . . . . . . . . . . . . . . . . . . . . . . . . . . . . . . . . . . . . . . . . . . . . . . . . . . . . . . . . . . . . . . . . . . . . . . . . . . . . . . . . . . . . . . . . . . . . . . . . . . . . . . . . . . . . . . . . . . . . . . . . . . . . . . . . . . . . . . . . . . . . . . . . . . . . . . . . . . . . . . . . . . . . . . . . . . . . . . . . . . . . . . . . . . . . . . . . . . . . . . . . . . . . . . . . . . . . . . . . . . . . . . . . . . . . . . . . . . . . . . . . . . . . . . . . . . . . . . . . . . . . . . . . . . . . . . . . . . . . . . . . . . . . . . . . . . . . . . . . . . . . . . . . . . . . . . . . . . . . . . . . . . . . . . . . . . . . . . . . . . . . . . . . . . . . . . . . . . . . . . . . . . . . . . . . . . . . . . . . . . . . . . . . . . . . . . . . . . . . . . . . . . . . . . . . . . . . . . . . . . . . . . . . . . . . . . . . . . . . . . . . . . . . . . . . . . . . . . . . . . . . . . . . . . . . . . . . . . . . . . . . . . . . . . . . . . . . . . . . . . . . . . . . . . . . . . . . . . . . . . . . . . . . . . . . . . . . . . . . . . . . . . . . . . . . . . . . . . . . . . . . . . . . . . . . . . . . . . . . . . . . . . . . . . . . . . . . . . . . . . . . . . . . . . . . . . . . . . . . . . . . . . . . . . . . . . . . . . . . . . . . . . . . . . . . . . . . . . . . . . . . . . . . . . . . . . . . . . . . . . . . . . . . . . . . . . . . . . . . . . . . . . . . . . . . . . . . . . . . . . . . . . . . . . . . . . . . . . . . . . . . . . . . . . . . . . . . . . . . . . . . . . . . . . . . . . . . . . . . . . . . . . . . . . . . . . . . . . . . . . . . . . . . . . . . . . . . . . . . . . . . . . . . . . . . . . . . . . . . . . . . . . . . . . . . . . . . . . . . . . . . . . . . . . . . . . . . . . . . . . . . . . . . . . . . . . . . . . . . . . . . . . . . . . . . . . . . . . . . . . . . . . . . . . . . . . . . . . . . . . . . . . . . . . . . . . . . . . . . . . . . . . . . . . . . . . . . . . . . . . . . . . . . . . . . . . . . . . . . . . . . . . . . . . . . . . . . . . . . . . . . . . . . . . . . . . . . . . . . . . . . . . . . . . . . . . . . . . . . . . . . . . . . . . . . . . . . . . . . . . . . . . . . . . . . . . . . . . . . . . . . . . . . . . . . . . . . . . . . . . . . . . . . . . . . . . . . . . . . . . . . . . . . . . . . . . . . . . . . . . . . . . . . . . . . . . . . . . . . . . . . . . . . . . . . . . . . . . . . . . . . . . . . . . . . . . . . . . . . . . . . . . . . . . . . . . . . . . . . . . . . . . . . . . . . . . . . . . . . . . . . . . . . . . . . . . . . . . . . . . . . . . . . . . . . . . . . . . . . . . . . . . . . . . . . . . . . . . . . . . . . . . . . . . . . . . . . . . . . . . . . . . . . . . . . . . . . . . . . . . . . . . . . . . . . . . . . . . . . . . . . . . . . . . . . . . . . . . . \n",
      " New best R^2 score:  0.709248060582  with features:  ['X251', 'X275', 'X66', 'X294']\n",
      ". . . . . . . . . . . . . . . . . . . . . . . . . . . . . . . . . . . . . . . . . . . . . . . . . . . . . . . . . . . . . . . . . . . . . . . . . . . . . . . . . . . . . . . . . . . . . . . . . . . . . . . . . . . . . . . . . . . . . . . . . . . . . . . . . . . . . . . . . . . . . . . . . . . . . . . . . . . . . . . . . . . . . . . . . . . . . . . . . . . . . . . . . . . . . . . . . . . . . . . . . . . . . . . . . . . . . . . . . . . . . . . . . . . . . . . . . . . . . . . . . . . . . . . . . . . . . . . . . . . . . . . . . . . . . . . . . . . . . . . . . . . . . . . . . . . . . . . . . . . . . . . . . . . . . . . . . . . . . . . . . . . . . . . . . . . . . . . . . . . . . . . . . . . . . . . . . . . . . . . . . . . . . . . . . . . . . . . . . . . . . . . . . . . . . . . . . . . . . . . . . . . . . . . . . . . . . . . . . . . . . . . . . . . . . . . . . . . . . . . . . . . . . . . . . . . . . . . . . . . . . . . . . . . . . . . . . . . . . . . . . . . . . . . . . . . . . . . . . . . . . . . . . . . . . . . . . . . . . . . . . . . . . . . . . . . . . . . . . . . . . . . . . . . . . . . . . . . . . . . . . . . . . . . . . . . . . . . . . . . . . . . . . . . . . . . . . . . . . . . . . . . . . . . . . . . . . . . . . . . . . . . . . . . . . . . . . . . . . . . . . . . . . . . . . . . . . . . . . . . . . . . . . . . . . . . . . . . . . . . . . . . . . . . . . . . . . . . . . . . . . . . . . . . . . . . . . . . . . . . . . . . . . . . . . . . . . . . . . . . . . . . . . . . . . . . . . . . . . . . . . . . . . . . . . . . . . . . . . . . . . . . . . . . . . . . . . . . . . . . . . . . . . . . . . . . . . . . . . . . . . . . . . . . . . . . . . . . . . . . . . . . . . . . . . . . . . . . . . . . . . . . . . . . . . . . . . . . . . . . . . . . . . . . . . . . . . . . . . . . . . . . . . . . . . . \n",
      " New best R^2 score:  0.709262517005  with features:  ['X275', 'X66', 'X128', 'X294']\n",
      ". . . \n",
      " New best R^2 score:  0.709290474969  with features:  ['X275', 'X66', 'X321', 'X294']\n",
      ". . . . . . . . . . . . . . . . . . . . . . . . . . . . . . . . . . . . . . . . . . . . . . . . . . . . . . . . . . . . . . . . . . . . . . . . . . . . . . \n",
      " New best R^2 score:  0.709353318227  with features:  ['X275', 'X331', 'X352', 'X294']\n",
      ". . . . . . . . . . . . . . . . . . . . . . . . . . . . . . . . . . . . . . . . . . . . . . . . . . . . . . . . . . . . . . . . . . . . . . . . . . . . . . . . . . . . . . . . . . . . . . . . . . . . . . . . . . . . . . . . . . . . . . . . . . . . . . . . . . . . . . . . . . . . . . . . . . . . . . . . . . . . . . . . . . . . . . . . . . . . . . . . . . . . . . . . . . . . . . . . . . . . . . . . . . . . . . . . . . . . . . . . . . . . . . . . . . . . . . . . . . . . . . . . . . . . . . . . . . . . . . . . . . . . . . . . . . . . . . . . . . . . . . . . . . . . . . . . . . . . . . . . . . . . . . . . . . . . . . . . . . . . . . . . . . . . . . . . . . . . . . . . . . . . . . . . . . . . . . . . . . . . . . . . . . . . . . . . . . . . . . . . . . . . . . . . . . . . . . . . . . . . . . . . . . . . . . . . . . . . . . . . . . . . . . . . . . . . . . . . . . . . . . . . . . . . . . . . . . . . . . . . . . . . . . . . . . . . . . . . . . . . . . . . . . . . . . . . . . . . . . . . . . . . . . . . . . . . . . . . . . . . . . . . . . . . . . . . . . . . . . . . . . . . . . . . . . . . . . . . . . . . . . . . . . . . . . . . . . . . . . . . . . . . . . . . . . . . . . . . . . . . . . . . . . . . . . . . . . . . . . . . . . . . . . . . . . . . . . . . . . . . . . . . . . . . . . . . . . . . . . . . . . . . . . . . . . . . . . . . . . . . . . . . . . . . . . . . . . . . . . . . . . . . . . . . . . . . . . . . . . . . . . . . . . . . . . . . . . . . . . . . . . . . . . . . . . . . . . . . . . . . . . . . . . . . . . . . . . . . . . . . . . . . . . . . . . . . . . . . . . . . . . . . . . . . . . . . . . . . . . . . . . . . . . . . . . . . . . . . . . . . . . . . . . . . . . . . . . . . . . . . . . . . . . . . . . . . . . . . . . . . . . . . . . . . . . . . . . . . . . . . . . . . . . . . . . . . . . . . . . . . . . . . . . . . . . . . . . . . . . . . . . . . . . . . . . . . . . . . . . . . . . . . . . . . . . . . . . . . . . . . . . . . . . . . . . . . . . . . . . . . . . . . . . . . . . . . . . . . . . . . . . . . . . . . . . . . . . . . . . . . . . . . . . . . . . . . . . . . . . . . . . . . . . . . . . . . . . . . . . . . . . . . . . . . . . . . . . . . . . . . . . . . . . . . . . . . . . . . . . . . . . . . . . . . . . . . . . . . . . . . . . . . . . . . . . . . . . . . . . . . . . . . . . . . . . . . . . . . ."
     ]
    },
    {
     "name": "stderr",
     "output_type": "stream",
     "text": [
      "ERROR:root:Internal Python error in the inspect module.\n",
      "Below is the traceback from this internal error.\n",
      "\n"
     ]
    },
    {
     "name": "stdout",
     "output_type": "stream",
     "text": [
      "Traceback (most recent call last):\n",
      "  File \"/home/kaggler/anaconda2/lib/python2.7/site-packages/IPython/core/ultratb.py\", line 1132, in get_records\n",
      "    return _fixed_getinnerframes(etb, number_of_lines_of_context, tb_offset)\n",
      "  File \"/home/kaggler/anaconda2/lib/python2.7/site-packages/IPython/core/ultratb.py\", line 313, in wrapped\n",
      "    return f(*args, **kwargs)\n",
      "  File \"/home/kaggler/anaconda2/lib/python2.7/site-packages/IPython/core/ultratb.py\", line 358, in _fixed_getinnerframes\n",
      "    records = fix_frame_records_filenames(inspect.getinnerframes(etb, context))\n",
      "  File \"/home/kaggler/anaconda2/lib/python2.7/inspect.py\", line 1048, in getinnerframes\n",
      "    framelist.append((tb.tb_frame,) + getframeinfo(tb, context))\n",
      "  File \"/home/kaggler/anaconda2/lib/python2.7/inspect.py\", line 1008, in getframeinfo\n",
      "    filename = getsourcefile(frame) or getfile(frame)\n",
      "  File \"/home/kaggler/anaconda2/lib/python2.7/inspect.py\", line 453, in getsourcefile\n",
      "    if hasattr(getmodule(object, filename), '__loader__'):\n",
      "  File \"/home/kaggler/anaconda2/lib/python2.7/inspect.py\", line 490, in getmodule\n",
      "    if ismodule(module) and hasattr(module, '__file__'):\n",
      "  File \"/home/kaggler/anaconda2/lib/python2.7/site-packages/py/_apipkg.py\", line 171, in __getattribute__\n",
      "    return getattr(getmod(), name)\n",
      "  File \"/home/kaggler/anaconda2/lib/python2.7/site-packages/py/_apipkg.py\", line 155, in getmod\n",
      "    x = importobj(modpath, None)\n",
      "  File \"/home/kaggler/anaconda2/lib/python2.7/site-packages/py/_apipkg.py\", line 48, in importobj\n",
      "    module = __import__(modpath, None, None, ['__doc__'])\n",
      "  File \"/home/kaggler/anaconda2/lib/python2.7/site-packages/pytest.py\", line 27, in <module>\n",
      "    _preloadplugins() # to populate pytest.* namespace so help(pytest) works\n",
      "  File \"/home/kaggler/anaconda2/lib/python2.7/site-packages/_pytest/config.py\", line 109, in _preloadplugins\n",
      "    _preinit.append(get_config())\n",
      "  File \"/home/kaggler/anaconda2/lib/python2.7/site-packages/_pytest/config.py\", line 118, in get_config\n",
      "    pluginmanager.import_plugin(spec)\n",
      "  File \"/home/kaggler/anaconda2/lib/python2.7/site-packages/_pytest/config.py\", line 431, in import_plugin\n",
      "    __import__(importspec)\n",
      "  File \"/home/kaggler/anaconda2/lib/python2.7/site-packages/_pytest/junitxml.py\", line 47, in <module>\n",
      "    illegal_xml_re = re.compile(unicode('[^%s]') % unicode('').join(_legal_xml_re))\n",
      "  File \"/home/kaggler/anaconda2/lib/python2.7/re.py\", line 194, in compile\n",
      "    return _compile(pattern, flags)\n",
      "  File \"/home/kaggler/anaconda2/lib/python2.7/re.py\", line 249, in _compile\n",
      "    p = sre_compile.compile(pattern, flags)\n",
      "  File \"/home/kaggler/anaconda2/lib/python2.7/sre_compile.py\", line 576, in compile\n",
      "    code = _code(p, flags)\n",
      "  File \"/home/kaggler/anaconda2/lib/python2.7/sre_compile.py\", line 558, in _code\n",
      "    _compile_info(code, p, flags)\n",
      "  File \"/home/kaggler/anaconda2/lib/python2.7/sre_compile.py\", line 536, in _compile_info\n",
      "    _compile_charset(charset, flags, code)\n",
      "  File \"/home/kaggler/anaconda2/lib/python2.7/sre_compile.py\", line 232, in _compile_charset\n",
      "    flags & SRE_FLAG_UNICODE):\n",
      "  File \"/home/kaggler/anaconda2/lib/python2.7/sre_compile.py\", line 285, in _optimize_charset\n",
      "    charmap[i] = 1\n",
      "KeyboardInterrupt\n"
     ]
    },
    {
     "ename": "IndexError",
     "evalue": "string index out of range",
     "output_type": "error",
     "traceback": [
      "\u001b[0;31m---------------------------------------------------------------------------\u001b[0m",
      "\u001b[0;31mIndexError\u001b[0m                                Traceback (most recent call last)",
      "\u001b[0;32m/home/kaggler/anaconda2/lib/python2.7/site-packages/IPython/core/interactiveshell.pyc\u001b[0m in \u001b[0;36mrun_code\u001b[0;34m(self, code_obj, result)\u001b[0m\n\u001b[1;32m   2896\u001b[0m             \u001b[0;32mif\u001b[0m \u001b[0mresult\u001b[0m \u001b[0;32mis\u001b[0m \u001b[0;32mnot\u001b[0m \u001b[0mNone\u001b[0m\u001b[0;34m:\u001b[0m\u001b[0;34m\u001b[0m\u001b[0m\n\u001b[1;32m   2897\u001b[0m                 \u001b[0mresult\u001b[0m\u001b[0;34m.\u001b[0m\u001b[0merror_in_exec\u001b[0m \u001b[0;34m=\u001b[0m \u001b[0msys\u001b[0m\u001b[0;34m.\u001b[0m\u001b[0mexc_info\u001b[0m\u001b[0;34m(\u001b[0m\u001b[0;34m)\u001b[0m\u001b[0;34m[\u001b[0m\u001b[0;36m1\u001b[0m\u001b[0;34m]\u001b[0m\u001b[0;34m\u001b[0m\u001b[0m\n\u001b[0;32m-> 2898\u001b[0;31m             \u001b[0mself\u001b[0m\u001b[0;34m.\u001b[0m\u001b[0mshowtraceback\u001b[0m\u001b[0;34m(\u001b[0m\u001b[0;34m)\u001b[0m\u001b[0;34m\u001b[0m\u001b[0m\n\u001b[0m\u001b[1;32m   2899\u001b[0m         \u001b[0;32melse\u001b[0m\u001b[0;34m:\u001b[0m\u001b[0;34m\u001b[0m\u001b[0m\n\u001b[1;32m   2900\u001b[0m             \u001b[0moutflag\u001b[0m \u001b[0;34m=\u001b[0m \u001b[0;36m0\u001b[0m\u001b[0;34m\u001b[0m\u001b[0m\n",
      "\u001b[0;32m/home/kaggler/anaconda2/lib/python2.7/site-packages/IPython/core/interactiveshell.pyc\u001b[0m in \u001b[0;36mshowtraceback\u001b[0;34m(self, exc_tuple, filename, tb_offset, exception_only)\u001b[0m\n\u001b[1;32m   1822\u001b[0m                     \u001b[0;32mexcept\u001b[0m \u001b[0mException\u001b[0m\u001b[0;34m:\u001b[0m\u001b[0;34m\u001b[0m\u001b[0m\n\u001b[1;32m   1823\u001b[0m                         stb = self.InteractiveTB.structured_traceback(etype,\n\u001b[0;32m-> 1824\u001b[0;31m                                             value, tb, tb_offset=tb_offset)\n\u001b[0m\u001b[1;32m   1825\u001b[0m \u001b[0;34m\u001b[0m\u001b[0m\n\u001b[1;32m   1826\u001b[0m                     \u001b[0mself\u001b[0m\u001b[0;34m.\u001b[0m\u001b[0m_showtraceback\u001b[0m\u001b[0;34m(\u001b[0m\u001b[0metype\u001b[0m\u001b[0;34m,\u001b[0m \u001b[0mvalue\u001b[0m\u001b[0;34m,\u001b[0m \u001b[0mstb\u001b[0m\u001b[0;34m)\u001b[0m\u001b[0;34m\u001b[0m\u001b[0m\n",
      "\u001b[0;32m/home/kaggler/anaconda2/lib/python2.7/site-packages/IPython/core/ultratb.pyc\u001b[0m in \u001b[0;36mstructured_traceback\u001b[0;34m(self, etype, value, tb, tb_offset, number_of_lines_of_context)\u001b[0m\n\u001b[1;32m   1404\u001b[0m         \u001b[0mself\u001b[0m\u001b[0;34m.\u001b[0m\u001b[0mtb\u001b[0m \u001b[0;34m=\u001b[0m \u001b[0mtb\u001b[0m\u001b[0;34m\u001b[0m\u001b[0m\n\u001b[1;32m   1405\u001b[0m         return FormattedTB.structured_traceback(\n\u001b[0;32m-> 1406\u001b[0;31m             self, etype, value, tb, tb_offset, number_of_lines_of_context)\n\u001b[0m\u001b[1;32m   1407\u001b[0m \u001b[0;34m\u001b[0m\u001b[0m\n\u001b[1;32m   1408\u001b[0m \u001b[0;34m\u001b[0m\u001b[0m\n",
      "\u001b[0;32m/home/kaggler/anaconda2/lib/python2.7/site-packages/IPython/core/ultratb.pyc\u001b[0m in \u001b[0;36mstructured_traceback\u001b[0;34m(self, etype, value, tb, tb_offset, number_of_lines_of_context)\u001b[0m\n\u001b[1;32m   1312\u001b[0m             \u001b[0;31m# Verbose modes need a full traceback\u001b[0m\u001b[0;34m\u001b[0m\u001b[0;34m\u001b[0m\u001b[0m\n\u001b[1;32m   1313\u001b[0m             return VerboseTB.structured_traceback(\n\u001b[0;32m-> 1314\u001b[0;31m                 \u001b[0mself\u001b[0m\u001b[0;34m,\u001b[0m \u001b[0metype\u001b[0m\u001b[0;34m,\u001b[0m \u001b[0mvalue\u001b[0m\u001b[0;34m,\u001b[0m \u001b[0mtb\u001b[0m\u001b[0;34m,\u001b[0m \u001b[0mtb_offset\u001b[0m\u001b[0;34m,\u001b[0m \u001b[0mnumber_of_lines_of_context\u001b[0m\u001b[0;34m\u001b[0m\u001b[0m\n\u001b[0m\u001b[1;32m   1315\u001b[0m             )\n\u001b[1;32m   1316\u001b[0m         \u001b[0;32melse\u001b[0m\u001b[0;34m:\u001b[0m\u001b[0;34m\u001b[0m\u001b[0m\n",
      "\u001b[0;32m/home/kaggler/anaconda2/lib/python2.7/site-packages/IPython/core/ultratb.pyc\u001b[0m in \u001b[0;36mstructured_traceback\u001b[0;34m(self, etype, evalue, etb, tb_offset, number_of_lines_of_context)\u001b[0m\n\u001b[1;32m   1196\u001b[0m                 \u001b[0mstructured_traceback_parts\u001b[0m \u001b[0;34m+=\u001b[0m \u001b[0mformatted_exception\u001b[0m\u001b[0;34m\u001b[0m\u001b[0m\n\u001b[1;32m   1197\u001b[0m         \u001b[0;32melse\u001b[0m\u001b[0;34m:\u001b[0m\u001b[0;34m\u001b[0m\u001b[0m\n\u001b[0;32m-> 1198\u001b[0;31m             \u001b[0mstructured_traceback_parts\u001b[0m \u001b[0;34m+=\u001b[0m \u001b[0mformatted_exception\u001b[0m\u001b[0;34m[\u001b[0m\u001b[0;36m0\u001b[0m\u001b[0;34m]\u001b[0m\u001b[0;34m\u001b[0m\u001b[0m\n\u001b[0m\u001b[1;32m   1199\u001b[0m \u001b[0;34m\u001b[0m\u001b[0m\n\u001b[1;32m   1200\u001b[0m         \u001b[0;32mreturn\u001b[0m \u001b[0mstructured_traceback_parts\u001b[0m\u001b[0;34m\u001b[0m\u001b[0m\n",
      "\u001b[0;31mIndexError\u001b[0m: string index out of range"
     ]
    }
   ],
   "source": [
    "#list_restart = []\n",
    "#list_restart = ['X46', 'X64', 'X29', 'X28', 'X20', 'X22', 'X256', 'X158', 'X150', 'X118', 'X136', 'X111', 'X115', 'X334', 'X75', 'X264', 'X166', 'X163', 'X148', 'X224', 'X100', 'X103', 'X209', 'X108', 'X314', 'X337', 'X129', 'X313', 'X127', 'X265', 'X261', 'X120']\n",
    "list_restart = ['X46', 'X355', 'X189', 'X64', 'X29', 'X28', 'X20', 'X22', 'X171', 'X256', 'X158', 'X154', 'X150', 'X118', 'X136', 'X111', 'X116', 'X115', 'X129', 'X75', 'X127', 'X100', 'X163', 'X148', 'X224', 'X166', 'X103', 'X209', 'X283', 'X202', 'X108', 'X201', 'X314', 'X337', 'X334', 'X313', 'X264', 'X265', 'X261', 'X120']\n",
    "list_test = ['X0', 'X2', 'X3', 'qty_options']\n",
    "list_exclude = ['y'] + li_compliments + li_duplicates\n",
    "best_r2 = -1E+80\n",
    "best_values = {}\n",
    "best_values['new_features'] = list_restart\n",
    "best_values['features'] = list_restart\n",
    "interm_r2 = -1.1E+80\n",
    "delta = 0.0000000001\n",
    "while best_r2 - interm_r2 > delta:\n",
    "#    list_exclude = list_exclude + best_values['new_features']\n",
    "    list_test = list_test + best_values['new_features']\n",
    "    best_values['r2'] = best_r2\n",
    "    list_remainder = [e for e in list(df_train_eng.columns.values) if e not in list_exclude]\n",
    "    list_corr = list_remainder + ['y_actual']\n",
    "    corr = df_train_eng[list_remainder].corr().fillna(-2)\n",
    "    corr['calc'] = corr['y_actual']\n",
    "    for i in list_test:\n",
    "        corr['calc'] = corr['calc'] * corr[i]\n",
    "    li_candidates = [e for e in corr['calc'].sort_values(ascending=True)[0:36 + len(list_test)].index.tolist() \\\n",
    "                     if e not in list(list_test + list_exclude + ['y_actual'])]\n",
    "    print 'Calculating new correlation matrix'\n",
    "    output = sum([map(list, combinations(li_candidates, i)) for i in range(1,5)], [])\n",
    "    for i in range(1, len(output)):\n",
    "        output_test = output[i] + list_test\n",
    "#        print output_test\n",
    "        output_train = ['y_actual'] + output_test\n",
    "        df_X = df_train_eng[output_train]\n",
    "        df_y = df_X['y_actual']\n",
    "        df_X = df_X.drop('y_actual', axis=1)\n",
    "        X_train, X_test, y_train, y_test = train_test_split(df_X, df_y, test_size=0.1, random_state=0)\n",
    "        model = RidgeCV()\n",
    "        model.fit(X_train, y_train)\n",
    "        y_pred = pd.Series(model.predict(X_test), index=X_test.index)\n",
    "        current_r2 = r2_score(y_test, y_pred)\n",
    "        if i % 100 == 0:\n",
    "            print '.',\n",
    "        if current_r2 > best_r2:\n",
    "            interm_r2 = best_r2\n",
    "            best_r2 = current_r2\n",
    "            best_values['new_features'] = output[i]\n",
    "            print '\\n New best R^2 score: ', best_r2, ' with features: ', best_values['new_features']\n",
    "    best_values['features'] = best_values['features'] + best_values['new_features'] \n",
    "    print '\\n Best R^2 score: ', best_r2, ' with features: ', list(set(best_values['features']))\n",
    "print '\\n Final R^2 score: ', best_r2, ' with features: ', list(set(best_values['features']))\n",
    "output_test = best_values['features'] + list_index\n",
    "output_train = ['y_actual'] + output_test\n",
    "df_X = df_train_eng[output_train]\n",
    "df_y = df_X['y_actual']\n",
    "df_X = df_X.drop('y_actual', axis=1)\n",
    "X_train, X_test, y_train, y_test = train_test_split(df_X, df_y, test_size=0.1, random_state=0)\n",
    "model = RidgeCV()\n",
    "model.fit(X_train, y_train)\n",
    "X_Kaggle = df_test_eng[output_test]\n",
    "y_Kaggle = pd.Series(model.predict(X_Kaggle) / df_test_eng['qty_options'], name='y', index=df_Kaggle.index)\n",
    "#y_Kaggle.to_csv(path='../data/201706111545.csv', index_label='ID', header = True)"
   ]
  },
  {
   "cell_type": "markdown",
   "metadata": {},
   "source": [
    "## to-do's:\n",
    "1. build model and experiment with deleting compliments and identicalls.\n",
    "2. build algo to optimize Ridge (one submnission per day)\n",
    "3. build algo to optimize Elastic Net\n",
    "4. build algo to optimize random forest\n",
    "5. build aldo to optimize logistic regression\n",
    "6. build alog to optimize lasso\n",
    "7. build alog to optimize mlp\n",
    "8. build algo to combine (ridge)\n",
    "9. build algo to combine (lasso)\n",
    "10. build algo to combine (linear)\n",
    "11. build algo to combine (random forest)\n",
    "12. build algo to combine (mlp)\n",
    "13. look into mxnet"
   ]
  },
  {
   "cell_type": "markdown",
   "metadata": {
    "collapsed": false
   },
   "source": [
    "### 1. Model (RidgeCV) to experiment with deleting compliments and identicals"
   ]
  },
  {
   "cell_type": "code",
   "execution_count": null,
   "metadata": {
    "collapsed": true
   },
   "outputs": [],
   "source": [
    "list_index = \n",
    "#list_index = [e for e in list_index if e not in li_compliments]\n",
    "#list_index = [e for e in list_index if e not in li_duplicates]\n",
    "list_test = ['X0', 'X2', 'X3', 'qty_options']\n",
    "list_test = list_test + list_index\n",
    "list_train = ['y_actual'] + list_test\n",
    "\n",
    "df_X = df_train_eng[list_train]\n",
    "df_Kaggle = df_test_eng[list_test]\n",
    "df_y = df_X['y_actual']\n",
    "df_X = df_X.drop('y_actual', axis=1)\n",
    "\n",
    "X_train, X_test, y_train, y_test = train_test_split(df_X, df_y, test_size=0.1, random_state=0)\n",
    "\n",
    "model = RidgeCV()\n",
    "model.fit(X_train, y_train)\n",
    "\n",
    "y_pred = pd.Series(model.predict(X_test), index=X_test.index)\n",
    "print r2_score(y_test, y_pred)\n",
    "\n",
    "y_Kaggle = pd.Series(model.predict(X_Kaggle) / df_test_eng['qty_options'], name='y', index=df_Kaggle.index)\n",
    "#y_Kaggle.to_csv(path='../data/1data.201706112000.csv', index_label='ID', header = True)\n"
   ]
  },
  {
   "cell_type": "markdown",
   "metadata": {},
   "source": [
    "### 2. Optimize algo RidgeCV"
   ]
  },
  {
   "cell_type": "code",
   "execution_count": null,
   "metadata": {
    "collapsed": true
   },
   "outputs": [],
   "source": [
    "list_index = \n",
    "#list_index = [e for e in list_index if e not in li_compliments]\n",
    "#list_index = [e for e in list_index if e not in li_duplicates]\n",
    "list_test = ['X0', 'X2', 'X3', 'qty_options']\n",
    "list_test = list_test + list_index\n",
    "list_train = ['y_actual'] + list_test\n",
    "\n",
    "best_r2 = -1E+80\n",
    "best_values = {}\n",
    "\n",
    "df_X = df_train_eng[list_train]\n",
    "df_Kaggle = df_test_eng[list_test]\n",
    "df_y = df_X['y_actual']\n",
    "df_X = df_X.drop('y_actual', axis=1)\n",
    "\n",
    "X_train, X_test, y_train, y_test = train_test_split(df_X, df_y, test_size=0.2, random_state=0)\n",
    "\n",
    "for intercept in (True, False):\n",
    "    model = RidgeCV(alphas=(0.1, 0.3, 0.7, 1.0, 3.0, 7.0, 10.0), fit_intercept = intercept, cv = 5)\n",
    "    model.fit(X_train, y_train)\n",
    "\n",
    "    y_pred = pd.Series(model.predict(X_test), index=X_test.index)\n",
    "    current_r2 =  r2_score(y_test, y_pred)\n",
    "    if current_r2 > best_r2:\n",
    "        best_r2 = current_r2; best_values['r2'] = current_r2; best_values['intercept'] = intercept\n",
    "print 'Best R^2 score: ', best_r2, ' with values: intercept: ', best_values['intercept']\n",
    "\n",
    "model = RidgeCV(alphas=(0.1, 0.3, 0.7, 1.0, 3.0, 7.0, 10.0), fit_intercept = intercept, cv = 5)\n",
    "model.fit(X_train, y_train)\n",
    "\n",
    "y_Kaggle = pd.Series(model.predict(df_Kaggle) / df_test_eng['qty_options'], name='y', index=df_Kaggle.index)\n",
    "#y_Kaggle.to_csv(path='../data/1data.201706112000.csv', index_label='ID', header = True)\n"
   ]
  },
  {
   "cell_type": "markdown",
   "metadata": {},
   "source": [
    "### 3. Optimize algo ElasticNetCV"
   ]
  },
  {
   "cell_type": "code",
   "execution_count": null,
   "metadata": {
    "collapsed": true
   },
   "outputs": [],
   "source": []
  },
  {
   "cell_type": "markdown",
   "metadata": {},
   "source": [
    "### 4. Optimize algo Random Forest"
   ]
  },
  {
   "cell_type": "code",
   "execution_count": null,
   "metadata": {
    "collapsed": true
   },
   "outputs": [],
   "source": [
    "'X46', 'X61', 'X64', 'X66', 'X28', 'X27', 'X20', 'X22', 'X171', 'X81', 'X256', 'X156', 'X150', 'X119', 'X294', 'X276', 'X130', 'X115', 'X129', 'X52', 'X76', 'X75', 'X283', 'X166', 'X163', 'X148', 'X374', 'X100', 'X103', 'X209', 'X321', 'X142', 'X147', 'X201', 'X316', 'X336', 'X337', 'X334', 'X313', 'X265', 'X261', 'X263'\n",
    "'X54', 'X376', 'X154', 'X108', 'X328', 'X111'\n",
    "'X64', 'X232', 'X256', 'X150', 'X118', 'X276', 'X136', 'X111', 'X129', 'X75', 'X127', 'X100', 'X224', 'X166', 'X209', 'X108', 'X314', 'X316', 'X337', 'X334', 'X264', 'X265', 'X261', 'X120'\n",
    "'X46', 'X29', 'X28', 'X22', 'X256', 'X158', 'X150', 'X118', 'X136', 'X111', 'X115', 'X129', 'X75', 'X127', 'X100', 'X163', 'X166', 'X103', 'X209', 'X108', 'X314', 'X337', 'X334', 'X313', 'X264', 'X265', 'X261', 'X120'\n",
    "'X46', 'X64', 'X29', 'X28', 'X20', 'X22', 'X256', 'X158', 'X150', 'X118', 'X136', 'X111', 'X115', 'X334', 'X75', 'X264', 'X166', 'X163', 'X148', 'X224', 'X100', 'X103', 'X209', 'X108', 'X314', 'X337', 'X129', 'X313', 'X127', 'X265', 'X261', 'X120'\n",
    "'X46', 'X189', 'X64', 'X29', 'X28', 'X20', 'X22', 'X171', 'X256', 'X158', 'X154', 'X150', 'X118', 'X337', 'X136', 'X111', 'X116', 'X115', 'X376', 'X334', 'X75', 'X264', 'X327', 'X166', 'X163', 'X148', 'X223', 'X224', 'X100', 'X103', 'X209', 'X202', 'X108', 'X201', 'X314', 'X285', 'X283', 'X129', 'X313', 'X127', 'X265', 'X120', 'X355', 'X261'\n",
    "'X46', 'X189', 'X64', 'X29', 'X28', 'X20', 'X22', 'X171', 'X256', 'X158', 'X154', 'X150', 'X118', 'X337', 'X136', 'X111', 'X116', 'X115', 'X376', 'X50', 'X334', 'X79', 'X75', 'X264', 'X327', 'X166', 'X163', 'X148', 'X223', 'X224', 'X100', 'X103', 'X209', 'X202', 'X108', 'X378', 'X201', 'X314', 'X285', 'X336', 'X283', 'X129', 'X313', 'X127', 'X265', 'X120', 'X355', 'X261'\n",
    "'X46', 'X189', 'X64', 'X29', 'X28', 'X20', 'X22', 'X255', 'X171', 'X256', 'X158', 'X178', 'X154', 'X150', 'X118', 'X337', 'X136', 'X111', 'X116', 'X115', 'X376', 'X50', 'X334', 'X79', 'X75', 'X264', 'X327', 'X166', 'X163', 'X148', 'X374', 'X223', 'X224', 'X100', 'X103', 'X209', 'X168', 'X202', 'X108', 'X378', 'X201', 'X314', 'X285', 'X336', 'X283', 'X129', 'X313', 'X127', 'X265', 'X120', 'X355', 'X261'\n",
    "'X46', 'X189', 'X64', 'X29', 'X28', 'X20', 'X22', 'X255', 'X171', 'X256', 'X158', 'X178', 'X154', 'X150', 'X118', 'X337', 'X136', 'X111', 'X116', 'X115', 'X376', 'X50', 'X334', 'X79', 'X75', 'X264', 'X327', 'X166', 'X163', 'X148', 'X374', 'X223', 'X224', 'X100', 'X103', 'X209', 'X168', 'X202', 'X108', 'X378', 'X201', 'X314', 'X285', 'X336', 'X283', 'X129', 'X313', 'X127', 'X265', 'X120', 'X355', 'X261', 'X275', 'X331', 'X352', 'X294'\n"
   ]
  }
 ],
 "metadata": {
  "kernelspec": {
   "display_name": "Python 2",
   "language": "python",
   "name": "python2"
  },
  "language_info": {
   "codemirror_mode": {
    "name": "ipython",
    "version": 2
   },
   "file_extension": ".py",
   "mimetype": "text/x-python",
   "name": "python",
   "nbconvert_exporter": "python",
   "pygments_lexer": "ipython2",
   "version": "2.7.13"
  }
 },
 "nbformat": 4,
 "nbformat_minor": 2
}
