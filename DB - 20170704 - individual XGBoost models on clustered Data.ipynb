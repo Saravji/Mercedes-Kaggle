{
 "cells": [
  {
   "cell_type": "markdown",
   "metadata": {},
   "source": [
    "# Individual XGBoost Models for individual Data Clusters\n",
    "This notebook is part of my Mercedes-Benz Kaggle efforts. Competion @: https://www.kaggle.com/c/mercedes-benz-greener-manufacturing Use of data subject to conditions mentioned in above link.<br>\n",
    "As noted on the discussion forum, the features X118, X127 and X238 can be used to determine the affiliation of the Dataset to the y-value distribution peak. (see visual below at \"some plots\")<br>\n",
    "\n",
    "## With additional data generation:\n",
    "+ additional data will be using mean with extremes removed (not min and max as in part 1)<br>\n",
    "+ additional data will be used for training the models, while supplied training data will be used for evaluatig (testing) of the models.<br>\n",
    "\n",
    "## With clustering of the data:\n",
    "X127 = 1: peak @ 90\n",
    "X127 = 0 and X118 = 1: peak @ 107\n",
    "X127 = 0 and X118 = 0 and X238 = 1: peak @ 100\n",
    "X127 = 0 and X118 = 0 and X238 = 0: peak @ 76"
   ]
  },
  {
   "cell_type": "code",
   "execution_count": 1,
   "metadata": {
    "collapsed": false
   },
   "outputs": [
    {
     "name": "stderr",
     "output_type": "stream",
     "text": [
      "/home/kaggler/anaconda2/lib/python2.7/site-packages/sklearn/cross_validation.py:44: DeprecationWarning: This module was deprecated in version 0.18 in favor of the model_selection module into which all the refactored classes and functions are moved. Also note that the interface of the new CV iterators are different from that of this module. This module will be removed in 0.20.\n",
      "  \"This module will be removed in 0.20.\", DeprecationWarning)\n"
     ]
    }
   ],
   "source": [
    "%matplotlib inline\n",
    "import numpy as np\n",
    "import pandas as pd\n",
    "import seaborn as sns\n",
    "import xgboost as xgb\n",
    "import string\n",
    "from matplotlib import pyplot as plt\n",
    "from sklearn.model_selection import train_test_split, cross_val_score, GridSearchCV\n",
    "from sklearn.metrics import r2_score\n",
    "from sklearn import metrics"
   ]
  },
  {
   "cell_type": "markdown",
   "metadata": {},
   "source": [
    "## 1. Load Data Sets"
   ]
  },
  {
   "cell_type": "code",
   "execution_count": 2,
   "metadata": {
    "collapsed": true
   },
   "outputs": [],
   "source": [
    "df_train = pd.read_csv('../data/train.csv', index_col = 'ID').fillna(0)\n",
    "df_train = df_train[df_train['y'] < 200] # drop one outlier data\n",
    "df_test = pd.read_csv('../data/test.csv', index_col = 'ID').fillna(0)\n",
    "li_del_columns = []"
   ]
  },
  {
   "cell_type": "markdown",
   "metadata": {},
   "source": [
    "## 2. Construct additional features and change letter categorical to binary"
   ]
  },
  {
   "cell_type": "code",
   "execution_count": 3,
   "metadata": {
    "collapsed": true
   },
   "outputs": [],
   "source": [
    "def my_dummies(c, df1, df2):\n",
    "    l = len(df1)\n",
    "    df = pd.concat([df1, df2], axis = 0)\n",
    "    df_temp = pd.get_dummies(df[c], prefix=c)\n",
    "    df = pd.concat([df_temp, df], axis = 1)\n",
    "    df = df.drop(c, axis = 1)\n",
    "    df1 = df[ : l].copy()\n",
    "    df2 = df[l : ].copy()\n",
    "    return df1, df2"
   ]
  },
  {
   "cell_type": "code",
   "execution_count": 4,
   "metadata": {
    "collapsed": false
   },
   "outputs": [],
   "source": [
    "li_columnNames = [e for e in list(df_train.columns.values) if e not in {'y', 'X0', 'X1', 'X2', 'X3', 'X4', 'X5', 'X6', 'X8'}]\n",
    "li_categorical = ['X0', 'X1', 'X2', 'X3', 'X4', 'X5', 'X6', 'X8']\n",
    "\n",
    "df_train_eng = df_train.copy()\n",
    "df_test_eng = df_test.copy()\n",
    "df_train_eng['qty_options'] = df_train_eng[li_columnNames].sum(axis=1)\n",
    "df_test_eng['qty_options'] = df_test_eng[li_columnNames].sum(axis=1)\n",
    "\n",
    "for c in li_categorical:\n",
    "    df_train_eng, df_test_eng = my_dummies(c, df_train_eng, df_test_eng)"
   ]
  },
  {
   "cell_type": "markdown",
   "metadata": {},
   "source": [
    "## 3. some data clensing / Identifying data for possible clensing\n",
    "### Identify duplicate columns"
   ]
  },
  {
   "cell_type": "code",
   "execution_count": 5,
   "metadata": {
    "collapsed": false
   },
   "outputs": [
    {
     "name": "stdout",
     "output_type": "stream",
     "text": [
      "\n",
      " Number of columns before cleaning: 581\n",
      " Column X2_a is identical to X32. Removing X32\n",
      " Column X2_ac is identical to X125. Removing X125\n",
      " Column X2_ac is identical to X227. Removing X227\n",
      " Column X2_ad is identical to X107. Removing X107\n",
      " Column X2_ag is identical to X30. Removing X30\n",
      " Column X2_ai is identical to X215. Removing X215\n",
      " Column X2_am is identical to X260. Removing X260\n",
      " Column X2_ap is identical to X16. Removing X16\n",
      " Column X2_aq is identical to X211. Removing X211\n",
      " Column X2_as is identical to X251. Removing X251\n",
      " Column X2_at is identical to X184. Removing X184\n",
      " Column X2_at is identical to X262. Removing X262\n",
      " Column X2_au is identical to X59. Removing X59\n",
      " Column X2_aw is identical to X213. Removing X213\n",
      " Column X2_aw is identical to X67. Removing X67\n",
      " Column X2_b is identical to X26. Removing X26\n",
      " Column X2_d is identical to X97. Removing X97\n",
      " Column X2_f is identical to X23. Removing X23\n",
      " Column X2_g is identical to X112. Removing X112\n",
      " Column X2_g is identical to X199. Removing X199\n",
      " Column X2_h is identical to X86. Removing X86\n",
      " Column X2_k is identical to X172. Removing X172\n",
      " Column X2_k is identical to X216. Removing X216\n",
      " Column X2_k is identical to X62. Removing X62\n",
      " Column X2_n is identical to X28. Removing X28\n",
      " Column X2_o is identical to X257. Removing X257\n",
      " Column X2_p is identical to X92. Removing X92\n",
      " Column X2_q is identical to X83. Removing X83\n",
      " Column X2_s is identical to X113. Removing X113\n",
      " Column X2_s is identical to X134. Removing X134\n",
      " Column X2_s is identical to X147. Removing X147\n",
      " Column X2_s is identical to X222. Removing X222\n",
      " Column X2_s is identical to X48. Removing X48\n",
      " Column X2_t is identical to X102. Removing X102\n",
      " Column X2_t is identical to X214. Removing X214\n",
      " Column X2_t is identical to X239. Removing X239\n",
      " Column X2_t is identical to X53. Removing X53\n",
      " Column X2_z is identical to X36. Removing X36\n",
      " Column X0_bc is identical to X277. Removing X277\n",
      " Column X102 is identical to X214. Removing X214\n",
      " Column X102 is identical to X239. Removing X239\n",
      " Column X102 is identical to X53. Removing X53\n",
      " Column X112 is identical to X199. Removing X199\n",
      " Column X113 is identical to X134. Removing X134\n",
      " Column X113 is identical to X147. Removing X147\n",
      " Column X113 is identical to X222. Removing X222\n",
      " Column X113 is identical to X48. Removing X48\n",
      " Column X118 is identical to X119. Removing X119\n",
      " Column X125 is identical to X227. Removing X227\n",
      " Column X134 is identical to X147. Removing X147\n",
      " Column X134 is identical to X222. Removing X222\n",
      " Column X134 is identical to X48. Removing X48\n",
      " Column X138 is identical to X146. Removing X146\n",
      " Column X147 is identical to X222. Removing X222\n",
      " Column X147 is identical to X48. Removing X48\n",
      " Column X152 is identical to X226. Removing X226\n",
      " Column X152 is identical to X326. Removing X326\n",
      " Column X155 is identical to X360. Removing X360\n",
      " Column X17 is identical to X382. Removing X382\n",
      " Column X172 is identical to X216. Removing X216\n",
      " Column X172 is identical to X62. Removing X62\n",
      " Column X184 is identical to X262. Removing X262\n",
      " Column X213 is identical to X67. Removing X67\n",
      " Column X214 is identical to X239. Removing X239\n",
      " Column X214 is identical to X53. Removing X53\n",
      " Column X216 is identical to X62. Removing X62\n",
      " Column X222 is identical to X48. Removing X48\n",
      " Column X226 is identical to X326. Removing X326\n",
      " Column X230 is identical to X254. Removing X254\n",
      " Column X232 is identical to X279. Removing X279\n",
      " Column X239 is identical to X53. Removing X53\n",
      " Column X240 is identical to X364. Removing X364\n",
      " Column X244 is identical to X71. Removing X71\n",
      " Column X244 is identical to X84. Removing X84\n",
      " Column X253 is identical to X385. Removing X385\n",
      " Column X253 is identical to X60. Removing X60\n",
      " Column X290 is identical to X293. Removing X293\n",
      " Column X290 is identical to X330. Removing X330\n",
      " Column X293 is identical to X330. Removing X330\n",
      " Column X295 is identical to X296. Removing X296\n",
      " Column X298 is identical to X299. Removing X299\n",
      " Column X302 is identical to X44. Removing X44\n",
      " Column X31 is identical to X35. Removing X35\n",
      " Column X31 is identical to X37. Removing X37\n",
      " Column X324 is identical to X58. Removing X58\n",
      " Column X33 is identical to X39. Removing X39\n",
      " Column X35 is identical to X37. Removing X37\n",
      " Column X385 is identical to X60. Removing X60\n",
      " Column X54 is identical to X76. Removing X76\n",
      " Column X71 is identical to X84. Removing X84\n",
      "\n",
      " Number of identified duplicates marked: 62\n"
     ]
    }
   ],
   "source": [
    "all_data = pd.concat((df_train_eng, df_test_eng))\n",
    "\n",
    "c = all_data.columns\n",
    "print('\\n Number of columns before cleaning: %d' % len(c))\n",
    "li_duplicates = []\n",
    "for i in range(len(c)-1):\n",
    "    v = all_data[c[i]].values\n",
    "    for j in range(i+1,len(c)):\n",
    "        if np.array_equal(v,all_data[c[j]].values):\n",
    "            li_duplicates.append(c[j])\n",
    "            print(' Column %s is identical to %s. Removing %s' % (str(c[i]), str(c[j]), str(c[j])))\n",
    "li_duplicates = list(set(li_duplicates))\n",
    "print '\\n Number of identified duplicates marked: %s' % len(li_duplicates)"
   ]
  },
  {
   "cell_type": "markdown",
   "metadata": {},
   "source": [
    "### Dropping duplicate columns\n",
    "(yes there are columns duplicate and complimentary, so need to do it twice)"
   ]
  },
  {
   "cell_type": "code",
   "execution_count": 6,
   "metadata": {
    "collapsed": false
   },
   "outputs": [
    {
     "name": "stdout",
     "output_type": "stream",
     "text": [
      "Number columns before cleaning:  581 and after cleaning:  519\n"
     ]
    }
   ],
   "source": [
    "print 'Number columns before cleaning: ', df_train_eng.shape[1],\n",
    "l = len(df_train_eng)\n",
    "df = pd.concat([df_train_eng, df_test_eng], axis = 0)\n",
    "for c in li_duplicates:\n",
    "    df.drop(c, axis=1, inplace = True)\n",
    "\n",
    "df_train_eng = df[ : l].copy()\n",
    "df_test_eng = df[l : ].copy()\n",
    "print 'and after cleaning: ', df_train_eng.shape[1]"
   ]
  },
  {
   "cell_type": "markdown",
   "metadata": {},
   "source": [
    "### Identify complementary columns"
   ]
  },
  {
   "cell_type": "code",
   "execution_count": 7,
   "metadata": {
    "collapsed": false
   },
   "outputs": [
    {
     "name": "stdout",
     "output_type": "stream",
     "text": [
      "\n",
      " Number of columns before cleaning: 518\n",
      " Column X128 is complimentary to X130. Removing X130\n",
      " Column X156 is complimentary to X157. Removing X157\n",
      " Column X204 is complimentary to X205. Removing X205\n",
      " Column X232 is complimentary to X263. Removing X263\n",
      "\n",
      " Number of identified complements marked: 4\n"
     ]
    }
   ],
   "source": [
    "list_index = [e for e in list(df_train_eng.columns.values) if e not in {'y_actual', 'y', 'X0', 'X1', 'X2', 'X3', 'X4', 'X5', 'X6', 'X8'}]\n",
    "all_data = pd.concat((df_train_eng[list_index], df_test_eng[list_index]))\n",
    "value_compliment = {0: 1, 1: 0}\n",
    "\n",
    "# remove complimentary columns\n",
    "c = all_data.columns\n",
    "print('\\n Number of columns before cleaning: %d' % len(c))\n",
    "li_compliments = []\n",
    "for i in range(len(c)-1):\n",
    "    v = all_data[c[i]].replace(value_compliment).values\n",
    "    for j in range(i+1,len(c)):\n",
    "        if np.array_equal(v,all_data[c[j]].values):\n",
    "            li_compliments.append(c[j])\n",
    "            print(' Column %s is complimentary to %s. Removing %s' % (str(c[i]), str(c[j]), str(c[j])))\n",
    "li_compliments = list(set(li_compliments))\n",
    "print '\\n Number of identified complements marked: %s' % len(li_compliments)"
   ]
  },
  {
   "cell_type": "markdown",
   "metadata": {},
   "source": [
    "### Droping complementary columns"
   ]
  },
  {
   "cell_type": "code",
   "execution_count": 8,
   "metadata": {
    "collapsed": false
   },
   "outputs": [
    {
     "name": "stdout",
     "output_type": "stream",
     "text": [
      "Number columns before cleaning:  519 and after cleaning:  515\n"
     ]
    }
   ],
   "source": [
    "print 'Number columns before cleaning: ', df_train_eng.shape[1],\n",
    "l = len(df_train_eng)\n",
    "df = pd.concat([df_train_eng, df_test_eng], axis = 0)\n",
    "for c in li_compliments:\n",
    "    df.drop(c, axis=1, inplace = True)\n",
    "\n",
    "df_train_eng = df[ : l].copy()\n",
    "df_test_eng = df[l : ].copy()\n",
    "print 'and after cleaning: ', df_train_eng.shape[1]"
   ]
  },
  {
   "cell_type": "markdown",
   "metadata": {},
   "source": [
    "### let's see if we have same datarows (other then y and y_actual) in train data\n",
    "<font color=red>SKIP TO \"GENERATING MORE DATA\" IF LOADING PRE-PROCESSED DATASET. THIS STEP TAKES TIME!</font><br><br>\n",
    "\n",
    "<i>mean</i> is calcualted out of all identical datarows.<br>\n",
    "<i>mean minus extremes</i> is calculated if four or more datasets are identical by removing the lowest and highest value. <br>\n",
    "<i>mean narrowing</i> is calculated if four or more datasets are identical by removing values that are more than 8% away from mean (there are some dataset tuplets that are all more than 6% away from mean)"
   ]
  },
  {
   "cell_type": "code",
   "execution_count": 9,
   "metadata": {
    "collapsed": false,
    "scrolled": false
   },
   "outputs": [
    {
     "name": "stdout",
     "output_type": "stream",
     "text": [
      "start finding...\n"
     ]
    },
    {
     "name": "stderr",
     "output_type": "stream",
     "text": [
      "/home/kaggler/anaconda2/lib/python2.7/site-packages/ipykernel/__main__.py:15: DeprecationWarning: \n",
      ".ix is deprecated. Please use\n",
      ".loc for label based indexing or\n",
      ".iloc for positional indexing\n",
      "\n",
      "See the documentation here:\n",
      "http://pandas.pydata.org/pandas-docs/stable/indexing.html#deprecate_ix\n"
     ]
    },
    {
     "name": "stdout",
     "output_type": "stream",
     "text": [
      ". . . . . . . . . . . . . . . . . . . . . . . . . . . . . . . . . . . . . . . . . . \n",
      " Row IDs  [16, 130, 51, 13, 79]  mean:  96.788  with values:  [106.09999999999999, 96.879999999999995, 93.810000000000002, 94.120000000000005, 93.030000000000001] , mean minus extremes:  94.9366666667 , mean narrowing:  94.46 \n",
      " Row IDs  [18, 93]  mean:  94.36  with values:  [89.810000000000002, 98.909999999999997] \n",
      " Row IDs  [32, 98, 106, 45, 23, 90, 123, 29, 95]  mean:  115.602222222  with values:  [106.87, 127.66, 106.31, 110.52, 120.77, 110.98, 113.69, 128.19, 115.43000000000001] , mean minus extremes:  115.131428571 , mean narrowing:  113.043333333 \n",
      " Row IDs  [38, 30]  mean:  77.505  with values:  [79.0, 76.010000000000005] \n",
      " Row IDs  [37, 85]  mean:  113.84  with values:  [117.31, 110.37] \n",
      " Row IDs  [72, 58, 110]  mean:  101.196666667  with values:  [118.53, 95.569999999999993, 89.489999999999995] \n",
      " Row IDs  [64, 77]  mean:  110.455  with values:  [109.76000000000001, 111.15000000000001] \n",
      " Row IDs  [146, 158]  mean:  108.26  with values:  [112.44, 104.08] \n",
      " Row IDs  [147, 235]  mean:  105.965  with values:  [105.73999999999999, 106.19] \n",
      " Row IDs  [196, 167]  mean:  111.17  with values:  [116.2, 106.14] \n",
      " Row IDs  [304, 183]  mean:  88.235  with values:  [89.030000000000001, 87.439999999999998] \n",
      " Row IDs  [184, 208]  mean:  78.225  with values:  [79.090000000000003, 77.359999999999999] \n",
      " Row IDs  [228, 187, 204, 277]  mean:  98.01  with values:  [104.16, 97.810000000000002, 91.019999999999996, 99.049999999999997] , mean minus extremes:  98.43 , mean narrowing:  98.01 \n",
      " Row IDs  [192, 232]  mean:  101.47  with values:  [98.959999999999994, 103.98] \n",
      " Row IDs  [306, 198]  mean:  89.735  with values:  [91.819999999999993, 87.650000000000006] \n",
      " Row IDs  [209, 263]  mean:  109.755  with values:  [113.11, 106.40000000000001] \n",
      " Row IDs  [280, 311]  mean:  96.38  with values:  [92.939999999999998, 99.819999999999993] \n",
      " Row IDs  [419, 370, 500, 409, 346, 349, 446]  mean:  91.8885714286  with values:  [93.670000000000002, 95.129999999999995, 92.879999999999995, 88.579999999999998, 96.030000000000001, 87.269999999999996, 89.659999999999997] , mean minus extremes:  91.984 , mean narrowing:  91.8885714286 \n",
      " Row IDs  [363, 347]  mean:  111.875  with values:  [116.59, 107.16] \n",
      " Row IDs  [397, 351]  mean:  107.62  with values:  [117.48999999999999, 97.75] \n",
      " Row IDs  [364, 413]  mean:  95.755  with values:  [100.64, 90.870000000000005] \n",
      " Row IDs  [555, 410, 371, 436]  mean:  107.785  with values:  [106.81, 111.92, 108.43000000000001, 103.98] , mean minus extremes:  107.62 , mean narrowing:  107.785 \n",
      " Row IDs  [468, 372]  mean:  88.255  with values:  [87.280000000000001, 89.230000000000004] \n",
      " Row IDs  [454, 390, 493]  mean:  92.1666666667  with values:  [87.969999999999999, 87.510000000000005, 101.02] \n",
      " Row IDs  [400, 421]  mean:  77.225  with values:  [77.140000000000001, 77.310000000000002] \n",
      " Row IDs  [536, 417]  mean:  99.04  with values:  [100.06999999999999, 98.010000000000005] \n",
      " Row IDs  [469, 439]  mean:  91.12  with values:  [89.099999999999994, 93.140000000000001] \n",
      " Row IDs  [448, 543]  mean:  103.96  with values:  [101.42, 106.5] \n",
      " Row IDs  [457, 538]  mean:  101.81  with values:  [104.06999999999999, 99.549999999999997] \n",
      " Row IDs  [483, 491]  mean:  112.1  with values:  [107.86, 116.34] \n",
      " Row IDs  [546, 540]  mean:  97.37  with values:  [97.569999999999993, 97.170000000000002] \n",
      " Row IDs  [571, 596, 567]  mean:  90.9866666667  with values:  [94.0, 90.760000000000005, 88.200000000000003] \n",
      " Row IDs  [568, 572, 630]  mean:  113.673333333  with values:  [115.92, 108.23, 116.87] \n",
      " Row IDs  [570, 635, 597]  mean:  111.593333333  with values:  [109.91, 111.54000000000001, 113.33] \n",
      " Row IDs  [576, 575]  mean:  93.36  with values:  [95.560000000000002, 91.159999999999997] \n",
      " Row IDs  [578, 603]  mean:  90.805  with values:  [89.599999999999994, 92.010000000000005] \n",
      " Row IDs  [580, 583]  mean:  92.655  with values:  [90.280000000000001, 95.030000000000001] \n",
      " Row IDs  [600, 628, 604]  mean:  97.17  with values:  [90.859999999999999, 89.439999999999998, 111.20999999999999] \n",
      " Row IDs  [608, 637]  mean:  97.13  with values:  [104.29000000000001, 89.969999999999999] \n",
      " Row IDs  [648, 633]  mean:  115.51  with values:  [131.56, 99.459999999999994] \n",
      " Row IDs  [804, 693]  mean:  106.645  with values:  [93.719999999999999, 119.56999999999999] \n",
      " Row IDs  [752, 854, 701, 718]  mean:  98.195  with values:  [115.62, 91.209999999999994, 91.349999999999994, 94.599999999999994] , mean minus extremes:  92.975 , mean narrowing:  92.3866666667 \n",
      " Row IDs  [748, 702]  mean:  111.015  with values:  [113.34999999999999, 108.68000000000001] \n",
      " Row IDs  [704, 771]  mean:  103.505  with values:  [105.31, 101.7] \n",
      " Row IDs  [706, 735]  mean:  108.25  with values:  [110.54000000000001, 105.95999999999999] \n",
      " Row IDs  [720, 740, 724, 814, 844]  mean:  91.874  with values:  [91.620000000000005, 88.900000000000006, 87.709999999999994, 93.819999999999993, 97.319999999999993] , mean minus extremes:  91.4466666667 , mean narrowing:  91.874 \n",
      " Row IDs  [808, 722]  mean:  88.845  with values:  [90.620000000000005, 87.069999999999993] \n",
      " Row IDs  [754, 739, 732, 725]  mean:  111.9625  with values:  [111.48, 107.75, 117.08, 111.54000000000001] , mean minus extremes:  111.51 , mean narrowing:  111.9625 \n",
      " Row IDs  [765, 742]  mean:  115.11  with values:  [117.06999999999999, 113.15000000000001] \n",
      " Row IDs  [761, 827]  mean:  95.895  with values:  [97.989999999999995, 93.799999999999997] \n",
      " Row IDs  [784, 792, 787, 816]  mean:  94.85  with values:  [98.040000000000006, 95.709999999999994, 90.650000000000006, 95.0] , mean minus extremes:  95.355 , mean narrowing:  94.85 \n",
      " Row IDs  [824, 796, 871]  mean:  111.836666667  with values:  [123.68000000000001, 114.26000000000001, 97.569999999999993] \n",
      " Row IDs  [867, 830]  mean:  92.89  with values:  [91.109999999999999, 94.670000000000002] \n",
      " Row IDs  [912, 891]  mean:  100.73  with values:  [101.98, 99.480000000000004] \n",
      " Row IDs  [921, 947, 910]  mean:  106.713333333  with values:  [104.19, 107.59, 108.36] \n",
      " Row IDs  [920, 1017]  mean:  92.555  with values:  [92.379999999999995, 92.730000000000004] \n",
      " Row IDs  [928, 960, 942]  mean:  93.9166666667  with values:  [87.129999999999995, 93.420000000000002, 101.2] \n",
      " Row IDs  [1057, 938, 1036, 1034, 1079]  mean:  92.588  with values:  [93.340000000000003, 88.640000000000001, 93.780000000000001, 89.75, 97.430000000000007] , mean minus extremes:  92.29 , mean narrowing:  92.588 \n",
      " Row IDs  [977, 1002, 1076]  mean:  115.72  with values:  [111.89, 107.13, 128.13999999999999] \n",
      " Row IDs  [1000, 1006]  mean:  103.83  with values:  [106.0, 101.66] \n",
      " Row IDs  [1035, 1027]  mean:  131.17  with values:  [144.36000000000001, 117.98] \n",
      " Row IDs  [1052, 1070]  mean:  92.405  with values:  [94.109999999999999, 90.700000000000003] \n",
      " Row IDs  [1104, 1182]  mean:  101.89  with values:  [103.41, 100.37] \n",
      " Row IDs  [1248, 1113, 1109, 1121]  mean:  116.1925  with values:  [118.14, 115.81999999999999, 109.78, 121.03] , mean minus extremes:  116.98 , mean narrowing:  116.1925 \n",
      " Row IDs  [1250, 1124]  mean:  107.16  with values:  [96.140000000000001, 118.18000000000001] \n",
      " Row IDs  [1161, 1127]  mean:  92.625  with values:  [97.719999999999999, 87.530000000000001] \n",
      " Row IDs  [1128, 1179, 1270]  mean:  109.503333333  with values:  [111.02, 106.18000000000001, 111.31] \n",
      " Row IDs  [1136, 1175]  mean:  116.14  with values:  [109.63, 122.65000000000001] \n",
      " Row IDs  [1162, 1227, 1204]  mean:  122.616666667  with values:  [111.31, 105.65000000000001, 150.88999999999999] \n",
      " Row IDs  [1273, 1263]  mean:  89.7  with values:  [92.799999999999997, 86.599999999999994] \n",
      " Row IDs  [1280, 1411, 1285]  mean:  97.0033333333  with values:  [88.180000000000007, 93.569999999999993, 109.26000000000001] \n",
      " Row IDs  [1419, 1293]  mean:  105.88  with values:  [106.58, 105.18000000000001] \n",
      " Row IDs  [1448, 1316]  mean:  96.76  with values:  [94.260000000000005, 99.260000000000005] \n",
      " Row IDs  [1337, 1397]  mean:  94.825  with values:  [90.049999999999997, 99.599999999999994] \n",
      " Row IDs  [1360, 1456]  mean:  102.06  with values:  [91.239999999999995, 112.88] \n",
      " Row IDs  [1512, 1624]  mean:  104.235  with values:  [94.599999999999994, 113.87] \n",
      " Row IDs  [1529, 1611]  mean:  125.51  with values:  [125.26000000000001, 125.76000000000001] \n",
      " Row IDs  [1536, 1565]  mean:  91.74  with values:  [93.579999999999998, 89.900000000000006] \n",
      " Row IDs  [1546, 1562]  mean:  115.69  with values:  [110.47, 120.91] \n",
      " Row IDs  [1615, 1559]  mean:  123.705  with values:  [121.5, 125.91] \n",
      " Row IDs  [1592, 1580]  mean:  109.445  with values:  [106.83, 112.06] \n",
      " Row IDs  [1585, 1634, 1607]  mean:  113.43  with values:  [117.59999999999999, 112.27, 110.42] \n",
      " Row IDs  [1626, 1643, 1614]  mean:  108.79  with values:  [133.5, 104.92, 87.950000000000003] \n",
      " Row IDs  [1867, 1679]  mean:  98.7  with values:  [105.64, 91.760000000000005] \n",
      " Row IDs  [1688, 1795]  mean:  108.715  with values:  [110.88, 106.55] \n",
      " Row IDs  [1715, 1726]  mean:  103.09  with values:  [106.18000000000001, 100.0] \n",
      " Row IDs  [1771, 1734]  mean:  107.885  with values:  [109.25, 106.52] \n",
      " Row IDs  [1860, 1814, 1743]  mean:  102.206666667  with values:  [98.189999999999998, 107.97, 100.45999999999999] \n",
      " Row IDs  [1828, 1756]  mean:  115.265  with values:  [119.59, 110.94] \n",
      " Row IDs  [1757, 1838]  mean:  118.44  with values:  [114.56999999999999, 122.31] \n",
      " Row IDs  [1804, 1862]  mean:  96.59  with values:  [92.469999999999999, 100.70999999999999] \n",
      " Row IDs  [1818, 1844, 1813]  mean:  90.8833333333  with values:  [88.310000000000002, 89.189999999999998, 95.150000000000006] \n",
      " Row IDs  [1955, 1870]  mean:  73.195  with values:  [73.890000000000001, 72.5] \n",
      " Row IDs  [1938, 1909]  mean:  90.67  with values:  [89.900000000000006, 91.439999999999998] \n",
      " Row IDs  [1949, 1942]  mean:  93.495  with values:  [94.560000000000002, 92.430000000000007] \n",
      " Row IDs  [1978, 2045]  mean:  108.74  with values:  [108.98999999999999, 108.48999999999999] \n",
      " Row IDs  [2050, 1980, 2062]  mean:  106.493333333  with values:  [109.69, 103.84999999999999, 105.94] \n",
      " Row IDs  [2137, 2002, 1983]  mean:  98.3233333333  with values:  [95.890000000000001, 100.11, 98.969999999999999] \n",
      " Row IDs  [1989, 2135]  mean:  76.345  with values:  [77.640000000000001, 75.049999999999997] \n",
      " Row IDs  [1994, 2158]  mean:  107.495  with values:  [109.63, 105.36] \n",
      " Row IDs  [2066, 2013]  mean:  110.595  with values:  [125.84, 95.349999999999994] \n",
      " Row IDs  [2017, 2027]  mean:  110.83  with values:  [112.53, 109.13] \n",
      " Row IDs  [2018, 2068]  mean:  89.83  with values:  [92.599999999999994, 87.060000000000002] \n",
      " Row IDs  [2101, 2031]  mean:  88.86  with values:  [88.769999999999996, 88.950000000000003] \n",
      " Row IDs  [2156, 2142]  mean:  109.225  with values:  [109.05, 109.40000000000001] \n",
      " Row IDs  [2144, 2148]  mean:  109.5  with values:  [110.2, 108.8] \n",
      " Row IDs  [2232, 2166]  mean:  79.99  with values:  [86.189999999999998, 73.790000000000006] \n",
      " Row IDs  [2177, 2325]  mean:  95.07  with values:  [102.65000000000001, 87.489999999999995] \n",
      " Row IDs  [2192, 2315, 2181, 2237]  mean:  101.8525  with values:  [99.670000000000002, 101.87, 97.159999999999997, 108.70999999999999] , mean minus extremes:  100.77 , mean narrowing:  101.8525 \n",
      " Row IDs  [2200, 2212]  mean:  106.21  with values:  [98.120000000000005, 114.3] \n",
      " Row IDs  [2202, 2316]  mean:  95.445  with values:  [98.959999999999994, 91.930000000000007] \n",
      " Row IDs  [2298, 2206]  mean:  97.015  with values:  [91.989999999999995, 102.04000000000001] \n",
      " Row IDs  [2216, 2209]  mean:  93.51  with values:  [92.519999999999996, 94.5] \n",
      " Row IDs  [2304, 2217]  mean:  117.67  with values:  [121.79000000000001, 113.55] \n",
      " Row IDs  [2284, 2228]  mean:  90.47  with values:  [89.510000000000005, 91.430000000000007] \n",
      " Row IDs  [2234, 2324]  mean:  108.505  with values:  [108.95999999999999, 108.05] \n",
      " Row IDs  [2240, 2278]  mean:  93.91  with values:  [91.310000000000002, 96.510000000000005] \n",
      " Row IDs  [2281, 2270]  mean:  98.125  with values:  [90.359999999999999, 105.89] \n",
      " Row IDs  [2528, 2337, 2350, 2489]  mean:  97.83  with values:  [93.060000000000002, 114.27, 90.280000000000001, 93.709999999999994] , mean minus extremes:  93.385 , mean narrowing:  92.35 \n",
      " Row IDs  [2341, 2470]  mean:  78.225  with values:  [80.290000000000006, 76.159999999999997] \n",
      " Row IDs  [2370, 2347]  mean:  120.1  with values:  [99.950000000000003, 140.25] \n",
      " Row IDs  [2349, 2446]  mean:  121.95  with values:  [108.37, 135.53] \n",
      " Row IDs  [2388, 2382]  mean:  111.735  with values:  [112.43000000000001, 111.04000000000001] \n",
      " Row IDs  [2409, 2402, 2462]  mean:  111.27  with values:  [105.13, 119.7, 108.98] \n",
      " Row IDs  [2548, 2414]  mean:  114.635  with values:  [112.19, 117.08] \n",
      " Row IDs  [2429, 2494]  mean:  87.94  with values:  [90.159999999999997, 85.719999999999999] \n",
      " Row IDs  [2488, 2481, 2476, 2525]  mean:  88.9675  with values:  [90.819999999999993, 89.420000000000002, 85.489999999999995, 90.140000000000001] , mean minus extremes:  89.78 , mean narrowing:  88.9675 \n",
      " Row IDs  [2520, 2507, 2518]  mean:  101.586666667  with values:  [98.790000000000006, 106.41, 99.560000000000002] \n",
      " Row IDs  [2682, 2557]  mean:  88.57  with values:  [86.609999999999999, 90.530000000000001] \n",
      " Row IDs  [2568, 2585, 2582]  mean:  94.2833333333  with values:  [87.780000000000001, 95.579999999999998, 99.489999999999995] \n",
      " Row IDs  [2571, 2734]  mean:  133.46  with values:  [108.69, 158.22999999999999] \n",
      " Row IDs  [2720, 2590]  mean:  90.855  with values:  [89.719999999999999, 91.989999999999995] \n",
      " Row IDs  [2592, 2595]  mean:  96.42  with values:  [94.700000000000003, 98.140000000000001] \n",
      " Row IDs  [2618, 2684]  mean:  92.085  with values:  [90.569999999999993, 93.599999999999994] \n",
      " Row IDs  [2634, 2643]  mean:  109.29  with values:  [108.61, 109.97] \n",
      " Row IDs  [2700, 2655]  mean:  91.11  with values:  [93.219999999999999, 89.0] \n",
      " Row IDs  [2721, 2669]  mean:  109.285  with values:  [108.54000000000001, 110.03] \n",
      " Row IDs  [2694, 2711]  mean:  105.97  with values:  [112.8, 99.140000000000001] \n",
      " Row IDs  [2705, 2751]  mean:  111.155  with values:  [109.0, 113.31] \n",
      " Row IDs  [2707, 2732]  mean:  119.47  with values:  [110.36, 128.58000000000001] \n",
      " Row IDs  [2715, 2719]  mean:  98.93  with values:  [99.019999999999996, 98.840000000000003] \n",
      " Row IDs  [2730, 2749]  mean:  88.755  with values:  [88.629999999999995, 88.879999999999995] \n",
      " Row IDs  [2819, 2772]  mean:  99.825  with values:  [99.400000000000006, 100.25] \n",
      " Row IDs  [2776, 2827, 2780]  mean:  122.846666667  with values:  [125.25, 124.75, 118.54000000000001] \n",
      " Row IDs  [2944, 2783]  mean:  92.21  with values:  [90.799999999999997, 93.620000000000005] \n",
      " Row IDs  [2843, 2787]  mean:  98.765  with values:  [97.510000000000005, 100.02] \n",
      " Row IDs  [2800, 2858]  mean:  107.965  with values:  [106.84999999999999, 109.08] \n",
      " Row IDs  [2840, 2914]  mean:  95.665  with values:  [101.90000000000001, 89.430000000000007] \n",
      " Row IDs  [2936, 2893]  mean:  109.88  with values:  [107.09, 112.67] \n",
      " Row IDs  [3020, 2967]  mean:  111.115  with values:  [108.02, 114.20999999999999] \n",
      " Row IDs  [2977, 3006, 2982, 2991]  mean:  115.155  with values:  [107.34999999999999, 108.81999999999999, 139.16, 105.29000000000001] , mean minus extremes:  108.085 , mean narrowing:  108.085 \n",
      " Row IDs  [3017, 2986]  mean:  91.385  with values:  [86.909999999999997, 95.859999999999999] \n",
      " Row IDs  [3058, 3099, 2988, 3175]  mean:  94.25  with values:  [87.219999999999999, 98.310000000000002, 99.370000000000005, 92.099999999999994] , mean minus extremes:  95.205 , mean narrowing:  94.25 \n",
      " Row IDs  [3056, 2997]  mean:  94.575  with values:  [89.510000000000005, 99.640000000000001] \n",
      " Row IDs  [3088, 3005]  mean:  99.045  with values:  [85.370000000000005, 112.72] \n",
      " Row IDs  [3144, 3009]  mean:  91.16  with values:  [90.480000000000004, 91.840000000000003] \n",
      " Row IDs  [3012, 3110]  mean:  107.44  with values:  [105.7, 109.18000000000001] \n",
      " Row IDs  [3033, 3161, 3047]  mean:  113.36  with values:  [116.13, 112.90000000000001, 111.05] \n",
      " Row IDs  [3082, 3043]  mean:  107.93  with values:  [107.90000000000001, 107.95999999999999] \n",
      " Row IDs  [3113, 3062]  mean:  108.455  with values:  [111.91, 105.0] \n",
      " Row IDs  [3132, 3069]  mean:  136.24  with values:  [165.52000000000001, 106.95999999999999] \n",
      " Row IDs  [3084, 3127]  mean:  74.715  with values:  [75.900000000000006, 73.530000000000001] \n",
      " Row IDs  [3129, 3174]  mean:  101.26  with values:  [94.620000000000005, 107.90000000000001] \n",
      " Row IDs  [3188, 3334]  mean:  111.48  with values:  [110.06999999999999, 112.89] \n",
      " Row IDs  [3194, 3326]  mean:  103.85  with values:  [104.36, 103.34] \n",
      " Row IDs  [3274, 3204, 3322]  mean:  91.2566666667  with values:  [88.099999999999994, 93.040000000000006, 92.629999999999995] \n",
      " Row IDs  [3217, 3367]  mean:  98.88  with values:  [91.939999999999998, 105.81999999999999] \n",
      " Row IDs  [3219, 3324]  mean:  111.58  with values:  [106.23, 116.93000000000001] \n",
      " Row IDs  [3356, 3260]  mean:  90.325  with values:  [91.299999999999997, 89.349999999999994] \n",
      " Row IDs  [3283, 3382]  mean:  108.12  with values:  [106.64, 109.59999999999999] \n",
      " Row IDs  [3286, 3375]  mean:  102.365  with values:  [105.08, 99.650000000000006] \n",
      " Row IDs  [3346, 3317]  mean:  108.595  with values:  [110.14, 107.05] \n",
      " Row IDs  [3330, 3373]  mean:  109.395  with values:  [108.86, 109.93000000000001] \n",
      " Row IDs  [3418, 3493]  mean:  87.485  with values:  [89.079999999999998, 85.890000000000001] \n",
      " Row IDs  [3440, 3518]  mean:  114.515  with values:  [110.16, 118.87] \n",
      " Row IDs  [3522, 3444]  mean:  101.875  with values:  [106.93000000000001, 96.819999999999993] \n",
      " Row IDs  [3525, 3446]  mean:  107.385  with values:  [110.59, 104.18000000000001] \n",
      " Row IDs  [3469, 3462, 3583]  mean:  115.603333333  with values:  [129.65000000000001, 111.51000000000001, 105.65000000000001] \n",
      " Row IDs  [3513, 3492]  mean:  89.42  with values:  [89.620000000000005, 89.219999999999999] \n",
      " Row IDs  [3512, 3495]  mean:  98.72  with values:  [105.03, 92.409999999999997] \n",
      " Row IDs  [3497, 3508]  mean:  102.89  with values:  [109.13, 96.650000000000006] \n",
      " Row IDs  [3580, 3511]  mean:  121.165  with values:  [120.76000000000001, 121.56999999999999] \n",
      " Row IDs  [3664, 3630]  mean:  90.725  with values:  [92.590000000000003, 88.859999999999999] \n",
      " Row IDs  [3817, 3633, 3747, 3705]  mean:  112.785  with values:  [116.36, 116.13, 114.08, 104.56999999999999] , mean minus extremes:  115.105 , mean narrowing:  112.785 \n",
      " Row IDs  [3761, 3637, 3774]  mean:  114.126666667  with values:  [107.34, 128.30000000000001, 106.73999999999999] \n",
      " Row IDs  [3683, 3645]  mean:  90.155  with values:  [91.129999999999995, 89.180000000000007] \n",
      " Row IDs  [3729, 3655]  mean:  100.08  with values:  [98.640000000000001, 101.52] \n",
      " Row IDs  [3804, 3677]  mean:  104.685  with values:  [99.859999999999999, 109.51000000000001] \n",
      " Row IDs  [3684, 3742, 3734]  mean:  103.363333333  with values:  [100.20999999999999, 109.67, 100.20999999999999] \n",
      " Row IDs  [3751, 3687]  mean:  94.555  with values:  [102.45, 86.659999999999997] \n",
      " Row IDs  [3706, 3787]  mean:  100.47  with values:  [100.33, 100.61] \n",
      " Row IDs  [3740, 3789]  mean:  92.42  with values:  [91.170000000000002, 93.670000000000002] \n",
      " Row IDs  [3768, 3805]  mean:  92.645  with values:  [97.159999999999997, 88.129999999999995] \n",
      " Row IDs  [3770, 3790]  mean:  111.955  with values:  [114.73, 109.18000000000001] \n",
      " Row IDs  [3803, 3806]  mean:  104.065  with values:  [104.22, 103.91] \n",
      " Row IDs  [3832, 3812]  mean:  108.07  with values:  [110.73999999999999, 105.40000000000001] \n",
      " Row IDs  [3814, 3823]  mean:  104.76  with values:  [101.12, 108.40000000000001] \n",
      " Row IDs  [3966, 3863]  mean:  88.25  with values:  [88.75, 87.75] \n",
      " Row IDs  [3866, 3974]  mean:  90.63  with values:  [92.409999999999997, 88.849999999999994] \n",
      " Row IDs  [4032, 3875, 3995, 3981]  mean:  108.045  with values:  [108.56999999999999, 108.43000000000001, 108.81999999999999, 106.36] , mean minus extremes:  108.5 , mean narrowing:  108.045 \n",
      " Row IDs  [4016, 3906, 3885]  mean:  108.423333333  with values:  [106.58, 108.7, 109.98999999999999] \n",
      " Row IDs  [3889, 4057, 3892, 4009]  mean:  107.225  with values:  [104.89, 109.5, 104.93000000000001, 109.58] , mean minus extremes:  107.215 , mean narrowing:  107.225 \n",
      " Row IDs  [3904, 3898]  mean:  114.915  with values:  [103.31, 126.52] \n",
      " Row IDs  [4001, 3899]  mean:  89.8  with values:  [94.010000000000005, 85.590000000000003] \n",
      " Row IDs  [3912, 4008]  mean:  117.07  with values:  [125.45, 108.69] \n",
      " Row IDs  [3913, 4060]  mean:  99.69  with values:  [88.280000000000001, 111.09999999999999] \n",
      " Row IDs  [3968, 4045]  mean:  87.58  with values:  [87.219999999999999, 87.939999999999998] \n",
      " Row IDs  [3973, 4007]  mean:  89.605  with values:  [89.959999999999994, 89.25] \n",
      " Row IDs  [4022, 3982]  mean:  78.26  with values:  [82.439999999999998, 74.079999999999998] \n",
      " Row IDs  [4011, 3997]  mean:  88.105  with values:  [88.530000000000001, 87.680000000000007] \n",
      " Row IDs  [4070, 4031]  mean:  87.695  with values:  [85.680000000000007, 89.709999999999994] \n",
      " Row IDs  [4048, 4063]  mean:  102.795  with values:  [100.87, 104.72] \n",
      " Row IDs  [4077, 4085]  mean:  91.03  with values:  [86.959999999999994, 95.099999999999994] \n",
      " Row IDs  [4162, 4132, 4109, 4159]  mean:  109.155  with values:  [104.42, 105.04000000000001, 118.41, 108.75] , mean minus extremes:  106.895 , mean narrowing:  106.07 \n",
      " Row IDs  [4176, 4118]  mean:  107.665  with values:  [106.61, 108.72] \n",
      " Row IDs  [4196, 4124, 4190]  mean:  89.6666666667  with values:  [89.25, 90.819999999999993, 88.930000000000007] \n",
      " Row IDs  [4161, 4134]  mean:  97.66  with values:  [99.739999999999995, 95.579999999999998]\n"
     ]
    }
   ],
   "source": [
    "li_columns = [e for e in list(df_train_eng.columns.values) if e not in {'y_actual', 'y'}]\n",
    "df = df_train_eng[li_columns]\n",
    "li_seen_duplicates = []\n",
    "li_duplicates = []\n",
    "print 'start finding...'\n",
    "#for i in range(235):\n",
    "for i in range(len(df)):\n",
    "    if i not in li_seen_duplicates:\n",
    "        set_pairs = {}\n",
    "        v = df.iloc[i, :].values\n",
    "        for j in range(i+1,len(df)):\n",
    "            if np.array_equal(v,df.iloc[j, :].values):\n",
    "                if i not in li_seen_duplicates: li_seen_duplicates.append(i)\n",
    "                li_seen_duplicates.append(j)\n",
    "                if i not in set_pairs: set_pairs[i] = df_train_eng.ix[df_train_eng.index.tolist()[i],'y']\n",
    "                set_pairs[j] = df_train_eng.ix[df_train_eng.index.tolist()[j],'y']\n",
    "        if set_pairs: li_duplicates.append(set_pairs)\n",
    "    if ((i > 0) & (i % 100 == 0)): print '.',\n",
    "for i in range(len(li_duplicates)):\n",
    "    values = li_duplicates[i].values()\n",
    "    val_narrow = []\n",
    "    mean = sum(values) / len(values)\n",
    "    deviate = 0.08\n",
    "    print '\\n Row IDs ', list(li_duplicates[i].keys()), ' mean: ', mean, ' with values: ', values,\n",
    "    if len(values) >= 4:\n",
    "        print ', mean minus extremes: ', (sum(values) - min(values) - max(values)) / (len(values) - 2),\n",
    "    if len(values) >= 4:\n",
    "        for v in values:\n",
    "            if mean*(1-deviate) <= v <= mean*(1+deviate):\n",
    "                val_narrow.append(v)\n",
    "        print ', mean narrowing: ', sum(val_narrow) / len(val_narrow),"
   ]
  },
  {
   "cell_type": "markdown",
   "metadata": {},
   "source": [
    "Next, let's make a copy of the trainingdata and set the values for all identical row sets to the mean or mean narrow if more than 4 values."
   ]
  },
  {
   "cell_type": "code",
   "execution_count": 10,
   "metadata": {
    "collapsed": true
   },
   "outputs": [],
   "source": [
    "df_train_cp = df_train_eng.copy()"
   ]
  },
  {
   "cell_type": "code",
   "execution_count": 11,
   "metadata": {
    "collapsed": true
   },
   "outputs": [],
   "source": [
    "for i in range(len(li_duplicates)):\n",
    "    values = li_duplicates[i].values()\n",
    "    mean = sum(values) / len(values)\n",
    "    if len(values) > 3:\n",
    "        for v in values:\n",
    "            if mean*(1-deviate) <= v <= mean*(1+deviate):\n",
    "                val_narrow.append(v)\n",
    "        mean = sum(val_narrow) / len(val_narrow)\n",
    "    for j in list(li_duplicates[i].keys()):\n",
    "        df_train_cp.set_value(j ,'y', mean)"
   ]
  },
  {
   "cell_type": "markdown",
   "metadata": {},
   "source": [
    "Write out the dataframe as is to load in this state if required."
   ]
  },
  {
   "cell_type": "code",
   "execution_count": 12,
   "metadata": {
    "collapsed": true
   },
   "outputs": [],
   "source": [
    "df_train_cp.to_csv(path_or_buf='../data/0704_train_cp.csv', index_label='ID', header=True)"
   ]
  },
  {
   "cell_type": "code",
   "execution_count": 13,
   "metadata": {
    "collapsed": true
   },
   "outputs": [],
   "source": [
    "df_train_eng.to_csv(path_or_buf='../data/0704_train_eng.csv', index_label='ID', header=True)"
   ]
  },
  {
   "cell_type": "code",
   "execution_count": 14,
   "metadata": {
    "collapsed": true
   },
   "outputs": [],
   "source": [
    "df_test_eng.to_csv(path_or_buf='../data/0704_test_eng.csv', index_label='ID', header=True)"
   ]
  },
  {
   "cell_type": "markdown",
   "metadata": {},
   "source": [
    "### generating some more training data\n",
    "the amount of data considering the binary features is not much, hence let's produce some more.\n",
    "I figure I'll be adding 10 rows for each pre-existing row: I'll be adding / subtracting a small percentage (probably 1% times number of rows away from start) from the goal y value. The average of the rowset stays the same; the variance is smaller to what I have seen in the dataset earlier (see checking for identical rows and the y values). This should afford me sufficient data to get good model fitting."
   ]
  },
  {
   "cell_type": "code",
   "execution_count": 9,
   "metadata": {
    "collapsed": true
   },
   "outputs": [],
   "source": [
    "df_train_cp = pd.read_csv('../data/0704_train_cp.csv', index_col = 'ID').fillna(0)"
   ]
  },
  {
   "cell_type": "code",
   "execution_count": 10,
   "metadata": {
    "collapsed": true
   },
   "outputs": [],
   "source": [
    "df_train_eng = pd.read_csv('../data/0704_train_eng.csv', index_col='ID').fillna(0)"
   ]
  },
  {
   "cell_type": "code",
   "execution_count": 11,
   "metadata": {
    "collapsed": true
   },
   "outputs": [],
   "source": [
    "df_test_eng = pd.read_csv('../data/0704_test_eng.csv', index_col='ID').fillna(0)"
   ]
  },
  {
   "cell_type": "code",
   "execution_count": 13,
   "metadata": {
    "collapsed": true
   },
   "outputs": [],
   "source": [
    "df_add = pd.DataFrame.from_items([(name, pd.Series(data=None, dtype=series.dtype)) for name, series in df_train_cp.iteritems()])\n",
    "df_add = pd.DataFrame(data = None, columns=df_train_cp.columns)\n",
    "y_index = df_train_cp.columns.get_loc('y')\n",
    "add_vals = 10\n",
    "add_factor = 0.01\n",
    "add_range = range(-(add_vals/2), 0) + range(1, (add_vals/2) + 1)\n",
    "for i in range(len(df_train_cp)):\n",
    "    values = list(df_train_cp.iloc[i,:])\n",
    "    li_add = []\n",
    "    for j in add_range:\n",
    "        li_add.append(values[:])\n",
    "        li_add[len(li_add)-1][y_index] = values[y_index]*(1 + j*add_factor)\n",
    "    df_add = df_add.append(pd.DataFrame(li_add, columns=df_train_cp.columns))"
   ]
  },
  {
   "cell_type": "code",
   "execution_count": 14,
   "metadata": {
    "collapsed": false
   },
   "outputs": [
    {
     "data": {
      "text/plain": [
       "(49324, 515)"
      ]
     },
     "execution_count": 14,
     "metadata": {},
     "output_type": "execute_result"
    }
   ],
   "source": [
    "df_train_cp = pd.concat([df_train_cp, df_add], axis = 0)\n",
    "df_train_cp.shape"
   ]
  },
  {
   "cell_type": "markdown",
   "metadata": {},
   "source": [
    "And writing out this XL train dataset"
   ]
  },
  {
   "cell_type": "code",
   "execution_count": 20,
   "metadata": {
    "collapsed": true
   },
   "outputs": [],
   "source": [
    "df_train_cp.to_csv(path_or_buf='../data/0704_train_cp_XL.csv', index_label='ID', header=True)"
   ]
  },
  {
   "cell_type": "markdown",
   "metadata": {},
   "source": [
    "Just read it in, if it already ran; no need to spend the time. ;-)"
   ]
  },
  {
   "cell_type": "code",
   "execution_count": 12,
   "metadata": {
    "collapsed": true
   },
   "outputs": [],
   "source": [
    "df_train_cp = pd.read_csv('../data/0704_train_cp_XL.csv', index_col = 'ID').fillna(0)"
   ]
  },
  {
   "cell_type": "markdown",
   "metadata": {},
   "source": [
    "## Let's split up the datasets for the subsets\n",
    "The hirarchy (pseudo code):<br>\n",
    "If X127 = 1 then peak 90<br>\n",
    "else if X118 = 1 then peak = 107<br>\n",
    "else if X238 = 1 then peak = 100<br>\n",
    "else peak = 76"
   ]
  },
  {
   "cell_type": "code",
   "execution_count": 13,
   "metadata": {
    "collapsed": false
   },
   "outputs": [],
   "source": [
    "def slice_df(df, code):\n",
    "    # expected values:\n",
    "    #  df is the dataframe to be sliced,\n",
    "    #  code is a list of integers with binary encoding (0 or 1) in the order for X127, X118, X238\n",
    "    if code[0] == 1:\n",
    "        return df[df['X127'] == 1]\n",
    "    elif code[1] == 1:\n",
    "        return df[((df['X127'] == 0) & (df['X118'] == 1))]\n",
    "    elif code[2] == 1:\n",
    "        return df[((df['X127'] == 0) & (df['X118'] == 0) & (df['X238'] == 1))]\n",
    "    else:\n",
    "        return df[((df['X127'] == 0) & (df['X118'] == 0) & (df['X238'] == 0))]\n",
    "    "
   ]
  },
  {
   "cell_type": "code",
   "execution_count": 14,
   "metadata": {
    "collapsed": true
   },
   "outputs": [],
   "source": [
    "li_076 = [0,0,0]\n",
    "li_090 = [1,0,0]\n",
    "li_107 = [0,1,0]\n",
    "li_100 = [0,0,1]"
   ]
  },
  {
   "cell_type": "code",
   "execution_count": 15,
   "metadata": {
    "collapsed": false
   },
   "outputs": [],
   "source": [
    "df_train_cp_076 = slice_df(df_train_cp, li_076)\n",
    "df_train_cp_090 = slice_df(df_train_cp, li_090)\n",
    "df_train_cp_100 = slice_df(df_train_cp, li_100)\n",
    "df_train_cp_107 = slice_df(df_train_cp, li_107)\n",
    "df_train_eng_076 = slice_df(df_train_eng, li_076)\n",
    "df_train_eng_090 = slice_df(df_train_eng, li_090)\n",
    "df_train_eng_100 = slice_df(df_train_eng, li_100)\n",
    "df_train_eng_107 = slice_df(df_train_eng, li_107)\n",
    "df_test_eng_076 = slice_df(df_test_eng, li_076)\n",
    "df_test_eng_090 = slice_df(df_test_eng, li_090)\n",
    "df_test_eng_100 = slice_df(df_test_eng, li_100)\n",
    "df_test_eng_107 = slice_df(df_test_eng, li_107)"
   ]
  },
  {
   "cell_type": "markdown",
   "metadata": {},
   "source": [
    "## Some graphs time:\n",
    "### First one histogram for all y values"
   ]
  },
  {
   "cell_type": "code",
   "execution_count": 16,
   "metadata": {
    "collapsed": false
   },
   "outputs": [
    {
     "data": {
      "image/png": "[encoded data removed]",
      "text/plain": [
       "<matplotlib.figure.Figure at 0x7f8da1dcf690>"
      ]
     },
     "metadata": {},
     "output_type": "display_data"
    }
   ],
   "source": [
    "fig, ax = plt.subplots()\n",
    "sns.distplot(df_train_eng['y'], bins=range(60,180,2), ax=ax, kde=False)\n",
    "ax.set_xlim([60, 180])\n",
    "plt.show()"
   ]
  },
  {
   "cell_type": "markdown",
   "metadata": {},
   "source": [
    "### Then one histogram for the four distinct dataframes"
   ]
  },
  {
   "cell_type": "code",
   "execution_count": 17,
   "metadata": {
    "collapsed": false
   },
   "outputs": [
    {
     "data": {
      "image/png": "[encoded data removed]",
      "text/plain": [
       "<matplotlib.figure.Figure at 0x7f8d6b0ed9d0>"
      ]
     },
     "metadata": {},
     "output_type": "display_data"
    }
   ],
   "source": [
    "fig, ax = plt.subplots()\n",
    "for a in [df_train_eng_076['y'], df_train_eng_090['y'], df_train_eng_100['y'], df_train_eng_107['y']]:\n",
    "    sns.distplot(a, bins=range(60,180,2), ax=ax, kde=False)\n",
    "ax.set_xlim([60, 180])\n",
    "plt.show()"
   ]
  },
  {
   "cell_type": "markdown",
   "metadata": {},
   "source": [
    "## Now for some model building:\n",
    "I'll be using 70% of the artificial created data (train_cp) to train the individual models, the remaining 30% to evaluate the individual models and 100% of the original train data (train_eng) to validate the combination of the models. (There is at this time no second tier ML model to be trained to combine these models, so no train / test split of the originaa train data required)"
   ]
  },
  {
   "cell_type": "code",
   "execution_count": 18,
   "metadata": {
    "collapsed": true
   },
   "outputs": [],
   "source": [
    "li_all_test = [df_test_eng_076, df_test_eng_090, df_test_eng_100, df_test_eng_107]\n",
    "li_all_train = [df_train_cp_076, df_train_cp_090, df_train_cp_100, df_train_cp_107]\n",
    "li_all_val = [df_train_eng_076, df_train_eng_090, df_train_eng_100, df_train_eng_107]"
   ]
  },
  {
   "cell_type": "code",
   "execution_count": null,
   "metadata": {
    "collapsed": false,
    "scrolled": false
   },
   "outputs": [
    {
     "name": "stderr",
     "output_type": "stream",
     "text": [
      "/home/kaggler/anaconda2/lib/python2.7/site-packages/sklearn/model_selection/_search.py:667: DeprecationWarning: The grid_scores_ attribute was deprecated in version 0.18 in favor of the more elaborate cv_results_ attribute. The grid_scores_ attribute will not be available from 0.20\n",
      "  DeprecationWarning)\n",
      "/home/kaggler/anaconda2/lib/python2.7/site-packages/sklearn/model_selection/_search.py:667: DeprecationWarning: The grid_scores_ attribute was deprecated in version 0.18 in favor of the more elaborate cv_results_ attribute. The grid_scores_ attribute will not be available from 0.20\n",
      "  DeprecationWarning)\n"
     ]
    },
    {
     "name": "stdout",
     "output_type": "stream",
     "text": [
      "[mean: 0.37597, std: 0.33873, params: {'n_estimators': 400, 'learning_rate': 0.1, 'colsample_bytree': 0.85, 'max_depth': 8, 'min_child_weight': 1}, mean: 0.37580, std: 0.33841, params: {'n_estimators': 600, 'learning_rate': 0.1, 'colsample_bytree': 0.85, 'max_depth': 8, 'min_child_weight': 1}, mean: 0.36861, std: 0.33050, params: {'n_estimators': 400, 'learning_rate': 0.1, 'colsample_bytree': 0.85, 'max_depth': 8, 'min_child_weight': 3}, mean: 0.37230, std: 0.33483, params: {'n_estimators': 600, 'learning_rate': 0.1, 'colsample_bytree': 0.85, 'max_depth': 8, 'min_child_weight': 3}, mean: 0.37831, std: 0.33951, params: {'n_estimators': 400, 'learning_rate': 0.1, 'colsample_bytree': 0.85, 'max_depth': 10, 'min_child_weight': 1}, mean: 0.37797, std: 0.33889, params: {'n_estimators': 600, 'learning_rate': 0.1, 'colsample_bytree': 0.85, 'max_depth': 10, 'min_child_weight': 1}, mean: 0.37426, std: 0.33516, params: {'n_estimators': 400, 'learning_rate': 0.1, 'colsample_bytree': 0.85, 'max_depth': 10, 'min_child_weight': 3}, mean: 0.37511, std: 0.33673, params: {'n_estimators': 600, 'learning_rate': 0.1, 'colsample_bytree': 0.85, 'max_depth': 10, 'min_child_weight': 3}, mean: 0.37584, std: 0.33874, params: {'n_estimators': 400, 'learning_rate': 0.1, 'colsample_bytree': 0.95, 'max_depth': 8, 'min_child_weight': 1}, mean: 0.37567, std: 0.33837, params: {'n_estimators': 600, 'learning_rate': 0.1, 'colsample_bytree': 0.95, 'max_depth': 8, 'min_child_weight': 1}, mean: 0.37076, std: 0.33184, params: {'n_estimators': 400, 'learning_rate': 0.1, 'colsample_bytree': 0.95, 'max_depth': 8, 'min_child_weight': 3}, mean: 0.37311, std: 0.33521, params: {'n_estimators': 600, 'learning_rate': 0.1, 'colsample_bytree': 0.95, 'max_depth': 8, 'min_child_weight': 3}, mean: 0.37324, std: 0.33890, params: {'n_estimators': 400, 'learning_rate': 0.1, 'colsample_bytree': 0.95, 'max_depth': 10, 'min_child_weight': 1}, mean: 0.37224, std: 0.33817, params: {'n_estimators': 600, 'learning_rate': 0.1, 'colsample_bytree': 0.95, 'max_depth': 10, 'min_child_weight': 1}, mean: 0.37016, std: 0.33520, params: {'n_estimators': 400, 'learning_rate': 0.1, 'colsample_bytree': 0.95, 'max_depth': 10, 'min_child_weight': 3}, mean: 0.37117, std: 0.33636, params: {'n_estimators': 600, 'learning_rate': 0.1, 'colsample_bytree': 0.95, 'max_depth': 10, 'min_child_weight': 3}]\n",
      "0.378306284183\n",
      "colsample_bytree: 0.85\n",
      "learning_rate: 0.1\n",
      "max_depth: 10\n",
      "min_child_weight: 1\n",
      "n_estimators: 400\n",
      "0 :  -1.09091586025\n"
     ]
    },
    {
     "data": {
      "image/png": "[encoded data removed]",
      "text/plain": [
       "<matplotlib.figure.Figure at 0x7f8d6ad1f5d0>"
      ]
     },
     "metadata": {},
     "output_type": "display_data"
    },
    {
     "name": "stderr",
     "output_type": "stream",
     "text": [
      "/home/kaggler/anaconda2/lib/python2.7/site-packages/sklearn/model_selection/_search.py:667: DeprecationWarning: The grid_scores_ attribute was deprecated in version 0.18 in favor of the more elaborate cv_results_ attribute. The grid_scores_ attribute will not be available from 0.20\n",
      "  DeprecationWarning)\n",
      "/home/kaggler/anaconda2/lib/python2.7/site-packages/sklearn/model_selection/_search.py:667: DeprecationWarning: The grid_scores_ attribute was deprecated in version 0.18 in favor of the more elaborate cv_results_ attribute. The grid_scores_ attribute will not be available from 0.20\n",
      "  DeprecationWarning)\n"
     ]
    },
    {
     "name": "stdout",
     "output_type": "stream",
     "text": [
      "[mean: 0.61842, std: 0.15714, params: {'n_estimators': 500, 'learning_rate': 0.1, 'colsample_bytree': 0.7, 'max_depth': 7, 'min_child_weight': 2}, mean: 0.65553, std: 0.17838, params: {'n_estimators': 700, 'learning_rate': 0.1, 'colsample_bytree': 0.7, 'max_depth': 7, 'min_child_weight': 2}, mean: 0.57012, std: 0.13793, params: {'n_estimators': 500, 'learning_rate': 0.1, 'colsample_bytree': 0.7, 'max_depth': 7, 'min_child_weight': 4}, mean: 0.61971, std: 0.16180, params: {'n_estimators': 700, 'learning_rate': 0.1, 'colsample_bytree': 0.7, 'max_depth': 7, 'min_child_weight': 4}, mean: 0.68243, std: 0.18069, params: {'n_estimators': 500, 'learning_rate': 0.1, 'colsample_bytree': 0.7, 'max_depth': 9, 'min_child_weight': 2}, mean: 0.69557, std: 0.19049, params: {'n_estimators': 700, 'learning_rate': 0.1, 'colsample_bytree': 0.7, 'max_depth': 9, 'min_child_weight': 2}, mean: 0.65028, std: 0.16699, params: {'n_estimators': 500, 'learning_rate': 0.1, 'colsample_bytree': 0.7, 'max_depth': 9, 'min_child_weight': 4}, mean: 0.67421, std: 0.17963, params: {'n_estimators': 700, 'learning_rate': 0.1, 'colsample_bytree': 0.7, 'max_depth': 9, 'min_child_weight': 4}, mean: 0.62242, std: 0.16893, params: {'n_estimators': 500, 'learning_rate': 0.1, 'colsample_bytree': 0.9, 'max_depth': 7, 'min_child_weight': 2}, mean: 0.65532, std: 0.18742, params: {'n_estimators': 700, 'learning_rate': 0.1, 'colsample_bytree': 0.9, 'max_depth': 7, 'min_child_weight': 2}, mean: 0.57965, std: 0.15036, params: {'n_estimators': 500, 'learning_rate': 0.1, 'colsample_bytree': 0.9, 'max_depth': 7, 'min_child_weight': 4}, mean: 0.62790, std: 0.17398, params: {'n_estimators': 700, 'learning_rate': 0.1, 'colsample_bytree': 0.9, 'max_depth': 7, 'min_child_weight': 4}, mean: 0.67847, std: 0.19262, params: {'n_estimators': 500, 'learning_rate': 0.1, 'colsample_bytree': 0.9, 'max_depth': 9, 'min_child_weight': 2}, mean: 0.69157, std: 0.20173, params: {'n_estimators': 700, 'learning_rate': 0.1, 'colsample_bytree': 0.9, 'max_depth': 9, 'min_child_weight': 2}, mean: 0.65403, std: 0.17460, params: {'n_estimators': 500, 'learning_rate': 0.1, 'colsample_bytree': 0.9, 'max_depth': 9, 'min_child_weight': 4}, mean: 0.67654, std: 0.18845, params: {'n_estimators': 700, 'learning_rate': 0.1, 'colsample_bytree': 0.9, 'max_depth': 9, 'min_child_weight': 4}]\n",
      "0.695567468411\n",
      "colsample_bytree: 0.7\n",
      "learning_rate: 0.1\n",
      "max_depth: 9\n",
      "min_child_weight: 2\n",
      "n_estimators: 700\n",
      "1 :  0.762081916236\n"
     ]
    },
    {
     "data": {
      "image/png": "[encoded data removed]",
      "text/plain": [
       "<matplotlib.figure.Figure at 0x7f8d6a81ab10>"
      ]
     },
     "metadata": {},
     "output_type": "display_data"
    },
    {
     "name": "stderr",
     "output_type": "stream",
     "text": [
      "/home/kaggler/anaconda2/lib/python2.7/site-packages/sklearn/model_selection/_search.py:667: DeprecationWarning: The grid_scores_ attribute was deprecated in version 0.18 in favor of the more elaborate cv_results_ attribute. The grid_scores_ attribute will not be available from 0.20\n",
      "  DeprecationWarning)\n",
      "/home/kaggler/anaconda2/lib/python2.7/site-packages/sklearn/model_selection/_search.py:667: DeprecationWarning: The grid_scores_ attribute was deprecated in version 0.18 in favor of the more elaborate cv_results_ attribute. The grid_scores_ attribute will not be available from 0.20\n",
      "  DeprecationWarning)\n"
     ]
    },
    {
     "name": "stdout",
     "output_type": "stream",
     "text": [
      "[mean: 0.57883, std: 0.20014, params: {'n_estimators': 500, 'learning_rate': 0.1, 'colsample_bytree': 0.7, 'max_depth': 7, 'min_child_weight': 2}, mean: 0.59301, std: 0.20722, params: {'n_estimators': 700, 'learning_rate': 0.1, 'colsample_bytree': 0.7, 'max_depth': 7, 'min_child_weight': 2}, mean: 0.55252, std: 0.18074, params: {'n_estimators': 500, 'learning_rate': 0.1, 'colsample_bytree': 0.7, 'max_depth': 7, 'min_child_weight': 4}, mean: 0.57414, std: 0.19443, params: {'n_estimators': 700, 'learning_rate': 0.1, 'colsample_bytree': 0.7, 'max_depth': 7, 'min_child_weight': 4}, mean: 0.60933, std: 0.19603, params: {'n_estimators': 500, 'learning_rate': 0.1, 'colsample_bytree': 0.7, 'max_depth': 9, 'min_child_weight': 2}, mean: 0.61569, std: 0.20020, params: {'n_estimators': 700, 'learning_rate': 0.1, 'colsample_bytree': 0.7, 'max_depth': 9, 'min_child_weight': 2}, mean: 0.58755, std: 0.19383, params: {'n_estimators': 500, 'learning_rate': 0.1, 'colsample_bytree': 0.7, 'max_depth': 9, 'min_child_weight': 4}, mean: 0.59942, std: 0.20150, params: {'n_estimators': 700, 'learning_rate': 0.1, 'colsample_bytree': 0.7, 'max_depth': 9, 'min_child_weight': 4}, mean: 0.58727, std: 0.19100, params: {'n_estimators': 500, 'learning_rate': 0.1, 'colsample_bytree': 0.9, 'max_depth': 7, 'min_child_weight': 2}, mean: 0.60119, std: 0.19782, params: {'n_estimators': 700, 'learning_rate': 0.1, 'colsample_bytree': 0.9, 'max_depth': 7, 'min_child_weight': 2}, mean: 0.56075, std: 0.18187, params: {'n_estimators': 500, 'learning_rate': 0.1, 'colsample_bytree': 0.9, 'max_depth': 7, 'min_child_weight': 4}, mean: 0.58233, std: 0.18953, params: {'n_estimators': 700, 'learning_rate': 0.1, 'colsample_bytree': 0.9, 'max_depth': 7, 'min_child_weight': 4}, mean: 0.61347, std: 0.19179, params: {'n_estimators': 500, 'learning_rate': 0.1, 'colsample_bytree': 0.9, 'max_depth': 9, 'min_child_weight': 2}, mean: 0.62032, std: 0.19541, params: {'n_estimators': 700, 'learning_rate': 0.1, 'colsample_bytree': 0.9, 'max_depth': 9, 'min_child_weight': 2}, mean: 0.59332, std: 0.19252, params: {'n_estimators': 500, 'learning_rate': 0.1, 'colsample_bytree': 0.9, 'max_depth': 9, 'min_child_weight': 4}, mean: 0.60492, std: 0.19804, params: {'n_estimators': 700, 'learning_rate': 0.1, 'colsample_bytree': 0.9, 'max_depth': 9, 'min_child_weight': 4}]\n",
      "0.620321612616\n",
      "colsample_bytree: 0.9\n",
      "learning_rate: 0.1\n",
      "max_depth: 9\n",
      "min_child_weight: 2\n",
      "n_estimators: 700\n",
      "2 :  0.730987108062\n"
     ]
    },
    {
     "data": {
      "image/png": "[encoded data removed]",
      "text/plain": [
       "<matplotlib.figure.Figure at 0x7f8d6122b450>"
      ]
     },
     "metadata": {},
     "output_type": "display_data"
    },
    {
     "name": "stderr",
     "output_type": "stream",
     "text": [
      "/home/kaggler/anaconda2/lib/python2.7/site-packages/sklearn/model_selection/_search.py:667: DeprecationWarning: The grid_scores_ attribute was deprecated in version 0.18 in favor of the more elaborate cv_results_ attribute. The grid_scores_ attribute will not be available from 0.20\n",
      "  DeprecationWarning)\n",
      "/home/kaggler/anaconda2/lib/python2.7/site-packages/sklearn/model_selection/_search.py:667: DeprecationWarning: The grid_scores_ attribute was deprecated in version 0.18 in favor of the more elaborate cv_results_ attribute. The grid_scores_ attribute will not be available from 0.20\n",
      "  DeprecationWarning)\n"
     ]
    },
    {
     "name": "stdout",
     "output_type": "stream",
     "text": [
      "[mean: 0.57655, std: 0.21761, params: {'n_estimators': 500, 'learning_rate': 0.1, 'colsample_bytree': 0.7, 'max_depth': 7, 'min_child_weight': 2}, mean: 0.59446, std: 0.22833, params: {'n_estimators': 700, 'learning_rate': 0.1, 'colsample_bytree': 0.7, 'max_depth': 7, 'min_child_weight': 2}, mean: 0.54766, std: 0.20276, params: {'n_estimators': 500, 'learning_rate': 0.1, 'colsample_bytree': 0.7, 'max_depth': 7, 'min_child_weight': 4}, mean: 0.57577, std: 0.21703, params: {'n_estimators': 700, 'learning_rate': 0.1, 'colsample_bytree': 0.7, 'max_depth': 7, 'min_child_weight': 4}, mean: 0.61123, std: 0.23088, params: {'n_estimators': 500, 'learning_rate': 0.1, 'colsample_bytree': 0.7, 'max_depth': 9, 'min_child_weight': 2}, mean: 0.61989, std: 0.23519, params: {'n_estimators': 700, 'learning_rate': 0.1, 'colsample_bytree': 0.7, 'max_depth': 9, 'min_child_weight': 2}, mean: 0.57990, std: 0.24654, params: {'n_estimators': 500, 'learning_rate': 0.1, 'colsample_bytree': 0.7, 'max_depth': 9, 'min_child_weight': 4}, mean: 0.59292, std: 0.25556, params: {'n_estimators': 700, 'learning_rate': 0.1, 'colsample_bytree': 0.7, 'max_depth': 9, 'min_child_weight': 4}, mean: 0.58393, std: 0.21462, params: {'n_estimators': 500, 'learning_rate': 0.1, 'colsample_bytree': 0.9, 'max_depth': 7, 'min_child_weight': 2}, mean: 0.60086, std: 0.22379, params: {'n_estimators': 700, 'learning_rate': 0.1, 'colsample_bytree': 0.9, 'max_depth': 7, 'min_child_weight': 2}, mean: 0.56164, std: 0.19371, params: {'n_estimators': 500, 'learning_rate': 0.1, 'colsample_bytree': 0.9, 'max_depth': 7, 'min_child_weight': 4}, mean: 0.58363, std: 0.21063, params: {'n_estimators': 700, 'learning_rate': 0.1, 'colsample_bytree': 0.9, 'max_depth': 7, 'min_child_weight': 4}, mean: 0.61262, std: 0.23278, params: {'n_estimators': 500, 'learning_rate': 0.1, 'colsample_bytree': 0.9, 'max_depth': 9, 'min_child_weight': 2}, mean: 0.61849, std: 0.24063, params: {'n_estimators': 700, 'learning_rate': 0.1, 'colsample_bytree': 0.9, 'max_depth': 9, 'min_child_weight': 2}, mean: 0.60000, std: 0.21741, params: {'n_estimators': 500, 'learning_rate': 0.1, 'colsample_bytree': 0.9, 'max_depth': 9, 'min_child_weight': 4}, mean: 0.61298, std: 0.22414, params: {'n_estimators': 700, 'learning_rate': 0.1, 'colsample_bytree': 0.9, 'max_depth': 9, 'min_child_weight': 4}]\n",
      "0.619888213954\n",
      "colsample_bytree: 0.7\n",
      "learning_rate: 0.1\n",
      "max_depth: 9\n",
      "min_child_weight: 2\n",
      "n_estimators: 700\n",
      "3 :  0.652864795956\n"
     ]
    },
    {
     "data": {
      "image/png": "[encoded data removed]",
      "text/plain": [
       "<matplotlib.figure.Figure at 0x7f8d6ae84e50>"
      ]
     },
     "metadata": {},
     "output_type": "display_data"
    },
    {
     "name": "stdout",
     "output_type": "stream",
     "text": [
      "all:  0.874960565554\n"
     ]
    },
    {
     "data": {
      "image/png": "[encoded data removed]",
      "text/plain": [
       "<matplotlib.figure.Figure at 0x7f8d6adeb2d0>"
      ]
     },
     "metadata": {},
     "output_type": "display_data"
    }
   ],
   "source": [
    "list_index = list(df_test_eng.columns.values)\n",
    "li_remove = ['y']\n",
    "for x in li_remove:\n",
    "    list_index.remove(x)\n",
    "list_test = list_index\n",
    "list_train = ['y'] + list_test\n",
    "df_pred = pd.DataFrame()\n",
    "y_pred_all = pd.Series()\n",
    "y_Kaggle_all = pd.Series()\n",
    "y_test_all = pd.Series()\n",
    "df_Kaggle_all = pd.DataFrame()\n",
    "\n",
    "# list of parameters for each sub-set\n",
    "cv_params_076 = {'max_depth': [8,10], 'learning_rate': [0.1], 'min_child_weight': [1,3], 'n_estimators': [400,600], 'colsample_bytree': [0.85, 0.95]}\n",
    "cv_params_090 = {'max_depth': [7,9], 'learning_rate': [0.1], 'min_child_weight': [2,4], 'n_estimators': [500,700], 'colsample_bytree': [0.7, 0.9]}\n",
    "cv_params_100 = {'max_depth': [7,9], 'learning_rate': [0.1], 'min_child_weight': [2,4], 'n_estimators': [500,700], 'colsample_bytree': [0.7, 0.9]}\n",
    "cv_params_107 = {'max_depth': [7,9], 'learning_rate': [0.1], 'min_child_weight': [2,4], 'n_estimators': [500,700], 'colsample_bytree': [0.7, 0.9]}\n",
    "ind_params_076 = {'seed':0, 'subsample': 0.8}\n",
    "ind_params_090 = {'seed':0, 'subsample': 0.8}\n",
    "ind_params_100 = {'seed':0, 'subsample': 0.8}\n",
    "ind_params_107 = {'seed':0, 'subsample': 0.8}\n",
    "\n",
    "cv_params = [cv_params_076, cv_params_090, cv_params_100, cv_params_107]\n",
    "ind_params = [ind_params_076, ind_params_090, ind_params_100, ind_params_107]\n",
    "\n",
    "for i in range(len(li_all_test)):\n",
    "    X_train = li_all_train[i][list_train]\n",
    "    X_test = li_all_val[i][list_train]\n",
    "    df_Kaggle = li_all_test[i][list_test]\n",
    "    y_train = X_train['y']\n",
    "    y_test = X_test['y']\n",
    "    X_train = X_train.drop('y', axis=1)\n",
    "    X_test = X_test.drop('y', axis=1)\n",
    "\n",
    "    model = GridSearchCV(xgb.XGBRegressor(**ind_params[i]), cv_params[i], scoring = 'r2', cv = 5) \n",
    "    model.fit(X_train, y_train)\n",
    "    print model.grid_scores_\n",
    "    #print model.cv_results_\n",
    "    best_parameters, score, _ = max(model.grid_scores_, key=lambda x: x[1])\n",
    "    print(score)\n",
    "    for param_name in sorted(best_parameters.keys()):\n",
    "        print(\"%s: %r\" % (param_name, best_parameters[param_name]))\n",
    "    y_pred = pd.Series(model.predict(X_test), name='y_pred', index=X_test.index)\n",
    "    y_Kaggle = pd.Series(model.predict(df_Kaggle), name='y', index=df_Kaggle.index)\n",
    "    y_pred_all = y_pred_all.append(y_pred)\n",
    "    y_test_all = y_test_all.append(y_test)\n",
    "    df_Kaggle_all = df_Kaggle_all.append(df_Kaggle)\n",
    "    y_Kaggle_all = y_Kaggle_all.append(y_Kaggle)\n",
    "    print i, ': ', r2_score(y_test, y_pred)\n",
    "    sns.regplot(y_test, y_pred)\n",
    "    plt.show()\n",
    "\n",
    "print 'all: ', r2_score(y_test_all, y_pred_all)\n",
    "sns.regplot(y_test_all, y_pred_all)\n",
    "plt.show()\n",
    "\n",
    "output_Kaggle = pd.Series(y_Kaggle_all, name='y', index=df_Kaggle_all.index)\n",
    "#output_Kaggle.to_csv(path='../data/20170618.2200.a_to_u_models.xgboost.csv', index_label='ID', header = True)"
   ]
  },
  {
   "cell_type": "code",
   "execution_count": null,
   "metadata": {
    "collapsed": true
   },
   "outputs": [],
   "source": []
  },
  {
   "cell_type": "code",
   "execution_count": null,
   "metadata": {
    "collapsed": true
   },
   "outputs": [],
   "source": []
  }
 ],
 "metadata": {
  "kernelspec": {
   "display_name": "Python 2",
   "language": "python",
   "name": "python2"
  },
  "language_info": {
   "codemirror_mode": {
    "name": "ipython",
    "version": 2
   },
   "file_extension": ".py",
   "mimetype": "text/x-python",
   "name": "python",
   "nbconvert_exporter": "python",
   "pygments_lexer": "ipython2",
   "version": "2.7.13"
  }
 },
 "nbformat": 4,
 "nbformat_minor": 2
}
